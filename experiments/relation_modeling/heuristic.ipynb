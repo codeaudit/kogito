{
 "cells": [
  {
   "cell_type": "markdown",
   "metadata": {},
   "source": [
    "## Heuristic Relation Matcher"
   ]
  },
  {
   "cell_type": "code",
   "execution_count": 18,
   "metadata": {},
   "outputs": [],
   "source": [
    "import pandas as pd\n",
    "from relation_modeling_utils import load_data, explode_labels\n",
    "\n",
    "val_df = explode_labels(load_data(\"data/atomic2020_data-feb2021/dev.tsv\", multi_label=True))\n",
    "\n",
    "train_n1_df = pd.read_csv(\"data/atomic_split/n1/train_n1.csv\")\n",
    "test_n1_df = pd.read_csv(\"data/atomic_split/n1/test_n1.csv\")\n",
    "\n",
    "train_n3_df = pd.read_csv(\"data/atomic_split/n3/train_n3.csv\")\n",
    "test_n3_df = pd.read_csv(\"data/atomic_split/n3/test_n3.csv\")\n",
    "\n",
    "train_n5_df = pd.read_csv(\"data/atomic_split/n5/train_n5.csv\")\n",
    "test_n5_df = pd.read_csv(\"data/atomic_split/n5/test_n5.csv\")"
   ]
  },
  {
   "cell_type": "code",
   "execution_count": 23,
   "metadata": {},
   "outputs": [],
   "source": [
    "import torch\n",
    "import numpy as np\n",
    "\n",
    "from relation_modeling_utils import report_metrics\n",
    "\n",
    "def convert_str_to_list(x):\n",
    "    if isinstance(x, list):\n",
    "        return x\n",
    "    return [int(n) for n in x[1:-1].split(',')]\n",
    "\n",
    "\n",
    "def evaluate(model, df):\n",
    "    preds = model.predict(df)\n",
    "    report_metrics(torch.tensor(preds, dtype=float), torch.tensor(np.asarray(df.label.apply(convert_str_to_list).to_list())))"
   ]
  },
  {
   "cell_type": "code",
   "execution_count": 20,
   "metadata": {},
   "outputs": [],
   "source": [
    "from relation_modeling_utils import HeuristicClassifier\n",
    "heuristic_model = HeuristicClassifier()"
   ]
  },
  {
   "cell_type": "markdown",
   "metadata": {},
   "source": [
    "### Validation results"
   ]
  },
  {
   "cell_type": "code",
   "execution_count": 24,
   "metadata": {},
   "outputs": [
    {
     "name": "stderr",
     "output_type": "stream",
     "text": [
      "100%|██████████| 2962/2962 [00:10<00:00, 273.85it/s]"
     ]
    },
    {
     "name": "stdout",
     "output_type": "stream",
     "text": [
      "Accuracy=0.765, precision=0.806, recall=0.816, f1=0.803\n"
     ]
    },
    {
     "name": "stderr",
     "output_type": "stream",
     "text": [
      "\n"
     ]
    }
   ],
   "source": [
    "evaluate(heuristic_model, val_df)"
   ]
  },
  {
   "cell_type": "markdown",
   "metadata": {},
   "source": [
    "### N1 results"
   ]
  },
  {
   "cell_type": "code",
   "execution_count": 25,
   "metadata": {},
   "outputs": [
    {
     "name": "stderr",
     "output_type": "stream",
     "text": [
      "100%|██████████| 40777/40777 [02:13<00:00, 305.62it/s]\n"
     ]
    },
    {
     "name": "stdout",
     "output_type": "stream",
     "text": [
      "Accuracy=0.833, precision=0.835, recall=0.841, f1=0.835\n"
     ]
    }
   ],
   "source": [
    "evaluate(heuristic_model, train_n1_df)"
   ]
  },
  {
   "cell_type": "code",
   "execution_count": 26,
   "metadata": {},
   "outputs": [
    {
     "name": "stderr",
     "output_type": "stream",
     "text": [
      "100%|██████████| 810/810 [00:02<00:00, 286.92it/s]"
     ]
    },
    {
     "name": "stdout",
     "output_type": "stream",
     "text": [
      "Accuracy=0.788, precision=0.719, recall=0.748, f1=0.728\n"
     ]
    },
    {
     "name": "stderr",
     "output_type": "stream",
     "text": [
      "\n"
     ]
    }
   ],
   "source": [
    "evaluate(heuristic_model, test_n1_df)"
   ]
  },
  {
   "cell_type": "markdown",
   "metadata": {},
   "source": [
    "### N3 results"
   ]
  },
  {
   "cell_type": "code",
   "execution_count": 27,
   "metadata": {},
   "outputs": [
    {
     "name": "stderr",
     "output_type": "stream",
     "text": [
      "100%|██████████| 40516/40516 [02:07<00:00, 316.90it/s]\n"
     ]
    },
    {
     "name": "stdout",
     "output_type": "stream",
     "text": [
      "Accuracy=0.834, precision=0.837, recall=0.842, f1=0.837\n"
     ]
    }
   ],
   "source": [
    "evaluate(heuristic_model, train_n3_df)"
   ]
  },
  {
   "cell_type": "code",
   "execution_count": 28,
   "metadata": {},
   "outputs": [
    {
     "name": "stderr",
     "output_type": "stream",
     "text": [
      "100%|██████████| 1071/1071 [00:03<00:00, 300.66it/s]"
     ]
    },
    {
     "name": "stdout",
     "output_type": "stream",
     "text": [
      "Accuracy=0.739, precision=0.696, recall=0.702, f1=0.687\n"
     ]
    },
    {
     "name": "stderr",
     "output_type": "stream",
     "text": [
      "\n"
     ]
    }
   ],
   "source": [
    "evaluate(heuristic_model, test_n3_df)"
   ]
  },
  {
   "cell_type": "markdown",
   "metadata": {},
   "source": [
    "### N5 results"
   ]
  },
  {
   "cell_type": "code",
   "execution_count": 29,
   "metadata": {},
   "outputs": [
    {
     "name": "stderr",
     "output_type": "stream",
     "text": [
      "100%|██████████| 40395/40395 [02:07<00:00, 316.70it/s]\n"
     ]
    },
    {
     "name": "stdout",
     "output_type": "stream",
     "text": [
      "Accuracy=0.835, precision=0.837, recall=0.843, f1=0.837\n"
     ]
    }
   ],
   "source": [
    "evaluate(heuristic_model, train_n5_df)"
   ]
  },
  {
   "cell_type": "code",
   "execution_count": 30,
   "metadata": {},
   "outputs": [
    {
     "name": "stderr",
     "output_type": "stream",
     "text": [
      "100%|██████████| 1192/1192 [00:03<00:00, 301.16it/s]"
     ]
    },
    {
     "name": "stdout",
     "output_type": "stream",
     "text": [
      "Accuracy=0.728, precision=0.711, recall=0.693, f1=0.687\n"
     ]
    },
    {
     "name": "stderr",
     "output_type": "stream",
     "text": [
      "\n"
     ]
    }
   ],
   "source": [
    "evaluate(heuristic_model, test_n5_df)"
   ]
  }
 ],
 "metadata": {
  "kernelspec": {
   "display_name": "Python 3.8.12 64-bit ('kogito')",
   "language": "python",
   "name": "python3"
  },
  "language_info": {
   "codemirror_mode": {
    "name": "ipython",
    "version": 3
   },
   "file_extension": ".py",
   "mimetype": "text/x-python",
   "name": "python",
   "nbconvert_exporter": "python",
   "pygments_lexer": "ipython3",
   "version": "3.8.12"
  },
  "orig_nbformat": 4,
  "vscode": {
   "interpreter": {
    "hash": "78e267dbbd536cf72b9151fa10598d02f0742e0d77c5a78f8f9ba9a5d38a282d"
   }
  }
 },
 "nbformat": 4,
 "nbformat_minor": 2
}
