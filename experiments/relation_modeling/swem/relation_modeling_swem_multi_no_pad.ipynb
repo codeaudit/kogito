{
 "cells": [
  {
   "cell_type": "code",
   "execution_count": 11,
   "metadata": {},
   "outputs": [
    {
     "name": "stdout",
     "output_type": "stream",
     "text": [
      "The autoreload extension is already loaded. To reload it, use:\n",
      "  %reload_ext autoreload\n"
     ]
    }
   ],
   "source": [
    "%load_ext autoreload\n",
    "%autoreload 2"
   ]
  },
  {
   "cell_type": "code",
   "execution_count": 12,
   "metadata": {},
   "outputs": [],
   "source": [
    "import numpy as np\n",
    "VOCAB, EMBEDDING_MATRIX = np.load(\"data/vocab_glove_100d.npy\", allow_pickle=True).item(), np.load(\"data/embedding_matrix_glove_100d.npy\", allow_pickle=True)"
   ]
  },
  {
   "cell_type": "code",
   "execution_count": 14,
   "metadata": {},
   "outputs": [],
   "source": [
    "import torch\n",
    "from torch.utils.data import DataLoader\n",
    "from torch.optim import Adam\n",
    "from torch import nn\n",
    "import pytorch_lightning as pl\n",
    "import torchmetrics\n",
    "import torch.nn.functional as F\n",
    "\n",
    "class SWEMMultiNoPadClassifier(pl.LightningModule):\n",
    "    def __init__(self, num_classes=3, embedding_dim=100, learning_rate=1e-3):\n",
    "        super().__init__()\n",
    "        self.linear = nn.Linear(embedding_dim, num_classes)\n",
    "        self.model = nn.Sequential(self.linear)\n",
    "        self.criterion = nn.BCEWithLogitsLoss()\n",
    "        self.learning_rate = learning_rate\n",
    "        self.train_accuracy = torchmetrics.Accuracy()\n",
    "        self.val_accuracy = torchmetrics.Accuracy()\n",
    "        self.train_precision = torchmetrics.Precision(num_classes=3, average='weighted')\n",
    "        self.val_precision = torchmetrics.Precision(num_classes=3, average='weighted')\n",
    "        self.train_recall = torchmetrics.Recall(num_classes=3, average='weighted')\n",
    "        self.val_recall = torchmetrics.Recall(num_classes=3, average='weighted')\n",
    "        self.train_f1 = torchmetrics.F1Score(num_classes=3, average='weighted')\n",
    "        self.val_f1 = torchmetrics.F1Score(num_classes=3, average='weighted')\n",
    "        self.save_hyperparameters()\n",
    "    \n",
    "    def forward(self, X):\n",
    "        outputs = self.model(X)\n",
    "        probs = F.sigmoid(outputs)\n",
    "        return probs\n",
    "    \n",
    "    def training_step(self, batch, batch_idx):\n",
    "        X, y = batch\n",
    "        outputs = self.model(X)\n",
    "        train_loss = self.criterion(outputs, y.float())\n",
    "        preds = self.forward(X)\n",
    "        self.train_accuracy(preds, y)\n",
    "        self.train_precision(preds, y)\n",
    "        self.train_recall(preds, y)\n",
    "        self.train_f1(preds, y)\n",
    "        self.log(\"train_loss\", train_loss, on_epoch=True)\n",
    "        self.log('train_accuracy', self.train_accuracy, on_epoch=True)\n",
    "        self.log('train_precision', self.train_precision, on_epoch=True)\n",
    "        self.log('train_recall', self.train_recall, on_epoch=True)\n",
    "        self.log('train_f1', self.train_f1, on_epoch=True)\n",
    "        return train_loss\n",
    "    \n",
    "    def validation_step(self, batch, batch_idx):\n",
    "        X, y = batch\n",
    "        outputs = self.model(X)\n",
    "        val_loss = self.criterion(outputs, y.float())\n",
    "        preds = self.forward(X)\n",
    "        self.val_accuracy(preds, y)\n",
    "        self.val_precision(preds, y)\n",
    "        self.val_recall(preds, y)\n",
    "        self.val_f1(preds, y)\n",
    "        self.log(\"val_loss\", val_loss, on_epoch=True)\n",
    "        self.log('val_accuracy', self.val_accuracy, on_epoch=True)\n",
    "        self.log('val_precision', self.val_precision, on_epoch=True)\n",
    "        self.log('val_recall', self.val_recall, on_epoch=True)\n",
    "        self.log('val_f1', self.val_f1, on_epoch=True)\n",
    "        return val_loss\n",
    "\n",
    "    def configure_optimizers(self):\n",
    "        optimizer = Adam(self.parameters(), lr=self.learning_rate)\n",
    "        return optimizer"
   ]
  },
  {
   "cell_type": "code",
   "execution_count": 4,
   "metadata": {},
   "outputs": [],
   "source": [
    "# from relation_modeling_utils import load_data, HeadDataset\n",
    "\n",
    "# train_df = load_data(\"data/atomic2020_data-feb2021/train.tsv\", multi_label=True)\n",
    "# dev_df = load_data(\"data/atomic2020_data-feb2021/dev.tsv\", multi_label=True)\n",
    "# train_data = HeadDataset(train_df, vocab=VOCAB, embedding_matrix=EMBEDDING_MATRIX, apply_pooling=True)\n",
    "# val_data = HeadDataset(dev_df, vocab=VOCAB, embedding_matrix=EMBEDDING_MATRIX, apply_pooling=True)"
   ]
  },
  {
   "cell_type": "code",
   "execution_count": 5,
   "metadata": {},
   "outputs": [],
   "source": [
    "# torch.save(train_data, \"data/head_train_multi_no_pad.pt\")\n",
    "# torch.save(val_data, \"data/head_val_multi_no_pad.pt\")"
   ]
  },
  {
   "cell_type": "code",
   "execution_count": 15,
   "metadata": {},
   "outputs": [],
   "source": [
    "train_data = torch.load(\"data/head_train_multi_no_pad.pt\")\n",
    "val_data = torch.load(\"data/head_val_multi_no_pad.pt\")"
   ]
  },
  {
   "cell_type": "code",
   "execution_count": 16,
   "metadata": {},
   "outputs": [],
   "source": [
    "train_dataloader = DataLoader(train_data, batch_size=128, shuffle=True)\n",
    "val_dataloader = DataLoader(val_data, batch_size=128)"
   ]
  },
  {
   "cell_type": "code",
   "execution_count": 17,
   "metadata": {},
   "outputs": [
    {
     "name": "stderr",
     "output_type": "stream",
     "text": [
      "GPU available: False, used: False\n",
      "TPU available: False, using: 0 TPU cores\n",
      "IPU available: False, using: 0 IPUs\n"
     ]
    },
    {
     "data": {
      "text/html": [
       "Tracking run with wandb version 0.12.11"
      ],
      "text/plain": [
       "<IPython.core.display.HTML object>"
      ]
     },
     "metadata": {},
     "output_type": "display_data"
    },
    {
     "data": {
      "text/html": [
       "Run data is saved locally in <code>/Users/mismayil/Desktop/EPFL/nlplab/kogito/examples/wandb/run-20220330_002311-3eilar0u</code>"
      ],
      "text/plain": [
       "<IPython.core.display.HTML object>"
      ]
     },
     "metadata": {},
     "output_type": "display_data"
    },
    {
     "data": {
      "text/html": [
       "Syncing run <strong><a href=\"https://wandb.ai/mismayil/kogito-relation-matcher/runs/3eilar0u\" target=\"_blank\">swem_multi_label_no_padding</a></strong> to <a href=\"https://wandb.ai/mismayil/kogito-relation-matcher\" target=\"_blank\">Weights & Biases</a> (<a href=\"https://wandb.me/run\" target=\"_blank\">docs</a>)<br/>"
      ],
      "text/plain": [
       "<IPython.core.display.HTML object>"
      ]
     },
     "metadata": {},
     "output_type": "display_data"
    },
    {
     "name": "stderr",
     "output_type": "stream",
     "text": [
      "\n",
      "   | Name            | Type              | Params\n",
      "-------------------------------------------------------\n",
      "0  | linear          | Linear            | 303   \n",
      "1  | model           | Sequential        | 303   \n",
      "2  | criterion       | BCEWithLogitsLoss | 0     \n",
      "3  | train_accuracy  | Accuracy          | 0     \n",
      "4  | val_accuracy    | Accuracy          | 0     \n",
      "5  | train_precision | Precision         | 0     \n",
      "6  | val_precision   | Precision         | 0     \n",
      "7  | train_recall    | Recall            | 0     \n",
      "8  | val_recall      | Recall            | 0     \n",
      "9  | train_f1        | F1Score           | 0     \n",
      "10 | val_f1          | F1Score           | 0     \n",
      "-------------------------------------------------------\n",
      "303       Trainable params\n",
      "0         Non-trainable params\n",
      "303       Total params\n",
      "0.001     Total estimated model params size (MB)\n"
     ]
    },
    {
     "name": "stdout",
     "output_type": "stream",
     "text": [
      "                                                              "
     ]
    },
    {
     "name": "stderr",
     "output_type": "stream",
     "text": [
      "/Users/mismayil/opt/anaconda3/envs/kogito/lib/python3.8/site-packages/pytorch_lightning/trainer/data_loading.py:132: UserWarning: The dataloader, val_dataloader 0, does not have many workers which may be a bottleneck. Consider increasing the value of the `num_workers` argument` (try 8 which is the number of cpus on this machine) in the `DataLoader` init to improve performance.\n",
      "  rank_zero_warn(\n",
      "/Users/mismayil/opt/anaconda3/envs/kogito/lib/python3.8/site-packages/torch/nn/functional.py:1944: UserWarning: nn.functional.sigmoid is deprecated. Use torch.sigmoid instead.\n",
      "  warnings.warn(\"nn.functional.sigmoid is deprecated. Use torch.sigmoid instead.\")\n",
      "/Users/mismayil/opt/anaconda3/envs/kogito/lib/python3.8/site-packages/pytorch_lightning/trainer/data_loading.py:132: UserWarning: The dataloader, train_dataloader, does not have many workers which may be a bottleneck. Consider increasing the value of the `num_workers` argument` (try 8 which is the number of cpus on this machine) in the `DataLoader` init to improve performance.\n",
      "  rank_zero_warn(\n"
     ]
    },
    {
     "name": "stdout",
     "output_type": "stream",
     "text": [
      "Epoch 19: 100%|██████████| 305/305 [00:04<00:00, 65.05it/s, loss=0.373, v_num=ar0u]\n",
      "\n"
     ]
    },
    {
     "data": {
      "text/html": [
       "Waiting for W&B process to finish... <strong style=\"color:green\">(success).</strong>"
      ],
      "text/plain": [
       "<IPython.core.display.HTML object>"
      ]
     },
     "metadata": {},
     "output_type": "display_data"
    },
    {
     "data": {
      "text/html": [
       "<style>\n",
       "    table.wandb td:nth-child(1) { padding: 0 10px; text-align: right }\n",
       "    .wandb-row { display: flex; flex-direction: row; flex-wrap: wrap; width: 100% }\n",
       "    .wandb-col { display: flex; flex-direction: column; flex-basis: 100%; flex: 1; padding: 10px; }\n",
       "    </style>\n",
       "<div class=\"wandb-row\"><div class=\"wandb-col\"><h3>Run history:</h3><br/><table class=\"wandb\"><tr><td>epoch</td><td>▁▁▁▁▂▂▂▂▂▂▃▃▃▃▄▄▄▄▄▄▅▅▅▅▅▅▆▆▆▆▇▇▇▇▇▇████</td></tr><tr><td>train_accuracy_epoch</td><td>▁▅▅▆▆▇▇▇▇▇▇▇████████</td></tr><tr><td>train_accuracy_step</td><td>▁▂▄▆▅▅▆▆▆▆▆▇▇▆▇▇▆▆▆▆█▆█▇▆▇▇▇▇▆▇███▇▇▇▇▇▆</td></tr><tr><td>train_f1_epoch</td><td>▁▅▅▅▆▆▆▇▇▇▇▇▇███████</td></tr><tr><td>train_f1_step</td><td>▁▃▄▆▅▅▆▆▅▆▆▇▇▆▇▇▆▆▆▆█▆█▇▆▇▇▇▇▆▇▇██▇▇▇▇▇▆</td></tr><tr><td>train_loss_epoch</td><td>█▆▅▅▄▄▃▃▃▃▂▂▂▂▂▁▁▁▁▁</td></tr><tr><td>train_loss_step</td><td>█▇▇▆▆▆▅▅▅▄▄▃▃▄▃▃▄▄▃▃▂▃▂▃▃▃▃▂▂▃▂▁▁▁▂▂▂▂▃▃</td></tr><tr><td>train_precision_epoch</td><td>▁▅▆▆▇▇▇▇▇▇▇█████████</td></tr><tr><td>train_precision_step</td><td>▁▁▃▅▅▅▆▆▅▆▆▇▇▆▇▆▆▆▆▆█▆█▇▆▆▆▇▇▆▇▇██▇▇▇▆▆▆</td></tr><tr><td>train_recall_epoch</td><td>▁▆▆▆▇▇▇▇▇▇▇▇████████</td></tr><tr><td>train_recall_step</td><td>▁▄▆▆▆▆▇▇▆▇▇▇▇▇▇▇▇▆▆▇█▇█▇▆▇▇▇▇▇▇▇██▇▇█▇▇▆</td></tr><tr><td>trainer/global_step</td><td>▁▁▁▂▂▂▂▂▂▃▃▃▃▃▃▄▄▄▄▄▅▅▅▅▅▆▆▆▆▆▆▇▇▇▇▇▇███</td></tr><tr><td>val_accuracy</td><td>▁▆▇▇▇▇██████████████</td></tr><tr><td>val_f1</td><td>▁▆▆▇▇▇▇▇▇███████████</td></tr><tr><td>val_loss</td><td>█▆▄▃▃▃▂▂▂▂▂▂▁▁▁▁▁▁▁▁</td></tr><tr><td>val_precision</td><td>▁▅▆▆▇▇▇▇▇█▇█████████</td></tr><tr><td>val_recall</td><td>▁█████▇▇▇▇▇▇▇▇▇▇▇▇▇▇</td></tr></table><br/></div><div class=\"wandb-col\"><h3>Run summary:</h3><br/><table class=\"wandb\"><tr><td>epoch</td><td>19</td></tr><tr><td>train_accuracy_epoch</td><td>0.84889</td></tr><tr><td>train_accuracy_step</td><td>0.80469</td></tr><tr><td>train_f1_epoch</td><td>0.85122</td></tr><tr><td>train_f1_step</td><td>0.8036</td></tr><tr><td>train_loss_epoch</td><td>0.38305</td></tr><tr><td>train_loss_step</td><td>0.42495</td></tr><tr><td>train_precision_epoch</td><td>0.83087</td></tr><tr><td>train_precision_step</td><td>0.78526</td></tr><tr><td>train_recall_epoch</td><td>0.88738</td></tr><tr><td>train_recall_step</td><td>0.83607</td></tr><tr><td>trainer/global_step</td><td>5639</td></tr><tr><td>val_accuracy</td><td>0.8666</td></tr><tr><td>val_f1</td><td>0.88412</td></tr><tr><td>val_loss</td><td>0.38108</td></tr><tr><td>val_precision</td><td>0.83555</td></tr><tr><td>val_recall</td><td>0.93961</td></tr></table><br/></div></div>"
      ],
      "text/plain": [
       "<IPython.core.display.HTML object>"
      ]
     },
     "metadata": {},
     "output_type": "display_data"
    },
    {
     "data": {
      "text/html": [
       "Synced <strong style=\"color:#cdcd00\">swem_multi_label_no_padding</strong>: <a href=\"https://wandb.ai/mismayil/kogito-relation-matcher/runs/3eilar0u\" target=\"_blank\">https://wandb.ai/mismayil/kogito-relation-matcher/runs/3eilar0u</a><br/>Synced 6 W&B file(s), 0 media file(s), 0 artifact file(s) and 0 other file(s)"
      ],
      "text/plain": [
       "<IPython.core.display.HTML object>"
      ]
     },
     "metadata": {},
     "output_type": "display_data"
    },
    {
     "data": {
      "text/html": [
       "Find logs at: <code>./wandb/run-20220330_002311-3eilar0u/logs</code>"
      ],
      "text/plain": [
       "<IPython.core.display.HTML object>"
      ]
     },
     "metadata": {},
     "output_type": "display_data"
    }
   ],
   "source": [
    "from pytorch_lightning.loggers import WandbLogger\n",
    "import wandb\n",
    "\n",
    "wandb_logger = WandbLogger(project=\"kogito-relation-matcher\", name=\"swem_multi_label_no_padding\")\n",
    "model = SWEMMultiNoPadClassifier(learning_rate=1e-4)\n",
    "trainer = pl.Trainer(max_epochs=20, logger=wandb_logger)\n",
    "trainer.fit(model, train_dataloaders=train_dataloader, val_dataloaders=val_dataloader)\n",
    "wandb.finish()"
   ]
  }
 ],
 "metadata": {
  "interpreter": {
   "hash": "7c3b128559c7e8fd624042ca8b6c93b33cd59aca7b58d05c9d4cd21ec1a84d35"
  },
  "kernelspec": {
   "display_name": "Python 3.8.12 ('kogito')",
   "language": "python",
   "name": "python3"
  },
  "language_info": {
   "codemirror_mode": {
    "name": "ipython",
    "version": 3
   },
   "file_extension": ".py",
   "mimetype": "text/x-python",
   "name": "python",
   "nbconvert_exporter": "python",
   "pygments_lexer": "ipython3",
   "version": "3.8.12"
  },
  "orig_nbformat": 4
 },
 "nbformat": 4,
 "nbformat_minor": 2
}
