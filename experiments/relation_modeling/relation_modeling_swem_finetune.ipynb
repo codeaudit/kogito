{
 "cells": [
  {
   "cell_type": "code",
   "execution_count": 18,
   "metadata": {},
   "outputs": [
    {
     "name": "stdout",
     "output_type": "stream",
     "text": [
      "The autoreload extension is already loaded. To reload it, use:\n",
      "  %reload_ext autoreload\n"
     ]
    }
   ],
   "source": [
    "%load_ext autoreload\n",
    "%autoreload 2"
   ]
  },
  {
   "cell_type": "code",
   "execution_count": 19,
   "metadata": {},
   "outputs": [],
   "source": [
    "DATASET_TYPE = \"f1\""
   ]
  },
  {
   "cell_type": "code",
   "execution_count": 20,
   "metadata": {},
   "outputs": [],
   "source": [
    "import numpy as np\n",
    "VOCAB, EMBEDDING_MATRIX = np.load(\"data/vocab_glove_100d.npy\", allow_pickle=True).item(), np.load(\"data/embedding_matrix_glove_100d.npy\", allow_pickle=True)"
   ]
  },
  {
   "cell_type": "code",
   "execution_count": 21,
   "metadata": {},
   "outputs": [],
   "source": [
    "import torch\n",
    "from torch.utils.data import DataLoader\n",
    "from torch.optim import Adam\n",
    "from torch import nn\n",
    "import pytorch_lightning as pl\n",
    "import torchmetrics\n",
    "import torch.nn.functional as F\n",
    "\n",
    "from relation_modeling_utils import MaxPool, AvgPool, Evaluator\n",
    "\n",
    "class SWEMClassifier(pl.LightningModule, Evaluator):\n",
    "    def __init__(self, num_classes=3, pooling=\"avg\", freeze_emb=False, learning_rate=1e-4):\n",
    "        super().__init__()\n",
    "        self.embedding = nn.Embedding(num_embeddings=EMBEDDING_MATRIX.shape[0],\n",
    "                                      embedding_dim=EMBEDDING_MATRIX.shape[1]).from_pretrained(torch.tensor(EMBEDDING_MATRIX, dtype=torch.float32), freeze=freeze_emb)\n",
    "        self.pool = MaxPool() if pooling == \"max\" else AvgPool()\n",
    "        self.linear = nn.Linear(EMBEDDING_MATRIX.shape[1], num_classes)\n",
    "        self.model = nn.Sequential(self.embedding, self.pool, self.linear)\n",
    "        self.criterion = nn.BCEWithLogitsLoss()\n",
    "        self.learning_rate = learning_rate\n",
    "        self.save_hyperparameters()\n",
    "    \n",
    "    def forward(self, X):\n",
    "        outputs = self.model(X)\n",
    "        probs = F.sigmoid(outputs)\n",
    "        return probs\n",
    "    \n",
    "    def training_step(self, batch, batch_idx):\n",
    "        X, y = batch\n",
    "        outputs = self.model(X)\n",
    "        train_loss = self.criterion(outputs, y.float())\n",
    "        preds = self.forward(X)\n",
    "        self.log(\"train_loss\", train_loss, on_epoch=True)\n",
    "        self.log_metrics(preds, y, type=\"train\")\n",
    "        return train_loss\n",
    "    \n",
    "    def validation_step(self, batch, batch_idx):\n",
    "        X, y = batch\n",
    "        outputs = self.model(X)\n",
    "        val_loss = self.criterion(outputs, y.float())\n",
    "        preds = self.forward(X)\n",
    "        self.log(\"val_loss\", val_loss, on_epoch=True)\n",
    "        self.log_metrics(preds, y, type=\"val\")\n",
    "        return val_loss\n",
    "\n",
    "    def test_step(self, batch, batch_idx):\n",
    "        X, y = batch\n",
    "        outputs = self.model(X)\n",
    "        test_loss = self.criterion(outputs, y.float())\n",
    "        preds = self.forward(X)\n",
    "        self.log(\"test_loss\", test_loss, on_epoch=True)\n",
    "        self.log_metrics(preds, y, type=\"test\")\n",
    "        return test_loss\n",
    "\n",
    "    def configure_optimizers(self):\n",
    "        optimizer = Adam(self.parameters(), lr=self.learning_rate)\n",
    "        return optimizer"
   ]
  },
  {
   "cell_type": "code",
   "execution_count": 22,
   "metadata": {},
   "outputs": [],
   "source": [
    "from relation_modeling_utils import SWEMHeadDataset, load_fdata, load_data\n",
    "import pandas as pd\n",
    "\n",
    "train_df = load_fdata(f\"data/atomic_ood/{DATASET_TYPE}/train_{DATASET_TYPE}.csv\")\n",
    "val_df = load_data(\"data/atomic2020_data-feb2021/dev.tsv\", multi_label=True)\n",
    "test_df = load_fdata(f\"data/atomic_ood/{DATASET_TYPE}/test_{DATASET_TYPE}.csv\")\n",
    "train_data = SWEMHeadDataset(train_df, vocab=VOCAB)\n",
    "val_data = SWEMHeadDataset(val_df, vocab=VOCAB)\n",
    "test_data = SWEMHeadDataset(test_df, vocab=VOCAB)"
   ]
  },
  {
   "cell_type": "code",
   "execution_count": 24,
   "metadata": {},
   "outputs": [],
   "source": [
    "train_dataloader = DataLoader(train_data, batch_size=128, shuffle=True)\n",
    "val_dataloader = DataLoader(val_data, batch_size=128)\n",
    "test_dataloader = DataLoader(test_data, batch_size=128)"
   ]
  },
  {
   "cell_type": "code",
   "execution_count": 25,
   "metadata": {},
   "outputs": [
    {
     "data": {
      "text/html": [
       "wandb version 0.12.14 is available!  To upgrade, please run:\n",
       " $ pip install wandb --upgrade"
      ],
      "text/plain": [
       "<IPython.core.display.HTML object>"
      ]
     },
     "metadata": {},
     "output_type": "display_data"
    },
    {
     "data": {
      "text/html": [
       "Tracking run with wandb version 0.12.11"
      ],
      "text/plain": [
       "<IPython.core.display.HTML object>"
      ]
     },
     "metadata": {},
     "output_type": "display_data"
    },
    {
     "data": {
      "text/html": [
       "Run data is saved locally in <code>/root/kogito/examples/relation_modeling/wandb/run-20220409_150057-1r4b1w19</code>"
      ],
      "text/plain": [
       "<IPython.core.display.HTML object>"
      ]
     },
     "metadata": {},
     "output_type": "display_data"
    },
    {
     "data": {
      "text/html": [
       "Syncing run <strong><a href=\"https://wandb.ai/mismayil/kogito-relation-matcher/runs/1r4b1w19\" target=\"_blank\">swem_finetune_f1</a></strong> to <a href=\"https://wandb.ai/mismayil/kogito-relation-matcher\" target=\"_blank\">Weights & Biases</a> (<a href=\"https://wandb.me/run\" target=\"_blank\">docs</a>)<br/>"
      ],
      "text/plain": [
       "<IPython.core.display.HTML object>"
      ]
     },
     "metadata": {},
     "output_type": "display_data"
    },
    {
     "name": "stderr",
     "output_type": "stream",
     "text": [
      "GPU available: True, used: True\n",
      "TPU available: False, using: 0 TPU cores\n",
      "IPU available: False, using: 0 IPUs\n",
      "LOCAL_RANK: 0 - CUDA_VISIBLE_DEVICES: [0,1]\n",
      "\n",
      "   | Name            | Type              | Params\n",
      "-------------------------------------------------------\n",
      "0  | embedding       | Embedding         | 40.0 M\n",
      "1  | pool            | AvgPool           | 0     \n",
      "2  | linear          | Linear            | 303   \n",
      "3  | model           | Sequential        | 40.0 M\n",
      "4  | criterion       | BCEWithLogitsLoss | 0     \n",
      "5  | train_accuracy  | Accuracy          | 0     \n",
      "6  | val_accuracy    | Accuracy          | 0     \n",
      "7  | train_precision | Precision         | 0     \n",
      "8  | val_precision   | Precision         | 0     \n",
      "9  | train_recall    | Recall            | 0     \n",
      "10 | val_recall      | Recall            | 0     \n",
      "11 | train_f1        | F1Score           | 0     \n",
      "12 | val_f1          | F1Score           | 0     \n",
      "13 | test_accuracy   | Accuracy          | 0     \n",
      "14 | test_precision  | Precision         | 0     \n",
      "15 | test_recall     | Recall            | 0     \n",
      "16 | test_f1         | F1Score           | 0     \n",
      "-------------------------------------------------------\n",
      "40.0 M    Trainable params\n",
      "0         Non-trainable params\n",
      "40.0 M    Total params\n",
      "160.002   Total estimated model params size (MB)\n"
     ]
    },
    {
     "data": {
      "application/vnd.jupyter.widget-view+json": {
       "model_id": "d31aacd605d246eb881469e4d9373f6e",
       "version_major": 2,
       "version_minor": 0
      },
      "text/plain": [
       "Validation sanity check: 0it [00:00, ?it/s]"
      ]
     },
     "metadata": {},
     "output_type": "display_data"
    },
    {
     "name": "stderr",
     "output_type": "stream",
     "text": [
      "/root/.conda/envs/kogito/lib/python3.8/site-packages/pytorch_lightning/trainer/data_loading.py:132: UserWarning: The dataloader, val_dataloader 0, does not have many workers which may be a bottleneck. Consider increasing the value of the `num_workers` argument` (try 48 which is the number of cpus on this machine) in the `DataLoader` init to improve performance.\n",
      "  rank_zero_warn(\n",
      "/root/.conda/envs/kogito/lib/python3.8/site-packages/torch/nn/functional.py:1944: UserWarning: nn.functional.sigmoid is deprecated. Use torch.sigmoid instead.\n",
      "  warnings.warn(\"nn.functional.sigmoid is deprecated. Use torch.sigmoid instead.\")\n",
      "/root/.conda/envs/kogito/lib/python3.8/site-packages/pytorch_lightning/trainer/data_loading.py:132: UserWarning: The dataloader, train_dataloader, does not have many workers which may be a bottleneck. Consider increasing the value of the `num_workers` argument` (try 48 which is the number of cpus on this machine) in the `DataLoader` init to improve performance.\n",
      "  rank_zero_warn(\n"
     ]
    },
    {
     "data": {
      "application/vnd.jupyter.widget-view+json": {
       "model_id": "61d7e4544cd848fca85506b74a9ebbd9",
       "version_major": 2,
       "version_minor": 0
      },
      "text/plain": [
       "Training: 0it [00:00, ?it/s]"
      ]
     },
     "metadata": {},
     "output_type": "display_data"
    },
    {
     "data": {
      "application/vnd.jupyter.widget-view+json": {
       "model_id": "f518eb5b019c42429420189a29523939",
       "version_major": 2,
       "version_minor": 0
      },
      "text/plain": [
       "Validating: 0it [00:00, ?it/s]"
      ]
     },
     "metadata": {},
     "output_type": "display_data"
    },
    {
     "data": {
      "application/vnd.jupyter.widget-view+json": {
       "model_id": "1bfe2f6b4f474869a0fe53fddaa1c150",
       "version_major": 2,
       "version_minor": 0
      },
      "text/plain": [
       "Validating: 0it [00:00, ?it/s]"
      ]
     },
     "metadata": {},
     "output_type": "display_data"
    },
    {
     "data": {
      "application/vnd.jupyter.widget-view+json": {
       "model_id": "3ce6a781ba1349ffb8257b0ca2b54945",
       "version_major": 2,
       "version_minor": 0
      },
      "text/plain": [
       "Validating: 0it [00:00, ?it/s]"
      ]
     },
     "metadata": {},
     "output_type": "display_data"
    },
    {
     "data": {
      "application/vnd.jupyter.widget-view+json": {
       "model_id": "9f57ea8acf6848f2a275025f0f56c937",
       "version_major": 2,
       "version_minor": 0
      },
      "text/plain": [
       "Validating: 0it [00:00, ?it/s]"
      ]
     },
     "metadata": {},
     "output_type": "display_data"
    },
    {
     "data": {
      "application/vnd.jupyter.widget-view+json": {
       "model_id": "1b78e1dd332f443f9f18f265d5e8170e",
       "version_major": 2,
       "version_minor": 0
      },
      "text/plain": [
       "Validating: 0it [00:00, ?it/s]"
      ]
     },
     "metadata": {},
     "output_type": "display_data"
    },
    {
     "data": {
      "application/vnd.jupyter.widget-view+json": {
       "model_id": "0055d594baeb4ecc8dc29c799f4153d0",
       "version_major": 2,
       "version_minor": 0
      },
      "text/plain": [
       "Validating: 0it [00:00, ?it/s]"
      ]
     },
     "metadata": {},
     "output_type": "display_data"
    },
    {
     "data": {
      "application/vnd.jupyter.widget-view+json": {
       "model_id": "3ec5c701a0024220b66e78570261f9c3",
       "version_major": 2,
       "version_minor": 0
      },
      "text/plain": [
       "Validating: 0it [00:00, ?it/s]"
      ]
     },
     "metadata": {},
     "output_type": "display_data"
    },
    {
     "data": {
      "application/vnd.jupyter.widget-view+json": {
       "model_id": "dc6714ab15bf465082bcf81a2dec6fd0",
       "version_major": 2,
       "version_minor": 0
      },
      "text/plain": [
       "Validating: 0it [00:00, ?it/s]"
      ]
     },
     "metadata": {},
     "output_type": "display_data"
    },
    {
     "data": {
      "application/vnd.jupyter.widget-view+json": {
       "model_id": "94e9001568464037afd62619ab9ba40e",
       "version_major": 2,
       "version_minor": 0
      },
      "text/plain": [
       "Validating: 0it [00:00, ?it/s]"
      ]
     },
     "metadata": {},
     "output_type": "display_data"
    },
    {
     "data": {
      "application/vnd.jupyter.widget-view+json": {
       "model_id": "ec90767f99764161b712e015017b7a02",
       "version_major": 2,
       "version_minor": 0
      },
      "text/plain": [
       "Validating: 0it [00:00, ?it/s]"
      ]
     },
     "metadata": {},
     "output_type": "display_data"
    },
    {
     "data": {
      "application/vnd.jupyter.widget-view+json": {
       "model_id": "5e4995a3bc43480b99e8e0e477eff46e",
       "version_major": 2,
       "version_minor": 0
      },
      "text/plain": [
       "Validating: 0it [00:00, ?it/s]"
      ]
     },
     "metadata": {},
     "output_type": "display_data"
    },
    {
     "data": {
      "application/vnd.jupyter.widget-view+json": {
       "model_id": "35944a8e369a4b31b1b37508bf3d433e",
       "version_major": 2,
       "version_minor": 0
      },
      "text/plain": [
       "Validating: 0it [00:00, ?it/s]"
      ]
     },
     "metadata": {},
     "output_type": "display_data"
    },
    {
     "data": {
      "application/vnd.jupyter.widget-view+json": {
       "model_id": "89205d2c24d8428fa111ab381b2b63b6",
       "version_major": 2,
       "version_minor": 0
      },
      "text/plain": [
       "Validating: 0it [00:00, ?it/s]"
      ]
     },
     "metadata": {},
     "output_type": "display_data"
    },
    {
     "data": {
      "application/vnd.jupyter.widget-view+json": {
       "model_id": "fc2ddb875a0342399f22eb318cf97f2a",
       "version_major": 2,
       "version_minor": 0
      },
      "text/plain": [
       "Validating: 0it [00:00, ?it/s]"
      ]
     },
     "metadata": {},
     "output_type": "display_data"
    },
    {
     "data": {
      "application/vnd.jupyter.widget-view+json": {
       "model_id": "0b40e64a9274404090989fe93edc4f9e",
       "version_major": 2,
       "version_minor": 0
      },
      "text/plain": [
       "Validating: 0it [00:00, ?it/s]"
      ]
     },
     "metadata": {},
     "output_type": "display_data"
    },
    {
     "data": {
      "application/vnd.jupyter.widget-view+json": {
       "model_id": "49a748fde2804b78842e72c061e666da",
       "version_major": 2,
       "version_minor": 0
      },
      "text/plain": [
       "Validating: 0it [00:00, ?it/s]"
      ]
     },
     "metadata": {},
     "output_type": "display_data"
    },
    {
     "data": {
      "application/vnd.jupyter.widget-view+json": {
       "model_id": "0ede27a72ecc4d6fb17232e95898c753",
       "version_major": 2,
       "version_minor": 0
      },
      "text/plain": [
       "Validating: 0it [00:00, ?it/s]"
      ]
     },
     "metadata": {},
     "output_type": "display_data"
    },
    {
     "data": {
      "application/vnd.jupyter.widget-view+json": {
       "model_id": "459e06bd2cc04b899a218c16f742606b",
       "version_major": 2,
       "version_minor": 0
      },
      "text/plain": [
       "Validating: 0it [00:00, ?it/s]"
      ]
     },
     "metadata": {},
     "output_type": "display_data"
    },
    {
     "data": {
      "application/vnd.jupyter.widget-view+json": {
       "model_id": "f53b6c363d0546deb8ce596aa35724c8",
       "version_major": 2,
       "version_minor": 0
      },
      "text/plain": [
       "Validating: 0it [00:00, ?it/s]"
      ]
     },
     "metadata": {},
     "output_type": "display_data"
    },
    {
     "data": {
      "application/vnd.jupyter.widget-view+json": {
       "model_id": "a253386ef2144d2d880ef69031af8002",
       "version_major": 2,
       "version_minor": 0
      },
      "text/plain": [
       "Validating: 0it [00:00, ?it/s]"
      ]
     },
     "metadata": {},
     "output_type": "display_data"
    },
    {
     "name": "stderr",
     "output_type": "stream",
     "text": [
      "LOCAL_RANK: 0 - CUDA_VISIBLE_DEVICES: [0,1]\n",
      "/root/.conda/envs/kogito/lib/python3.8/site-packages/pytorch_lightning/trainer/data_loading.py:132: UserWarning: The dataloader, test_dataloader 0, does not have many workers which may be a bottleneck. Consider increasing the value of the `num_workers` argument` (try 48 which is the number of cpus on this machine) in the `DataLoader` init to improve performance.\n",
      "  rank_zero_warn(\n"
     ]
    },
    {
     "data": {
      "application/vnd.jupyter.widget-view+json": {
       "model_id": "45b7b611030a4ccfaf8cb117def131fc",
       "version_major": 2,
       "version_minor": 0
      },
      "text/plain": [
       "Testing: 0it [00:00, ?it/s]"
      ]
     },
     "metadata": {},
     "output_type": "display_data"
    },
    {
     "name": "stdout",
     "output_type": "stream",
     "text": [
      "--------------------------------------------------------------------------------\n",
      "DATALOADER:0 TEST RESULTS\n",
      "{'test_accuracy': 0.8215733766555786,\n",
      " 'test_f1': 0.781292200088501,\n",
      " 'test_loss': 0.43175986409187317,\n",
      " 'test_precision': 0.763730525970459,\n",
      " 'test_recall': 0.8030611872673035}\n",
      "--------------------------------------------------------------------------------\n",
      "\n"
     ]
    },
    {
     "data": {
      "text/html": [
       "Waiting for W&B process to finish... <strong style=\"color:green\">(success).</strong>"
      ],
      "text/plain": [
       "<IPython.core.display.HTML object>"
      ]
     },
     "metadata": {},
     "output_type": "display_data"
    },
    {
     "data": {
      "application/vnd.jupyter.widget-view+json": {
       "model_id": "5931d6d2e34949c0b8642160a1c99226",
       "version_major": 2,
       "version_minor": 0
      },
      "text/plain": [
       "VBox(children=(Label(value='0.001 MB of 0.001 MB uploaded (0.000 MB deduped)\\r'), FloatProgress(value=1.0, max…"
      ]
     },
     "metadata": {},
     "output_type": "display_data"
    },
    {
     "data": {
      "text/html": [
       "<style>\n",
       "    table.wandb td:nth-child(1) { padding: 0 10px; text-align: right }\n",
       "    .wandb-row { display: flex; flex-direction: row; flex-wrap: wrap; width: 100% }\n",
       "    .wandb-col { display: flex; flex-direction: column; flex-basis: 100%; flex: 1; padding: 10px; }\n",
       "    </style>\n",
       "<div class=\"wandb-row\"><div class=\"wandb-col\"><h3>Run history:</h3><br/><table class=\"wandb\"><tr><td>epoch</td><td>▁▁▁▁▂▂▂▂▂▂▃▃▃▃▄▄▄▄▄▄▅▅▅▅▅▅▆▆▆▆▇▇▇▇▇▇████</td></tr><tr><td>test_accuracy</td><td>▁</td></tr><tr><td>test_f1</td><td>▁</td></tr><tr><td>test_loss</td><td>▁</td></tr><tr><td>test_precision</td><td>▁</td></tr><tr><td>test_recall</td><td>▁</td></tr><tr><td>train_accuracy_epoch</td><td>▁▂▅▇▇▇▇▇████████████</td></tr><tr><td>train_accuracy_step</td><td>▁▃▄▃▄▆▇▇▇▇▇▇▇▇▇▇▇▇▇▇▇▇██▇▇█▇▇██▇███▇████</td></tr><tr><td>train_f1_epoch</td><td>▁▁▄▇▇▇▇▇████████████</td></tr><tr><td>train_f1_step</td><td>▁▂▂▂▂▅▇▇▇▇▇▇▇▇▆▇▆▇▇▇▇▇██▇▇█▇▇██▇███▇███▇</td></tr><tr><td>train_loss_epoch</td><td>█▇▇▆▅▄▄▃▃▃▂▂▂▂▂▁▁▁▁▁</td></tr><tr><td>train_loss_step</td><td>██▇▇▇▆▆▆▅▅▅▄▄▄▄▃▄▃▃▃▃▃▂▂▂▂▁▂▂▁▁▂▁▁▂▂▂▁▁▁</td></tr><tr><td>train_precision_epoch</td><td>▁▁▇█████████████████</td></tr><tr><td>train_precision_step</td><td>▁▁▂▂▂▇█▇██▇▇▇▇▇▇▇▇▇▇▇▇██▇▇█▇▇██▇▇█▇▇▇▇▇▇</td></tr><tr><td>train_recall_epoch</td><td>▁▁▂▆▆▆▆▇▇▇▇▇▇███████</td></tr><tr><td>train_recall_step</td><td>▁▃▃▂▂▃▅▇▆▆▆▆▇▅▅▇▅▇▇▇▆▆▇▇▇▆█▇▇██▇█▇▇▇██▇▇</td></tr><tr><td>trainer/global_step</td><td>▁▁▁▂▂▂▂▂▂▃▃▃▃▃▃▄▄▄▄▄▅▅▅▅▅▆▆▆▆▆▆▇▇▇▇▇▇███</td></tr><tr><td>val_accuracy</td><td>▁▂▆▇▇▇██████████████</td></tr><tr><td>val_f1</td><td>▁▁▆▇▇███████████████</td></tr><tr><td>val_loss</td><td>█▇▆▅▅▄▃▃▃▂▂▂▂▂▁▁▁▁▁▁</td></tr><tr><td>val_precision</td><td>▁▃▇█████████████████</td></tr><tr><td>val_recall</td><td>▁▁▄▆▆▇▇▇▇▇██████████</td></tr></table><br/></div><div class=\"wandb-col\"><h3>Run summary:</h3><br/><table class=\"wandb\"><tr><td>epoch</td><td>19</td></tr><tr><td>test_accuracy</td><td>0.82157</td></tr><tr><td>test_f1</td><td>0.78129</td></tr><tr><td>test_loss</td><td>0.43176</td></tr><tr><td>test_precision</td><td>0.76373</td></tr><tr><td>test_recall</td><td>0.80306</td></tr><tr><td>train_accuracy_epoch</td><td>0.92632</td></tr><tr><td>train_accuracy_step</td><td>0.91667</td></tr><tr><td>train_f1_epoch</td><td>0.92844</td></tr><tr><td>train_f1_step</td><td>0.9143</td></tr><tr><td>train_loss_epoch</td><td>0.23918</td></tr><tr><td>train_loss_step</td><td>0.24551</td></tr><tr><td>train_precision_epoch</td><td>0.90488</td></tr><tr><td>train_precision_step</td><td>0.89767</td></tr><tr><td>train_recall_epoch</td><td>0.95384</td></tr><tr><td>train_recall_step</td><td>0.93296</td></tr><tr><td>trainer/global_step</td><td>6080</td></tr><tr><td>val_accuracy</td><td>0.92837</td></tr><tr><td>val_f1</td><td>0.93139</td></tr><tr><td>val_loss</td><td>0.2451</td></tr><tr><td>val_precision</td><td>0.8992</td></tr><tr><td>val_recall</td><td>0.9672</td></tr></table><br/></div></div>"
      ],
      "text/plain": [
       "<IPython.core.display.HTML object>"
      ]
     },
     "metadata": {},
     "output_type": "display_data"
    },
    {
     "data": {
      "text/html": [
       "Synced <strong style=\"color:#cdcd00\">swem_finetune_f1</strong>: <a href=\"https://wandb.ai/mismayil/kogito-relation-matcher/runs/1r4b1w19\" target=\"_blank\">https://wandb.ai/mismayil/kogito-relation-matcher/runs/1r4b1w19</a><br/>Synced 6 W&B file(s), 0 media file(s), 0 artifact file(s) and 0 other file(s)"
      ],
      "text/plain": [
       "<IPython.core.display.HTML object>"
      ]
     },
     "metadata": {},
     "output_type": "display_data"
    },
    {
     "data": {
      "text/html": [
       "Find logs at: <code>./wandb/run-20220409_150057-1r4b1w19/logs</code>"
      ],
      "text/plain": [
       "<IPython.core.display.HTML object>"
      ]
     },
     "metadata": {},
     "output_type": "display_data"
    }
   ],
   "source": [
    "from pytorch_lightning.loggers import WandbLogger\n",
    "from relation_modeling_utils import get_timestamp\n",
    "import wandb\n",
    "\n",
    "NUM_EPOCHS = 20\n",
    "LR_RATE = 1e-4\n",
    "\n",
    "timestamp = get_timestamp()\n",
    "\n",
    "wandb_logger = WandbLogger(project=\"kogito-relation-matcher\", name=f\"swem_finetune_{DATASET_TYPE}\")\n",
    "wandb_logger.experiment.config[\"epochs\"] = NUM_EPOCHS\n",
    "model = SWEMClassifier(pooling=\"avg\", freeze_emb=False, learning_rate=LR_RATE)\n",
    "trainer = pl.Trainer(max_epochs=NUM_EPOCHS, logger=wandb_logger, accelerator=\"gpu\", devices=[0])\n",
    "trainer.fit(model, train_dataloaders=train_dataloader, val_dataloaders=val_dataloader)\n",
    "trainer.test(model, dataloaders=test_dataloader)\n",
    "trainer.save_checkpoint(f\"models/swem/swem_finetune_{DATASET_TYPE}_{timestamp}.ckpt\", weights_only=True)\n",
    "wandb.finish()"
   ]
  },
  {
   "cell_type": "code",
   "execution_count": 8,
   "metadata": {},
   "outputs": [],
   "source": [
    "from relation_modeling_utils import load_data, HeadDataset\n",
    "from torch.utils.data import DataLoader\n",
    "\n",
    "test_df = load_data(\"data/atomic2020_data-feb2021/test.tsv\", multi_label=True)\n",
    "test_data = HeadDataset(test_df, vocab=VOCAB)\n",
    "test_dataloader = DataLoader(test_data, batch_size=len(test_data))"
   ]
  },
  {
   "cell_type": "code",
   "execution_count": 9,
   "metadata": {},
   "outputs": [
    {
     "data": {
      "text/html": [
       "<div>\n",
       "<style scoped>\n",
       "    .dataframe tbody tr th:only-of-type {\n",
       "        vertical-align: middle;\n",
       "    }\n",
       "\n",
       "    .dataframe tbody tr th {\n",
       "        vertical-align: top;\n",
       "    }\n",
       "\n",
       "    .dataframe thead th {\n",
       "        text-align: right;\n",
       "    }\n",
       "</style>\n",
       "<table border=\"1\" class=\"dataframe\">\n",
       "  <thead>\n",
       "    <tr style=\"text-align: right;\">\n",
       "      <th></th>\n",
       "      <th>text</th>\n",
       "      <th>label</th>\n",
       "    </tr>\n",
       "  </thead>\n",
       "  <tbody>\n",
       "    <tr>\n",
       "      <th>0</th>\n",
       "      <td>PersonX abuses PersonX's power</td>\n",
       "      <td>[0, 1, 1]</td>\n",
       "    </tr>\n",
       "    <tr>\n",
       "      <th>1</th>\n",
       "      <td>PersonX accepts PersonY's apology</td>\n",
       "      <td>[0, 1, 1]</td>\n",
       "    </tr>\n",
       "    <tr>\n",
       "      <th>2</th>\n",
       "      <td>PersonX accepts ___ in payment</td>\n",
       "      <td>[0, 1, 1]</td>\n",
       "    </tr>\n",
       "    <tr>\n",
       "      <th>3</th>\n",
       "      <td>PersonX accidentally kicked</td>\n",
       "      <td>[0, 1, 1]</td>\n",
       "    </tr>\n",
       "    <tr>\n",
       "      <th>4</th>\n",
       "      <td>PersonX accidentally kicked ___</td>\n",
       "      <td>[0, 1, 1]</td>\n",
       "    </tr>\n",
       "  </tbody>\n",
       "</table>\n",
       "</div>"
      ],
      "text/plain": [
       "                                text      label\n",
       "0     PersonX abuses PersonX's power  [0, 1, 1]\n",
       "1  PersonX accepts PersonY's apology  [0, 1, 1]\n",
       "2     PersonX accepts ___ in payment  [0, 1, 1]\n",
       "3        PersonX accidentally kicked  [0, 1, 1]\n",
       "4    PersonX accidentally kicked ___  [0, 1, 1]"
      ]
     },
     "execution_count": 9,
     "metadata": {},
     "output_type": "execute_result"
    }
   ],
   "source": [
    "test_df.head()"
   ]
  },
  {
   "cell_type": "code",
   "execution_count": 10,
   "metadata": {},
   "outputs": [
    {
     "data": {
      "text/plain": [
       "(6569, 6569)"
      ]
     },
     "execution_count": 10,
     "metadata": {},
     "output_type": "execute_result"
    }
   ],
   "source": [
    "len(test_data.texts), len(test_df)"
   ]
  },
  {
   "cell_type": "code",
   "execution_count": 12,
   "metadata": {},
   "outputs": [
    {
     "data": {
      "text/plain": [
       "4668"
      ]
     },
     "execution_count": 12,
     "metadata": {},
     "output_type": "execute_result"
    }
   ],
   "source": [
    "len(test_df[test_df.label.apply(lambda l: l[0]) == 0])"
   ]
  },
  {
   "cell_type": "code",
   "execution_count": 13,
   "metadata": {},
   "outputs": [],
   "source": [
    "import torch\n",
    "model = torch.load('models/swem_multi_label_finetune_model.bin')"
   ]
  },
  {
   "cell_type": "code",
   "execution_count": 6,
   "metadata": {},
   "outputs": [],
   "source": [
    "torch.save(model.state_dict(), \"models/swem_multi_label_finetune_state_dict.pth\")"
   ]
  },
  {
   "cell_type": "code",
   "execution_count": 14,
   "metadata": {},
   "outputs": [
    {
     "name": "stderr",
     "output_type": "stream",
     "text": [
      "/Users/mismayil/opt/anaconda3/envs/kogito/lib/python3.8/site-packages/torch/nn/functional.py:1944: UserWarning: nn.functional.sigmoid is deprecated. Use torch.sigmoid instead.\n",
      "  warnings.warn(\"nn.functional.sigmoid is deprecated. Use torch.sigmoid instead.\")\n"
     ]
    }
   ],
   "source": [
    "X, y = next(iter(test_dataloader))\n",
    "preds = model.forward(X)"
   ]
  },
  {
   "cell_type": "code",
   "execution_count": 15,
   "metadata": {},
   "outputs": [
    {
     "name": "stdout",
     "output_type": "stream",
     "text": [
      "Test accurayc=0.860, precision=0.829, recall=0.961, f1=0.878\n"
     ]
    }
   ],
   "source": [
    "import torchmetrics\n",
    "test_accuracy = torchmetrics.Accuracy()\n",
    "test_precision = torchmetrics.Precision(num_classes=3, average=\"weighted\")\n",
    "test_recall = torchmetrics.Recall(num_classes=3, average=\"weighted\")\n",
    "test_f1 = torchmetrics.F1Score(num_classes=3, average=\"weighted\")\n",
    "print(f'Test accurayc={test_accuracy(preds, y).item():.3f}, precision={test_precision(preds, y).item():.3f}, recall={test_recall(preds, y).item():.3f}, f1={test_f1(preds, y).item():.3f}')"
   ]
  },
  {
   "cell_type": "code",
   "execution_count": 16,
   "metadata": {},
   "outputs": [
    {
     "data": {
      "text/plain": [
       "tensor([[[4564,  104],\n",
       "         [  27, 1874]],\n",
       "\n",
       "        [[1896,  254],\n",
       "         [ 230, 4189]],\n",
       "\n",
       "        [[1935, 2061],\n",
       "         [  87, 2486]]])"
      ]
     },
     "execution_count": 16,
     "metadata": {},
     "output_type": "execute_result"
    }
   ],
   "source": [
    "test_confusion = torchmetrics.ConfusionMatrix(num_classes=3, multilabel=True)\n",
    "confusion_matrix = test_confusion(preds, y)\n",
    "confusion_matrix"
   ]
  },
  {
   "cell_type": "code",
   "execution_count": 17,
   "metadata": {},
   "outputs": [],
   "source": [
    "import pandas as pd\n",
    "pred_df = pd.DataFrame({'texts': test_data.texts, 'labels': test_data.labels.tolist(), 'probs': preds.detach().tolist()})\n",
    "pred_df['preds'] = pred_df.probs.apply(lambda p: (np.array(p) >= 0.5).astype(int).tolist())"
   ]
  },
  {
   "cell_type": "code",
   "execution_count": 18,
   "metadata": {},
   "outputs": [
    {
     "data": {
      "text/html": [
       "<div>\n",
       "<style scoped>\n",
       "    .dataframe tbody tr th:only-of-type {\n",
       "        vertical-align: middle;\n",
       "    }\n",
       "\n",
       "    .dataframe tbody tr th {\n",
       "        vertical-align: top;\n",
       "    }\n",
       "\n",
       "    .dataframe thead th {\n",
       "        text-align: right;\n",
       "    }\n",
       "</style>\n",
       "<table border=\"1\" class=\"dataframe\">\n",
       "  <thead>\n",
       "    <tr style=\"text-align: right;\">\n",
       "      <th></th>\n",
       "      <th>texts</th>\n",
       "      <th>labels</th>\n",
       "      <th>probs</th>\n",
       "      <th>preds</th>\n",
       "    </tr>\n",
       "  </thead>\n",
       "  <tbody>\n",
       "    <tr>\n",
       "      <th>0</th>\n",
       "      <td>PersonX abuses PersonX's power</td>\n",
       "      <td>[0, 1, 1]</td>\n",
       "      <td>[0.007279202342033386, 0.8754659295082092, 0.9...</td>\n",
       "      <td>[0, 1, 1]</td>\n",
       "    </tr>\n",
       "    <tr>\n",
       "      <th>1</th>\n",
       "      <td>PersonX accepts PersonY's apology</td>\n",
       "      <td>[0, 1, 1]</td>\n",
       "      <td>[0.004542194306850433, 0.9169185161590576, 0.9...</td>\n",
       "      <td>[0, 1, 1]</td>\n",
       "    </tr>\n",
       "    <tr>\n",
       "      <th>2</th>\n",
       "      <td>PersonX accepts ___ in payment</td>\n",
       "      <td>[0, 1, 1]</td>\n",
       "      <td>[0.006188894622027874, 0.6897541880607605, 0.9...</td>\n",
       "      <td>[0, 1, 1]</td>\n",
       "    </tr>\n",
       "    <tr>\n",
       "      <th>3</th>\n",
       "      <td>PersonX accidentally kicked</td>\n",
       "      <td>[0, 1, 1]</td>\n",
       "      <td>[0.3949142396450043, 0.4427388310432434, 0.498...</td>\n",
       "      <td>[0, 0, 0]</td>\n",
       "    </tr>\n",
       "    <tr>\n",
       "      <th>4</th>\n",
       "      <td>PersonX accidentally kicked ___</td>\n",
       "      <td>[0, 1, 1]</td>\n",
       "      <td>[0.01818978600203991, 0.6005459427833557, 0.95...</td>\n",
       "      <td>[0, 1, 1]</td>\n",
       "    </tr>\n",
       "  </tbody>\n",
       "</table>\n",
       "</div>"
      ],
      "text/plain": [
       "                               texts     labels  \\\n",
       "0     PersonX abuses PersonX's power  [0, 1, 1]   \n",
       "1  PersonX accepts PersonY's apology  [0, 1, 1]   \n",
       "2     PersonX accepts ___ in payment  [0, 1, 1]   \n",
       "3        PersonX accidentally kicked  [0, 1, 1]   \n",
       "4    PersonX accidentally kicked ___  [0, 1, 1]   \n",
       "\n",
       "                                               probs      preds  \n",
       "0  [0.007279202342033386, 0.8754659295082092, 0.9...  [0, 1, 1]  \n",
       "1  [0.004542194306850433, 0.9169185161590576, 0.9...  [0, 1, 1]  \n",
       "2  [0.006188894622027874, 0.6897541880607605, 0.9...  [0, 1, 1]  \n",
       "3  [0.3949142396450043, 0.4427388310432434, 0.498...  [0, 0, 0]  \n",
       "4  [0.01818978600203991, 0.6005459427833557, 0.95...  [0, 1, 1]  "
      ]
     },
     "execution_count": 18,
     "metadata": {},
     "output_type": "execute_result"
    }
   ],
   "source": [
    "pred_df.head()"
   ]
  },
  {
   "cell_type": "code",
   "execution_count": 19,
   "metadata": {},
   "outputs": [],
   "source": [
    "pred_df['matches'] = pred_df.apply(lambda row: (np.array(row.labels) * np.array(row.preds)).sum().tolist(), axis=1)"
   ]
  },
  {
   "cell_type": "code",
   "execution_count": 23,
   "metadata": {},
   "outputs": [],
   "source": [
    "pred_df['label_0'] = pred_df.labels.apply(lambda l: l[0])\n",
    "pred_df['label_1'] = pred_df.labels.apply(lambda l: l[1])\n",
    "pred_df['label_2'] = pred_df.labels.apply(lambda l: l[2])\n",
    "pred_df['pred_0'] = pred_df.preds.apply(lambda p: p[0])\n",
    "pred_df['pred_1'] = pred_df.preds.apply(lambda p: p[1])\n",
    "pred_df['pred_2'] = pred_df.preds.apply(lambda p: p[2])"
   ]
  },
  {
   "cell_type": "code",
   "execution_count": 24,
   "metadata": {},
   "outputs": [
    {
     "data": {
      "text/html": [
       "<div>\n",
       "<style scoped>\n",
       "    .dataframe tbody tr th:only-of-type {\n",
       "        vertical-align: middle;\n",
       "    }\n",
       "\n",
       "    .dataframe tbody tr th {\n",
       "        vertical-align: top;\n",
       "    }\n",
       "\n",
       "    .dataframe thead th {\n",
       "        text-align: right;\n",
       "    }\n",
       "</style>\n",
       "<table border=\"1\" class=\"dataframe\">\n",
       "  <thead>\n",
       "    <tr style=\"text-align: right;\">\n",
       "      <th></th>\n",
       "      <th>texts</th>\n",
       "      <th>labels</th>\n",
       "      <th>probs</th>\n",
       "      <th>preds</th>\n",
       "      <th>matches</th>\n",
       "      <th>label_0</th>\n",
       "      <th>label_1</th>\n",
       "      <th>label_2</th>\n",
       "      <th>pred_0</th>\n",
       "      <th>pred_1</th>\n",
       "      <th>pred_2</th>\n",
       "    </tr>\n",
       "  </thead>\n",
       "  <tbody>\n",
       "    <tr>\n",
       "      <th>0</th>\n",
       "      <td>PersonX abuses PersonX's power</td>\n",
       "      <td>[0, 1, 1]</td>\n",
       "      <td>[0.007279202342033386, 0.8754659295082092, 0.9...</td>\n",
       "      <td>[0, 1, 1]</td>\n",
       "      <td>2</td>\n",
       "      <td>0</td>\n",
       "      <td>1</td>\n",
       "      <td>1</td>\n",
       "      <td>0</td>\n",
       "      <td>1</td>\n",
       "      <td>1</td>\n",
       "    </tr>\n",
       "    <tr>\n",
       "      <th>1</th>\n",
       "      <td>PersonX accepts PersonY's apology</td>\n",
       "      <td>[0, 1, 1]</td>\n",
       "      <td>[0.004542194306850433, 0.9169185161590576, 0.9...</td>\n",
       "      <td>[0, 1, 1]</td>\n",
       "      <td>2</td>\n",
       "      <td>0</td>\n",
       "      <td>1</td>\n",
       "      <td>1</td>\n",
       "      <td>0</td>\n",
       "      <td>1</td>\n",
       "      <td>1</td>\n",
       "    </tr>\n",
       "    <tr>\n",
       "      <th>2</th>\n",
       "      <td>PersonX accepts ___ in payment</td>\n",
       "      <td>[0, 1, 1]</td>\n",
       "      <td>[0.006188894622027874, 0.6897541880607605, 0.9...</td>\n",
       "      <td>[0, 1, 1]</td>\n",
       "      <td>2</td>\n",
       "      <td>0</td>\n",
       "      <td>1</td>\n",
       "      <td>1</td>\n",
       "      <td>0</td>\n",
       "      <td>1</td>\n",
       "      <td>1</td>\n",
       "    </tr>\n",
       "    <tr>\n",
       "      <th>3</th>\n",
       "      <td>PersonX accidentally kicked</td>\n",
       "      <td>[0, 1, 1]</td>\n",
       "      <td>[0.3949142396450043, 0.4427388310432434, 0.498...</td>\n",
       "      <td>[0, 0, 0]</td>\n",
       "      <td>0</td>\n",
       "      <td>0</td>\n",
       "      <td>1</td>\n",
       "      <td>1</td>\n",
       "      <td>0</td>\n",
       "      <td>0</td>\n",
       "      <td>0</td>\n",
       "    </tr>\n",
       "    <tr>\n",
       "      <th>4</th>\n",
       "      <td>PersonX accidentally kicked ___</td>\n",
       "      <td>[0, 1, 1]</td>\n",
       "      <td>[0.01818978600203991, 0.6005459427833557, 0.95...</td>\n",
       "      <td>[0, 1, 1]</td>\n",
       "      <td>2</td>\n",
       "      <td>0</td>\n",
       "      <td>1</td>\n",
       "      <td>1</td>\n",
       "      <td>0</td>\n",
       "      <td>1</td>\n",
       "      <td>1</td>\n",
       "    </tr>\n",
       "  </tbody>\n",
       "</table>\n",
       "</div>"
      ],
      "text/plain": [
       "                               texts     labels  \\\n",
       "0     PersonX abuses PersonX's power  [0, 1, 1]   \n",
       "1  PersonX accepts PersonY's apology  [0, 1, 1]   \n",
       "2     PersonX accepts ___ in payment  [0, 1, 1]   \n",
       "3        PersonX accidentally kicked  [0, 1, 1]   \n",
       "4    PersonX accidentally kicked ___  [0, 1, 1]   \n",
       "\n",
       "                                               probs      preds  matches  \\\n",
       "0  [0.007279202342033386, 0.8754659295082092, 0.9...  [0, 1, 1]        2   \n",
       "1  [0.004542194306850433, 0.9169185161590576, 0.9...  [0, 1, 1]        2   \n",
       "2  [0.006188894622027874, 0.6897541880607605, 0.9...  [0, 1, 1]        2   \n",
       "3  [0.3949142396450043, 0.4427388310432434, 0.498...  [0, 0, 0]        0   \n",
       "4  [0.01818978600203991, 0.6005459427833557, 0.95...  [0, 1, 1]        2   \n",
       "\n",
       "   label_0  label_1  label_2  pred_0  pred_1  pred_2  \n",
       "0        0        1        1       0       1       1  \n",
       "1        0        1        1       0       1       1  \n",
       "2        0        1        1       0       1       1  \n",
       "3        0        1        1       0       0       0  \n",
       "4        0        1        1       0       1       1  "
      ]
     },
     "execution_count": 24,
     "metadata": {},
     "output_type": "execute_result"
    }
   ],
   "source": [
    "pred_df.head()"
   ]
  },
  {
   "cell_type": "code",
   "execution_count": 27,
   "metadata": {},
   "outputs": [
    {
     "data": {
      "text/plain": [
       "0.9936923823386705"
      ]
     },
     "execution_count": 27,
     "metadata": {},
     "output_type": "execute_result"
    }
   ],
   "source": [
    "# Percentage of confusions between class 2 and class 3\n",
    "len(pred_df[(pred_df.label_2 == 0) & (pred_df.pred_2 == 1) & (pred_df.label_1 == 1)]) / len(pred_df[(pred_df.label_2 == 0) & (pred_df.pred_2 == 1)])"
   ]
  },
  {
   "cell_type": "code",
   "execution_count": 28,
   "metadata": {},
   "outputs": [
    {
     "data": {
      "text/plain": [
       "0.006307617661329452"
      ]
     },
     "execution_count": 28,
     "metadata": {},
     "output_type": "execute_result"
    }
   ],
   "source": [
    "# Percentage of confusions between class 1 and class 3\n",
    "len(pred_df[(pred_df.label_2 == 0) & (pred_df.pred_2 == 1) & (pred_df.label_0 == 1)]) / len(pred_df[(pred_df.label_2 == 0) & (pred_df.pred_2 == 1)])"
   ]
  },
  {
   "cell_type": "code",
   "execution_count": 29,
   "metadata": {},
   "outputs": [
    {
     "data": {
      "text/plain": [
       "0.01968503937007874"
      ]
     },
     "execution_count": 29,
     "metadata": {},
     "output_type": "execute_result"
    }
   ],
   "source": [
    "# Percentage of confusions between class 1 and class 2\n",
    "len(pred_df[(pred_df.label_1 == 0) & (pred_df.pred_1 == 1) & (pred_df.label_0 == 1)]) / len(pred_df[(pred_df.label_1 == 0) & (pred_df.pred_1 == 1)])"
   ]
  },
  {
   "cell_type": "code",
   "execution_count": null,
   "metadata": {},
   "outputs": [],
   "source": [
    "# Percentage of confusions between class 1 and class 2\n",
    "len(pred_df[(pred_df.label_1 == 1) & (pred_df.pred_1 == 0) & (pred_df.label_0 == 0)]) / len(pred_df[(pred_df.label_1 == 0) & (pred_df.pred_1 == 1)])"
   ]
  },
  {
   "cell_type": "code",
   "execution_count": 34,
   "metadata": {},
   "outputs": [
    {
     "name": "stdout",
     "output_type": "stream",
     "text": [
      "Label=[0, 0, 'x'], pred=[0, 0, 'x'], percentage=0.03597122302158273\n",
      "Label=[0, 0, 'x'], pred=[0, 1, 'x'], percentage=0.89568345323741\n",
      "Label=[0, 0, 'x'], pred=[1, 0, 'x'], percentage=0.0683453237410072\n",
      "Label=[0, 0, 'x'], pred=[1, 1, 'x'], percentage=0.0\n",
      "Label=[0, 1, 'x'], pred=[0, 0, 'x'], percentage=0.02642369020501139\n",
      "Label=[0, 1, 'x'], pred=[0, 1, 'x'], percentage=0.9542141230068337\n",
      "Label=[0, 1, 'x'], pred=[1, 0, 'x'], percentage=0.0193621867881549\n",
      "Label=[0, 1, 'x'], pred=[1, 1, 'x'], percentage=0.0\n",
      "Label=[1, 0, 'x'], pred=[0, 0, 'x'], percentage=0.011752136752136752\n",
      "Label=[1, 0, 'x'], pred=[0, 1, 'x'], percentage=0.002670940170940171\n",
      "Label=[1, 0, 'x'], pred=[1, 0, 'x'], percentage=0.9855769230769231\n",
      "Label=[1, 0, 'x'], pred=[1, 1, 'x'], percentage=0.0\n",
      "Label=[1, 1, 'x'], pred=[0, 0, 'x'], percentage=0.0\n",
      "Label=[1, 1, 'x'], pred=[0, 1, 'x'], percentage=0.0\n",
      "Label=[1, 1, 'x'], pred=[1, 0, 'x'], percentage=1.0\n",
      "Label=[1, 1, 'x'], pred=[1, 1, 'x'], percentage=0.0\n",
      "Label=[0, 'x', 0], pred=[0, 'x', 0], percentage=0.005215742057847321\n",
      "Label=[0, 'x', 0], pred=[0, 'x', 1], percentage=0.9710763394973921\n",
      "Label=[0, 'x', 0], pred=[1, 'x', 0], percentage=0.02370791844476055\n",
      "Label=[0, 'x', 0], pred=[1, 'x', 1], percentage=0.0\n",
      "Label=[0, 'x', 1], pred=[0, 'x', 0], percentage=0.007815552950371238\n",
      "Label=[0, 'x', 1], pred=[0, 'x', 1], percentage=0.9710824540836264\n",
      "Label=[0, 'x', 1], pred=[1, 'x', 0], percentage=0.021101992966002344\n",
      "Label=[0, 'x', 1], pred=[1, 'x', 1], percentage=0.0\n",
      "Label=[1, 'x', 0], pred=[0, 'x', 0], percentage=0.00688924218335983\n",
      "Label=[1, 'x', 0], pred=[0, 'x', 1], percentage=0.00688924218335983\n",
      "Label=[1, 'x', 0], pred=[1, 'x', 0], percentage=0.9862215156332803\n",
      "Label=[1, 'x', 0], pred=[1, 'x', 1], percentage=0.0\n",
      "Label=[1, 'x', 1], pred=[0, 'x', 0], percentage=0.0\n",
      "Label=[1, 'x', 1], pred=[0, 'x', 1], percentage=0.07142857142857142\n",
      "Label=[1, 'x', 1], pred=[1, 'x', 0], percentage=0.9285714285714286\n",
      "Label=[1, 'x', 1], pred=[1, 'x', 1], percentage=0.0\n",
      "Label=[0, 0, 'x'], pred=[0, 0, 'x'], percentage=0.03597122302158273\n",
      "Label=[0, 0, 'x'], pred=[1, 0, 'x'], percentage=0.0683453237410072\n",
      "Label=[0, 0, 'x'], pred=[0, 1, 'x'], percentage=0.89568345323741\n",
      "Label=[0, 0, 'x'], pred=[1, 1, 'x'], percentage=0.0\n",
      "Label=[1, 0, 'x'], pred=[0, 0, 'x'], percentage=0.011752136752136752\n",
      "Label=[1, 0, 'x'], pred=[1, 0, 'x'], percentage=0.9855769230769231\n",
      "Label=[1, 0, 'x'], pred=[0, 1, 'x'], percentage=0.002670940170940171\n",
      "Label=[1, 0, 'x'], pred=[1, 1, 'x'], percentage=0.0\n",
      "Label=[0, 1, 'x'], pred=[0, 0, 'x'], percentage=0.02642369020501139\n",
      "Label=[0, 1, 'x'], pred=[1, 0, 'x'], percentage=0.0193621867881549\n",
      "Label=[0, 1, 'x'], pred=[0, 1, 'x'], percentage=0.9542141230068337\n",
      "Label=[0, 1, 'x'], pred=[1, 1, 'x'], percentage=0.0\n",
      "Label=[1, 1, 'x'], pred=[0, 0, 'x'], percentage=0.0\n",
      "Label=[1, 1, 'x'], pred=[1, 0, 'x'], percentage=1.0\n",
      "Label=[1, 1, 'x'], pred=[0, 1, 'x'], percentage=0.0\n",
      "Label=[1, 1, 'x'], pred=[1, 1, 'x'], percentage=0.0\n",
      "Label=['x', 0, 0], pred=['x', 0, 0], percentage=0.9930294906166219\n",
      "Label=['x', 0, 0], pred=['x', 0, 1], percentage=0.004289544235924933\n",
      "Label=['x', 0, 0], pred=['x', 1, 0], percentage=0.0\n",
      "Label=['x', 0, 0], pred=['x', 1, 1], percentage=0.002680965147453083\n",
      "Label=['x', 0, 1], pred=['x', 0, 0], percentage=0.11228070175438597\n",
      "Label=['x', 0, 1], pred=['x', 0, 1], percentage=0.014035087719298246\n",
      "Label=['x', 0, 1], pred=['x', 1, 0], percentage=0.0\n",
      "Label=['x', 0, 1], pred=['x', 1, 1], percentage=0.8736842105263158\n",
      "Label=['x', 1, 0], pred=['x', 0, 0], percentage=0.03894885030502112\n",
      "Label=['x', 1, 0], pred=['x', 0, 1], percentage=0.018770530267480056\n",
      "Label=['x', 1, 0], pred=['x', 1, 0], percentage=0.0\n",
      "Label=['x', 1, 0], pred=['x', 1, 1], percentage=0.9422806194274989\n",
      "Label=['x', 1, 1], pred=['x', 0, 0], percentage=0.02403846153846154\n",
      "Label=['x', 1, 1], pred=['x', 0, 1], percentage=0.022727272727272728\n",
      "Label=['x', 1, 1], pred=['x', 1, 0], percentage=0.0\n",
      "Label=['x', 1, 1], pred=['x', 1, 1], percentage=0.9532342657342657\n",
      "Label=[0, 'x', 0], pred=[0, 'x', 0], percentage=0.005215742057847321\n",
      "Label=[0, 'x', 0], pred=[1, 'x', 0], percentage=0.02370791844476055\n",
      "Label=[0, 'x', 0], pred=[0, 'x', 1], percentage=0.9710763394973921\n",
      "Label=[0, 'x', 0], pred=[1, 'x', 1], percentage=0.0\n",
      "Label=[1, 'x', 0], pred=[0, 'x', 0], percentage=0.00688924218335983\n",
      "Label=[1, 'x', 0], pred=[1, 'x', 0], percentage=0.9862215156332803\n",
      "Label=[1, 'x', 0], pred=[0, 'x', 1], percentage=0.00688924218335983\n",
      "Label=[1, 'x', 0], pred=[1, 'x', 1], percentage=0.0\n",
      "Label=[0, 'x', 1], pred=[0, 'x', 0], percentage=0.007815552950371238\n",
      "Label=[0, 'x', 1], pred=[1, 'x', 0], percentage=0.021101992966002344\n",
      "Label=[0, 'x', 1], pred=[0, 'x', 1], percentage=0.9710824540836264\n",
      "Label=[0, 'x', 1], pred=[1, 'x', 1], percentage=0.0\n",
      "Label=[1, 'x', 1], pred=[0, 'x', 0], percentage=0.0\n",
      "Label=[1, 'x', 1], pred=[1, 'x', 0], percentage=0.9285714285714286\n",
      "Label=[1, 'x', 1], pred=[0, 'x', 1], percentage=0.07142857142857142\n",
      "Label=[1, 'x', 1], pred=[1, 'x', 1], percentage=0.0\n",
      "Label=['x', 0, 0], pred=['x', 0, 0], percentage=0.9930294906166219\n",
      "Label=['x', 0, 0], pred=['x', 1, 0], percentage=0.0\n",
      "Label=['x', 0, 0], pred=['x', 0, 1], percentage=0.004289544235924933\n",
      "Label=['x', 0, 0], pred=['x', 1, 1], percentage=0.002680965147453083\n",
      "Label=['x', 1, 0], pred=['x', 0, 0], percentage=0.03894885030502112\n",
      "Label=['x', 1, 0], pred=['x', 1, 0], percentage=0.0\n",
      "Label=['x', 1, 0], pred=['x', 0, 1], percentage=0.018770530267480056\n",
      "Label=['x', 1, 0], pred=['x', 1, 1], percentage=0.9422806194274989\n",
      "Label=['x', 0, 1], pred=['x', 0, 0], percentage=0.11228070175438597\n",
      "Label=['x', 0, 1], pred=['x', 1, 0], percentage=0.0\n",
      "Label=['x', 0, 1], pred=['x', 0, 1], percentage=0.014035087719298246\n",
      "Label=['x', 0, 1], pred=['x', 1, 1], percentage=0.8736842105263158\n",
      "Label=['x', 1, 1], pred=['x', 0, 0], percentage=0.02403846153846154\n",
      "Label=['x', 1, 1], pred=['x', 1, 0], percentage=0.0\n",
      "Label=['x', 1, 1], pred=['x', 0, 1], percentage=0.022727272727272728\n",
      "Label=['x', 1, 1], pred=['x', 1, 1], percentage=0.9532342657342657\n"
     ]
    }
   ],
   "source": [
    "# Percentage of confusions between classes\n",
    "\n",
    "for class_x in [0, 1, 2]:\n",
    "    for class_y in [0, 1, 2]:\n",
    "        for label_x in [0, 1]:\n",
    "            for label_y in [0, 1]:\n",
    "                for pred_x in [0, 1]:\n",
    "                    for pred_y in [0, 1]:\n",
    "                        if class_x != class_y and label_x != pred_x and label_y != pred_y:\n",
    "                            label = ['x', 'x', 'x']\n",
    "                            pred = ['x', 'x', 'x']\n",
    "                            label[class_x] = label_x\n",
    "                            label[class_y] = label_y\n",
    "                            pred[class_x] = pred_x\n",
    "                            pred[class_y] = pred_y\n",
    "                            sub = pred_df[(pred_df[f'label_{class_x}'] == label_x) & (pred_df[f'label_{class_y}'] == label_y) & (pred_df[f'pred_{class_x}'] == pred_x) & (pred_df[f'pred_{class_y}'] == pred_y)]\n",
    "                            whole = pred_df[(pred_df[f'label_{class_x}'] == label_x) & (pred_df[f'label_{class_y}'] == label_y)]\n",
    "                            print(f\"label={label}, pred={pred}, percentage={len(sub)/len(whole)}\")"
   ]
  },
  {
   "cell_type": "code",
   "execution_count": 30,
   "metadata": {},
   "outputs": [
    {
     "data": {
      "text/plain": [
       "0.34830263358197594"
      ]
     },
     "execution_count": 30,
     "metadata": {},
     "output_type": "execute_result"
    }
   ],
   "source": [
    "len(pred_df[(pred_df.label_1 == 1) & (pred_df.label_2 == 1)]) / len(pred_df)"
   ]
  },
  {
   "cell_type": "code",
   "execution_count": 31,
   "metadata": {},
   "outputs": [
    {
     "data": {
      "text/plain": [
       "0.0021312224082813214"
      ]
     },
     "execution_count": 31,
     "metadata": {},
     "output_type": "execute_result"
    }
   ],
   "source": [
    "len(pred_df[(pred_df.label_0 == 1) & (pred_df.label_2 == 1)]) / len(pred_df)"
   ]
  },
  {
   "cell_type": "code",
   "execution_count": 32,
   "metadata": {},
   "outputs": [
    {
     "data": {
      "text/plain": [
       "0.004414674988582737"
      ]
     },
     "execution_count": 32,
     "metadata": {},
     "output_type": "execute_result"
    }
   ],
   "source": [
    "len(pred_df[(pred_df.label_0 == 1) & (pred_df.label_1 == 1)]) / len(pred_df)"
   ]
  },
  {
   "cell_type": "code",
   "execution_count": 33,
   "metadata": {},
   "outputs": [
    {
     "data": {
      "text/html": [
       "<div>\n",
       "<style scoped>\n",
       "    .dataframe tbody tr th:only-of-type {\n",
       "        vertical-align: middle;\n",
       "    }\n",
       "\n",
       "    .dataframe tbody tr th {\n",
       "        vertical-align: top;\n",
       "    }\n",
       "\n",
       "    .dataframe thead th {\n",
       "        text-align: right;\n",
       "    }\n",
       "</style>\n",
       "<table border=\"1\" class=\"dataframe\">\n",
       "  <thead>\n",
       "    <tr style=\"text-align: right;\">\n",
       "      <th></th>\n",
       "      <th>texts</th>\n",
       "      <th>labels</th>\n",
       "      <th>probs</th>\n",
       "      <th>preds</th>\n",
       "      <th>matches</th>\n",
       "      <th>label_0</th>\n",
       "      <th>label_1</th>\n",
       "      <th>label_2</th>\n",
       "      <th>pred_0</th>\n",
       "      <th>pred_1</th>\n",
       "      <th>pred_2</th>\n",
       "    </tr>\n",
       "  </thead>\n",
       "  <tbody>\n",
       "    <tr>\n",
       "      <th>3200</th>\n",
       "      <td>airplane engine</td>\n",
       "      <td>[0, 1, 0]</td>\n",
       "      <td>[0.9113984704017639, 0.10558881610631943, 0.06...</td>\n",
       "      <td>[1, 0, 0]</td>\n",
       "      <td>0</td>\n",
       "      <td>0</td>\n",
       "      <td>1</td>\n",
       "      <td>0</td>\n",
       "      <td>1</td>\n",
       "      <td>0</td>\n",
       "      <td>0</td>\n",
       "    </tr>\n",
       "    <tr>\n",
       "      <th>3201</th>\n",
       "      <td>alcoholism</td>\n",
       "      <td>[0, 1, 0]</td>\n",
       "      <td>[0.9269378781318665, 0.10149876028299332, 0.06...</td>\n",
       "      <td>[1, 0, 0]</td>\n",
       "      <td>0</td>\n",
       "      <td>0</td>\n",
       "      <td>1</td>\n",
       "      <td>0</td>\n",
       "      <td>1</td>\n",
       "      <td>0</td>\n",
       "      <td>0</td>\n",
       "    </tr>\n",
       "    <tr>\n",
       "      <th>3202</th>\n",
       "      <td>argument</td>\n",
       "      <td>[0, 1, 0]</td>\n",
       "      <td>[0.8820464015007019, 0.1297539323568344, 0.100...</td>\n",
       "      <td>[1, 0, 0]</td>\n",
       "      <td>0</td>\n",
       "      <td>0</td>\n",
       "      <td>1</td>\n",
       "      <td>0</td>\n",
       "      <td>1</td>\n",
       "      <td>0</td>\n",
       "      <td>0</td>\n",
       "    </tr>\n",
       "    <tr>\n",
       "      <th>3203</th>\n",
       "      <td>cancerous tumor</td>\n",
       "      <td>[0, 1, 0]</td>\n",
       "      <td>[0.941831111907959, 0.07380104064941406, 0.046...</td>\n",
       "      <td>[1, 0, 0]</td>\n",
       "      <td>0</td>\n",
       "      <td>0</td>\n",
       "      <td>1</td>\n",
       "      <td>0</td>\n",
       "      <td>1</td>\n",
       "      <td>0</td>\n",
       "      <td>0</td>\n",
       "    </tr>\n",
       "    <tr>\n",
       "      <th>3204</th>\n",
       "      <td>car chase</td>\n",
       "      <td>[0, 1, 0]</td>\n",
       "      <td>[0.8344407677650452, 0.15622617304325104, 0.12...</td>\n",
       "      <td>[1, 0, 0]</td>\n",
       "      <td>0</td>\n",
       "      <td>0</td>\n",
       "      <td>1</td>\n",
       "      <td>0</td>\n",
       "      <td>1</td>\n",
       "      <td>0</td>\n",
       "      <td>0</td>\n",
       "    </tr>\n",
       "    <tr>\n",
       "      <th>...</th>\n",
       "      <td>...</td>\n",
       "      <td>...</td>\n",
       "      <td>...</td>\n",
       "      <td>...</td>\n",
       "      <td>...</td>\n",
       "      <td>...</td>\n",
       "      <td>...</td>\n",
       "      <td>...</td>\n",
       "      <td>...</td>\n",
       "      <td>...</td>\n",
       "      <td>...</td>\n",
       "    </tr>\n",
       "    <tr>\n",
       "      <th>6503</th>\n",
       "      <td>PersonX provides PersonY basis</td>\n",
       "      <td>[0, 1, 0]</td>\n",
       "      <td>[0.040776558220386505, 0.7636806964874268, 0.9...</td>\n",
       "      <td>[0, 1, 1]</td>\n",
       "      <td>1</td>\n",
       "      <td>0</td>\n",
       "      <td>1</td>\n",
       "      <td>0</td>\n",
       "      <td>0</td>\n",
       "      <td>1</td>\n",
       "      <td>1</td>\n",
       "    </tr>\n",
       "    <tr>\n",
       "      <th>6504</th>\n",
       "      <td>PersonX makes PersonY changes</td>\n",
       "      <td>[0, 1, 0]</td>\n",
       "      <td>[0.007372543681412935, 0.8869695067405701, 0.9...</td>\n",
       "      <td>[0, 1, 1]</td>\n",
       "      <td>1</td>\n",
       "      <td>0</td>\n",
       "      <td>1</td>\n",
       "      <td>0</td>\n",
       "      <td>0</td>\n",
       "      <td>1</td>\n",
       "      <td>1</td>\n",
       "    </tr>\n",
       "    <tr>\n",
       "      <th>6505</th>\n",
       "      <td>PersonX gets PersonY idea</td>\n",
       "      <td>[0, 1, 0]</td>\n",
       "      <td>[0.011564677581191063, 0.8723880052566528, 0.9...</td>\n",
       "      <td>[0, 1, 1]</td>\n",
       "      <td>1</td>\n",
       "      <td>0</td>\n",
       "      <td>1</td>\n",
       "      <td>0</td>\n",
       "      <td>0</td>\n",
       "      <td>1</td>\n",
       "      <td>1</td>\n",
       "    </tr>\n",
       "    <tr>\n",
       "      <th>6506</th>\n",
       "      <td>PersonX uses PersonX's eyes</td>\n",
       "      <td>[0, 1, 0]</td>\n",
       "      <td>[0.0021263044327497482, 0.9422444105148315, 0....</td>\n",
       "      <td>[0, 1, 1]</td>\n",
       "      <td>1</td>\n",
       "      <td>0</td>\n",
       "      <td>1</td>\n",
       "      <td>0</td>\n",
       "      <td>0</td>\n",
       "      <td>1</td>\n",
       "      <td>1</td>\n",
       "    </tr>\n",
       "    <tr>\n",
       "      <th>6507</th>\n",
       "      <td>PersonX takes PersonY action</td>\n",
       "      <td>[0, 1, 0]</td>\n",
       "      <td>[0.016612470149993896, 0.8392093181610107, 0.9...</td>\n",
       "      <td>[0, 1, 1]</td>\n",
       "      <td>1</td>\n",
       "      <td>0</td>\n",
       "      <td>1</td>\n",
       "      <td>0</td>\n",
       "      <td>0</td>\n",
       "      <td>1</td>\n",
       "      <td>1</td>\n",
       "    </tr>\n",
       "  </tbody>\n",
       "</table>\n",
       "<p>2109 rows × 11 columns</p>\n",
       "</div>"
      ],
      "text/plain": [
       "                               texts     labels  \\\n",
       "3200                 airplane engine  [0, 1, 0]   \n",
       "3201                      alcoholism  [0, 1, 0]   \n",
       "3202                        argument  [0, 1, 0]   \n",
       "3203                 cancerous tumor  [0, 1, 0]   \n",
       "3204                       car chase  [0, 1, 0]   \n",
       "...                              ...        ...   \n",
       "6503  PersonX provides PersonY basis  [0, 1, 0]   \n",
       "6504   PersonX makes PersonY changes  [0, 1, 0]   \n",
       "6505       PersonX gets PersonY idea  [0, 1, 0]   \n",
       "6506     PersonX uses PersonX's eyes  [0, 1, 0]   \n",
       "6507    PersonX takes PersonY action  [0, 1, 0]   \n",
       "\n",
       "                                                  probs      preds  matches  \\\n",
       "3200  [0.9113984704017639, 0.10558881610631943, 0.06...  [1, 0, 0]        0   \n",
       "3201  [0.9269378781318665, 0.10149876028299332, 0.06...  [1, 0, 0]        0   \n",
       "3202  [0.8820464015007019, 0.1297539323568344, 0.100...  [1, 0, 0]        0   \n",
       "3203  [0.941831111907959, 0.07380104064941406, 0.046...  [1, 0, 0]        0   \n",
       "3204  [0.8344407677650452, 0.15622617304325104, 0.12...  [1, 0, 0]        0   \n",
       "...                                                 ...        ...      ...   \n",
       "6503  [0.040776558220386505, 0.7636806964874268, 0.9...  [0, 1, 1]        1   \n",
       "6504  [0.007372543681412935, 0.8869695067405701, 0.9...  [0, 1, 1]        1   \n",
       "6505  [0.011564677581191063, 0.8723880052566528, 0.9...  [0, 1, 1]        1   \n",
       "6506  [0.0021263044327497482, 0.9422444105148315, 0....  [0, 1, 1]        1   \n",
       "6507  [0.016612470149993896, 0.8392093181610107, 0.9...  [0, 1, 1]        1   \n",
       "\n",
       "      label_0  label_1  label_2  pred_0  pred_1  pred_2  \n",
       "3200        0        1        0       1       0       0  \n",
       "3201        0        1        0       1       0       0  \n",
       "3202        0        1        0       1       0       0  \n",
       "3203        0        1        0       1       0       0  \n",
       "3204        0        1        0       1       0       0  \n",
       "...       ...      ...      ...     ...     ...     ...  \n",
       "6503        0        1        0       0       1       1  \n",
       "6504        0        1        0       0       1       1  \n",
       "6505        0        1        0       0       1       1  \n",
       "6506        0        1        0       0       1       1  \n",
       "6507        0        1        0       0       1       1  \n",
       "\n",
       "[2109 rows x 11 columns]"
      ]
     },
     "execution_count": 33,
     "metadata": {},
     "output_type": "execute_result"
    }
   ],
   "source": [
    "pred_df[(pred_df.label_0 == 0) & (pred_df.label_1 == 1) & (pred_df.label_2 == 0)]"
   ]
  },
  {
   "cell_type": "code",
   "execution_count": 15,
   "metadata": {},
   "outputs": [
    {
     "data": {
      "text/plain": [
       "201"
      ]
     },
     "execution_count": 15,
     "metadata": {},
     "output_type": "execute_result"
    }
   ],
   "source": [
    "# Number of total mistakes\n",
    "len(pred_df[pred_df['matches'] < 1])"
   ]
  },
  {
   "cell_type": "code",
   "execution_count": 16,
   "metadata": {},
   "outputs": [
    {
     "data": {
      "text/html": [
       "<div>\n",
       "<style scoped>\n",
       "    .dataframe tbody tr th:only-of-type {\n",
       "        vertical-align: middle;\n",
       "    }\n",
       "\n",
       "    .dataframe tbody tr th {\n",
       "        vertical-align: top;\n",
       "    }\n",
       "\n",
       "    .dataframe thead th {\n",
       "        text-align: right;\n",
       "    }\n",
       "</style>\n",
       "<table border=\"1\" class=\"dataframe\">\n",
       "  <thead>\n",
       "    <tr style=\"text-align: right;\">\n",
       "      <th></th>\n",
       "      <th>texts</th>\n",
       "      <th>labels</th>\n",
       "      <th>probs</th>\n",
       "      <th>preds</th>\n",
       "      <th>matches</th>\n",
       "    </tr>\n",
       "  </thead>\n",
       "  <tbody>\n",
       "    <tr>\n",
       "      <th>3</th>\n",
       "      <td>PersonX accidentally kicked</td>\n",
       "      <td>[0, 1, 1]</td>\n",
       "      <td>[0.3949142396450043, 0.4427388310432434, 0.498...</td>\n",
       "      <td>[0, 0, 0]</td>\n",
       "      <td>0</td>\n",
       "    </tr>\n",
       "    <tr>\n",
       "      <th>5</th>\n",
       "      <td>PersonX accidentally poured</td>\n",
       "      <td>[0, 1, 1]</td>\n",
       "      <td>[0.40726250410079956, 0.43522584438323975, 0.4...</td>\n",
       "      <td>[0, 0, 0]</td>\n",
       "      <td>0</td>\n",
       "    </tr>\n",
       "    <tr>\n",
       "      <th>126</th>\n",
       "      <td>PersonX blows bubbles</td>\n",
       "      <td>[0, 1, 1]</td>\n",
       "      <td>[0.4730721414089203, 0.4032168984413147, 0.456...</td>\n",
       "      <td>[0, 0, 0]</td>\n",
       "      <td>0</td>\n",
       "    </tr>\n",
       "    <tr>\n",
       "      <th>419</th>\n",
       "      <td>PersonX donates plasma</td>\n",
       "      <td>[0, 1, 1]</td>\n",
       "      <td>[0.5411490201950073, 0.3266826868057251, 0.371...</td>\n",
       "      <td>[1, 0, 0]</td>\n",
       "      <td>0</td>\n",
       "    </tr>\n",
       "    <tr>\n",
       "      <th>953</th>\n",
       "      <td>PersonX hats cats</td>\n",
       "      <td>[0, 1, 1]</td>\n",
       "      <td>[0.42976856231689453, 0.3377617299556732, 0.45...</td>\n",
       "      <td>[0, 0, 0]</td>\n",
       "      <td>0</td>\n",
       "    </tr>\n",
       "  </tbody>\n",
       "</table>\n",
       "</div>"
      ],
      "text/plain": [
       "                           texts     labels  \\\n",
       "3    PersonX accidentally kicked  [0, 1, 1]   \n",
       "5    PersonX accidentally poured  [0, 1, 1]   \n",
       "126        PersonX blows bubbles  [0, 1, 1]   \n",
       "419       PersonX donates plasma  [0, 1, 1]   \n",
       "953            PersonX hats cats  [0, 1, 1]   \n",
       "\n",
       "                                                 probs      preds  matches  \n",
       "3    [0.3949142396450043, 0.4427388310432434, 0.498...  [0, 0, 0]        0  \n",
       "5    [0.40726250410079956, 0.43522584438323975, 0.4...  [0, 0, 0]        0  \n",
       "126  [0.4730721414089203, 0.4032168984413147, 0.456...  [0, 0, 0]        0  \n",
       "419  [0.5411490201950073, 0.3266826868057251, 0.371...  [1, 0, 0]        0  \n",
       "953  [0.42976856231689453, 0.3377617299556732, 0.45...  [0, 0, 0]        0  "
      ]
     },
     "execution_count": 16,
     "metadata": {},
     "output_type": "execute_result"
    }
   ],
   "source": [
    "pred_df[pred_df['matches'] < 1].head()"
   ]
  },
  {
   "cell_type": "code",
   "execution_count": 19,
   "metadata": {},
   "outputs": [
    {
     "data": {
      "text/plain": [
       "44"
      ]
     },
     "execution_count": 19,
     "metadata": {},
     "output_type": "execute_result"
    }
   ],
   "source": [
    "# Number of no predictions\n",
    "len(pred_df[pred_df['preds'].apply(lambda p: np.sum(p)) == 0])"
   ]
  },
  {
   "cell_type": "code",
   "execution_count": 27,
   "metadata": {},
   "outputs": [
    {
     "data": {
      "text/plain": [
       "0.05584415584415584"
      ]
     },
     "execution_count": 27,
     "metadata": {},
     "output_type": "execute_result"
    }
   ],
   "source": [
    "# Percentage of cases with 2 labels but less than 2 predictions\n",
    "len(pred_df[(pred_df.labels.apply(lambda l: np.sum(l)) == 2) & (pred_df.matches < 2)]) / len(pred_df[pred_df.labels.apply(lambda l: np.sum(l)) == 2])"
   ]
  },
  {
   "cell_type": "code",
   "execution_count": 28,
   "metadata": {},
   "outputs": [
    {
     "data": {
      "text/plain": [
       "0.03506493506493506"
      ]
     },
     "execution_count": 28,
     "metadata": {},
     "output_type": "execute_result"
    }
   ],
   "source": [
    "# Percentage of cases with 2 labels but 1 prediction\n",
    "len(pred_df[(pred_df.labels.apply(lambda l: np.sum(l)) == 2) & (pred_df.matches == 1)]) / len(pred_df[pred_df.labels.apply(lambda l: np.sum(l)) == 2])"
   ]
  },
  {
   "cell_type": "code",
   "execution_count": 26,
   "metadata": {},
   "outputs": [
    {
     "data": {
      "text/plain": [
       "7"
      ]
     },
     "execution_count": 26,
     "metadata": {},
     "output_type": "execute_result"
    }
   ],
   "source": [
    "len(pred_df[pred_df.labels.apply(lambda l: np.sum(l)) == 3])"
   ]
  }
 ],
 "metadata": {
  "interpreter": {
   "hash": "7c3b128559c7e8fd624042ca8b6c93b33cd59aca7b58d05c9d4cd21ec1a84d35"
  },
  "kernelspec": {
   "display_name": "Python 3.8.12 ('kogito')",
   "language": "python",
   "name": "python3"
  },
  "language_info": {
   "codemirror_mode": {
    "name": "ipython",
    "version": 3
   },
   "file_extension": ".py",
   "mimetype": "text/x-python",
   "name": "python",
   "nbconvert_exporter": "python",
   "pygments_lexer": "ipython3",
   "version": "3.8.12"
  },
  "orig_nbformat": 4
 },
 "nbformat": 4,
 "nbformat_minor": 2
}
