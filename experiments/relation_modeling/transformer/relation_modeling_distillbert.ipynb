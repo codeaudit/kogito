{
 "cells": [
  {
   "cell_type": "code",
   "execution_count": 1,
   "metadata": {},
   "outputs": [],
   "source": [
    "# %load_ext autoreload\n",
    "# %autoreload 2"
   ]
  },
  {
   "cell_type": "code",
   "execution_count": 16,
   "metadata": {},
   "outputs": [],
   "source": [
    "import torch\n",
    "import numpy as np\n",
    "from torch.utils.data import DataLoader, Dataset\n",
    "from torch.optim import Adam\n",
    "from torch import nn\n",
    "import pytorch_lightning as pl\n",
    "import torchmetrics\n",
    "import torch.nn.functional as F\n",
    "from transformers import DistilBertTokenizer, DistilBertModel\n",
    "\n",
    "\n",
    "class HeadDataset(Dataset):\n",
    "    def __init__(self, df):\n",
    "        self.tokenizer = DistilBertTokenizer.from_pretrained('distilbert-base-uncased')\n",
    "        self.labels = np.asarray(df['label'].to_list())\n",
    "        self.texts = [self.tokenizer(text, padding='max_length', max_length=32, truncation=True,\n",
    "                                     return_tensors=\"pt\") for text in df['text']]\n",
    "\n",
    "    def classes(self):\n",
    "        return self.labels\n",
    "\n",
    "    def __len__(self):\n",
    "        return len(self.labels)\n",
    "\n",
    "    def __getitem__(self, idx):\n",
    "        return self.texts[idx], self.labels[idx]\n",
    "\n",
    "\n",
    "class DistilBERTClassifier(pl.LightningModule):\n",
    "    def __init__(self, num_classes=3, dropout=0.5, learning_rate=1e-4, freeze_emb=False):\n",
    "        super().__init__()\n",
    "        self.distilbert = DistilBertModel.from_pretrained('distilbert-base-uncased')\n",
    "        self.dropout = nn.Dropout(dropout)\n",
    "        self.linear = nn.Linear(768, num_classes)\n",
    "\n",
    "        if freeze_emb:\n",
    "            for parameter in self.distilbert.parameters():\n",
    "                parameter.requires_grad = False\n",
    "            self.classifier = nn.Sequential(self.linear)\n",
    "        else:\n",
    "            self.classifier = nn.Sequential(self.dropout, self.linear)\n",
    "\n",
    "        self.criterion = nn.BCEWithLogitsLoss()\n",
    "        self.learning_rate = learning_rate\n",
    "        self.train_accuracy = torchmetrics.Accuracy()\n",
    "        self.val_accuracy = torchmetrics.Accuracy()\n",
    "        self.train_precision = torchmetrics.Precision(num_classes=3, average='weighted')\n",
    "        self.val_precision = torchmetrics.Precision(num_classes=3, average='weighted')\n",
    "        self.train_recall = torchmetrics.Recall(num_classes=3, average='weighted')\n",
    "        self.val_recall = torchmetrics.Recall(num_classes=3, average='weighted')\n",
    "        self.train_f1 = torchmetrics.F1Score(num_classes=3, average='weighted')\n",
    "        self.val_f1 = torchmetrics.F1Score(num_classes=3, average='weighted')\n",
    "        self.save_hyperparameters()\n",
    "    \n",
    "    def forward(self, input_ids, mask):\n",
    "        outputs = self.distilbert(input_ids=input_ids, attention_mask=mask, return_dict=False)\n",
    "        outputs = self.classifier(outputs[0][:, 0, :])\n",
    "        return outputs\n",
    "\n",
    "    def predict(self, input_ids, mask):\n",
    "        return F.sigmoid(self.forward(input_ids, mask))\n",
    "    \n",
    "    def training_step(self, batch, batch_idx):\n",
    "        X, y = batch\n",
    "        mask = X['attention_mask']\n",
    "        input_ids = X['input_ids'].squeeze(1)\n",
    "        outputs = self.forward(input_ids, mask)\n",
    "        train_loss = self.criterion(outputs, y.float())\n",
    "        preds = F.sigmoid(outputs)\n",
    "        self.train_accuracy(preds, y)\n",
    "        self.train_precision(preds, y)\n",
    "        self.train_recall(preds, y)\n",
    "        self.train_f1(preds, y)\n",
    "        self.log(\"train_loss\", train_loss, on_epoch=True)\n",
    "        self.log('train_accuracy', self.train_accuracy, on_epoch=True)\n",
    "        self.log('train_precision', self.train_precision, on_epoch=True)\n",
    "        self.log('train_recall', self.train_recall, on_epoch=True)\n",
    "        self.log('train_f1', self.train_f1, on_epoch=True)\n",
    "        return train_loss\n",
    "    \n",
    "    def validation_step(self, batch, batch_idx):\n",
    "        X, y = batch\n",
    "        mask = X['attention_mask']\n",
    "        input_ids = X['input_ids'].squeeze(1)\n",
    "        outputs = self.forward(input_ids, mask)\n",
    "        val_loss = self.criterion(outputs, y.float())\n",
    "        preds = F.sigmoid(outputs)\n",
    "        self.val_accuracy(preds, y)\n",
    "        self.val_precision(preds, y)\n",
    "        self.val_recall(preds, y)\n",
    "        self.val_f1(preds, y)\n",
    "        self.log(\"val_loss\", val_loss, on_epoch=True)\n",
    "        self.log('val_accuracy', self.val_accuracy, on_epoch=True)\n",
    "        self.log('val_precision', self.val_precision, on_epoch=True)\n",
    "        self.log('val_recall', self.val_recall, on_epoch=True)\n",
    "        self.log('val_f1', self.val_f1, on_epoch=True)\n",
    "        return val_loss\n",
    "\n",
    "    def configure_optimizers(self):\n",
    "        optimizer = Adam(self.parameters(), lr=self.learning_rate)\n",
    "        return optimizer"
   ]
  },
  {
   "cell_type": "code",
   "execution_count": 5,
   "metadata": {},
   "outputs": [
    {
     "data": {
      "application/vnd.jupyter.widget-view+json": {
       "model_id": "f9cb41879e984c6bafb890017c28a552",
       "version_major": 2,
       "version_minor": 0
      },
      "text/plain": [
       "Downloading:   0%|          | 0.00/226k [00:00<?, ?B/s]"
      ]
     },
     "metadata": {},
     "output_type": "display_data"
    },
    {
     "data": {
      "application/vnd.jupyter.widget-view+json": {
       "model_id": "0831ffa2c0ba44b98875c788538ca356",
       "version_major": 2,
       "version_minor": 0
      },
      "text/plain": [
       "Downloading:   0%|          | 0.00/28.0 [00:00<?, ?B/s]"
      ]
     },
     "metadata": {},
     "output_type": "display_data"
    },
    {
     "data": {
      "application/vnd.jupyter.widget-view+json": {
       "model_id": "63aaac85264147c69235ec8d4a612b86",
       "version_major": 2,
       "version_minor": 0
      },
      "text/plain": [
       "Downloading:   0%|          | 0.00/483 [00:00<?, ?B/s]"
      ]
     },
     "metadata": {},
     "output_type": "display_data"
    }
   ],
   "source": [
    "from relation_modeling_utils import load_data\n",
    "\n",
    "train_df = load_data(\"data/atomic2020_data-feb2021/train.tsv\", multi_label=True)\n",
    "dev_df = load_data(\"data/atomic2020_data-feb2021/dev.tsv\", multi_label=True)\n",
    "train_data = HeadDataset(train_df)\n",
    "val_data = HeadDataset(dev_df)"
   ]
  },
  {
   "cell_type": "code",
   "execution_count": 6,
   "metadata": {},
   "outputs": [
    {
     "data": {
      "text/plain": [
       "(36940, 2962)"
      ]
     },
     "execution_count": 6,
     "metadata": {},
     "output_type": "execute_result"
    }
   ],
   "source": [
    "len(train_data), len(val_data)"
   ]
  },
  {
   "cell_type": "code",
   "execution_count": 7,
   "metadata": {},
   "outputs": [],
   "source": [
    "train_dataloader = DataLoader(train_data, batch_size=2, shuffle=True)\n",
    "val_dataloader = DataLoader(val_data, batch_size=2)"
   ]
  },
  {
   "cell_type": "code",
   "execution_count": 17,
   "metadata": {},
   "outputs": [
    {
     "name": "stderr",
     "output_type": "stream",
     "text": [
      "Some weights of the model checkpoint at distilbert-base-uncased were not used when initializing DistilBertModel: ['vocab_transform.bias', 'vocab_layer_norm.bias', 'vocab_layer_norm.weight', 'vocab_transform.weight', 'vocab_projector.weight', 'vocab_projector.bias']\n",
      "- This IS expected if you are initializing DistilBertModel from the checkpoint of a model trained on another task or with another architecture (e.g. initializing a BertForSequenceClassification model from a BertForPreTraining model).\n",
      "- This IS NOT expected if you are initializing DistilBertModel from the checkpoint of a model that you expect to be exactly identical (initializing a BertForSequenceClassification model from a BertForSequenceClassification model).\n",
      "GPU available: True, used: True\n",
      "TPU available: False, using: 0 TPU cores\n",
      "IPU available: False, using: 0 IPUs\n",
      "LOCAL_RANK: 0 - CUDA_VISIBLE_DEVICES: [0,1]\n",
      "\n",
      "   | Name            | Type              | Params\n",
      "-------------------------------------------------------\n",
      "0  | distilbert      | DistilBertModel   | 66.4 M\n",
      "1  | dropout         | Dropout           | 0     \n",
      "2  | linear          | Linear            | 2.3 K \n",
      "3  | classifier      | Sequential        | 2.3 K \n",
      "4  | criterion       | BCEWithLogitsLoss | 0     \n",
      "5  | train_accuracy  | Accuracy          | 0     \n",
      "6  | val_accuracy    | Accuracy          | 0     \n",
      "7  | train_precision | Precision         | 0     \n",
      "8  | val_precision   | Precision         | 0     \n",
      "9  | train_recall    | Recall            | 0     \n",
      "10 | val_recall      | Recall            | 0     \n",
      "11 | train_f1        | F1Score           | 0     \n",
      "12 | val_f1          | F1Score           | 0     \n",
      "-------------------------------------------------------\n",
      "66.4 M    Trainable params\n",
      "0         Non-trainable params\n",
      "66.4 M    Total params\n",
      "265.461   Total estimated model params size (MB)\n"
     ]
    },
    {
     "data": {
      "application/vnd.jupyter.widget-view+json": {
       "model_id": "9740355f8b1549d295c79ffec17ff17f",
       "version_major": 2,
       "version_minor": 0
      },
      "text/plain": [
       "Validation sanity check: 0it [00:00, ?it/s]"
      ]
     },
     "metadata": {},
     "output_type": "display_data"
    },
    {
     "name": "stderr",
     "output_type": "stream",
     "text": [
      "/root/.conda/envs/kogito/lib/python3.8/site-packages/torch/nn/functional.py:1944: UserWarning: nn.functional.sigmoid is deprecated. Use torch.sigmoid instead.\n",
      "  warnings.warn(\"nn.functional.sigmoid is deprecated. Use torch.sigmoid instead.\")\n",
      "/root/.conda/envs/kogito/lib/python3.8/site-packages/pytorch_lightning/trainer/data_loading.py:132: UserWarning: The dataloader, train_dataloader, does not have many workers which may be a bottleneck. Consider increasing the value of the `num_workers` argument` (try 48 which is the number of cpus on this machine) in the `DataLoader` init to improve performance.\n",
      "  rank_zero_warn(\n"
     ]
    },
    {
     "data": {
      "application/vnd.jupyter.widget-view+json": {
       "model_id": "3e79ae5208964ebc9a23e56d3019e0d7",
       "version_major": 2,
       "version_minor": 0
      },
      "text/plain": [
       "Training: 0it [00:00, ?it/s]"
      ]
     },
     "metadata": {},
     "output_type": "display_data"
    },
    {
     "name": "stderr",
     "output_type": "stream",
     "text": [
      "/root/.conda/envs/kogito/lib/python3.8/site-packages/pytorch_lightning/trainer/trainer.py:688: UserWarning: Detected KeyboardInterrupt, attempting graceful shutdown...\n",
      "  rank_zero_warn(\"Detected KeyboardInterrupt, attempting graceful shutdown...\")\n"
     ]
    }
   ],
   "source": [
    "from pytorch_lightning.loggers import WandbLogger\n",
    "import wandb\n",
    "\n",
    "wandb_logger = WandbLogger(project=\"kogito-relation-matcher\", name=\"distilbert_multi_label\")\n",
    "model = DistilBERTClassifier(learning_rate=1e-4)\n",
    "trainer = pl.Trainer(max_epochs=2, logger=wandb_logger, accelerator=\"gpu\", devices=[1])\n",
    "trainer.fit(model, train_dataloaders=train_dataloader, val_dataloaders=val_dataloader)\n",
    "trainer.save_checkpoint(\"models/distilbert_model.ckpt\")\n",
    "wandb.finish()"
   ]
  }
 ],
 "metadata": {
  "interpreter": {
   "hash": "7c3b128559c7e8fd624042ca8b6c93b33cd59aca7b58d05c9d4cd21ec1a84d35"
  },
  "kernelspec": {
   "display_name": "Python 3.8.12 ('kogito')",
   "language": "python",
   "name": "python3"
  },
  "language_info": {
   "codemirror_mode": {
    "name": "ipython",
    "version": 3
   },
   "file_extension": ".py",
   "mimetype": "text/x-python",
   "name": "python",
   "nbconvert_exporter": "python",
   "pygments_lexer": "ipython3",
   "version": "3.8.13"
  },
  "orig_nbformat": 4
 },
 "nbformat": 4,
 "nbformat_minor": 2
}
