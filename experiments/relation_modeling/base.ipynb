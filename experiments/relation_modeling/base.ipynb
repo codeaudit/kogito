{
 "cells": [
  {
   "cell_type": "markdown",
   "metadata": {},
   "source": [
    "## Heuristic Relation Matcher"
   ]
  },
  {
   "cell_type": "code",
   "execution_count": 1,
   "metadata": {},
   "outputs": [
    {
     "name": "stderr",
     "output_type": "stream",
     "text": [
      "/Users/mismayil/.pyenv/versions/3.8.12/envs/kogito/lib/python3.8/site-packages/tqdm/auto.py:22: TqdmWarning: IProgress not found. Please update jupyter and ipywidgets. See https://ipywidgets.readthedocs.io/en/stable/user_install.html\n",
      "  from .autonotebook import tqdm as notebook_tqdm\n"
     ]
    }
   ],
   "source": [
    "import pandas as pd\n",
    "from relation_modeling_utils import load_data, explode_labels\n",
    "\n",
    "val_df = explode_labels(load_data(\"data/atomic2020_data-feb2021/dev.tsv\", multi_label=True))\n",
    "\n",
    "train_n1_df = pd.read_csv(\"data/atomic_split/n1/train_n1.csv\")\n",
    "test_n1_df = pd.read_csv(\"data/atomic_split/n1/test_n1.csv\")\n",
    "\n",
    "train_n3_df = pd.read_csv(\"data/atomic_split/n3/train_n3.csv\")\n",
    "test_n3_df = pd.read_csv(\"data/atomic_split/n3/test_n3.csv\")\n",
    "\n",
    "train_n5_df = pd.read_csv(\"data/atomic_split/n5/train_n5.csv\")\n",
    "test_n5_df = pd.read_csv(\"data/atomic_split/n5/test_n5.csv\")"
   ]
  },
  {
   "cell_type": "code",
   "execution_count": 2,
   "metadata": {},
   "outputs": [],
   "source": [
    "import torch\n",
    "import numpy as np\n",
    "\n",
    "from relation_modeling_utils import report_metrics\n",
    "\n",
    "def convert_str_to_list(x):\n",
    "    if isinstance(x, list):\n",
    "        return x\n",
    "    return [int(n) for n in x[1:-1].split(',')]\n",
    "\n",
    "\n",
    "def evaluate(model, df):\n",
    "    preds = model.predict(df)\n",
    "    report_metrics(torch.tensor(preds, dtype=float), torch.tensor(np.asarray(df.label.apply(convert_str_to_list).to_list())))"
   ]
  },
  {
   "cell_type": "code",
   "execution_count": 3,
   "metadata": {},
   "outputs": [],
   "source": [
    "from relation_modeling_utils import BaseClassifier\n",
    "base_model = BaseClassifier()"
   ]
  },
  {
   "cell_type": "markdown",
   "metadata": {},
   "source": [
    "### Validation results"
   ]
  },
  {
   "cell_type": "code",
   "execution_count": 4,
   "metadata": {},
   "outputs": [
    {
     "name": "stderr",
     "output_type": "stream",
     "text": [
      "100%|██████████| 2962/2962 [00:00<00:00, 385225.69it/s]"
     ]
    },
    {
     "name": "stdout",
     "output_type": "stream",
     "text": [
      "Accuracy=0.543, precision=0.714, recall=1.000, f1=0.817\n"
     ]
    },
    {
     "name": "stderr",
     "output_type": "stream",
     "text": [
      "\n"
     ]
    }
   ],
   "source": [
    "evaluate(base_model, val_df)"
   ]
  },
  {
   "cell_type": "markdown",
   "metadata": {},
   "source": [
    "### N1 results"
   ]
  },
  {
   "cell_type": "code",
   "execution_count": 5,
   "metadata": {},
   "outputs": [
    {
     "name": "stderr",
     "output_type": "stream",
     "text": [
      "100%|██████████| 40777/40777 [00:00<00:00, 839861.79it/s]\n"
     ]
    },
    {
     "name": "stdout",
     "output_type": "stream",
     "text": [
      "Accuracy=0.504, precision=0.518, recall=1.000, f1=0.679\n"
     ]
    }
   ],
   "source": [
    "evaluate(base_model, train_n1_df)"
   ]
  },
  {
   "cell_type": "code",
   "execution_count": 6,
   "metadata": {},
   "outputs": [
    {
     "name": "stderr",
     "output_type": "stream",
     "text": [
      "100%|██████████| 810/810 [00:00<00:00, 635381.75it/s]"
     ]
    },
    {
     "name": "stdout",
     "output_type": "stream",
     "text": [
      "Accuracy=0.402, precision=0.479, recall=1.000, f1=0.625\n"
     ]
    },
    {
     "name": "stderr",
     "output_type": "stream",
     "text": [
      "\n"
     ]
    }
   ],
   "source": [
    "evaluate(base_model, test_n1_df)"
   ]
  },
  {
   "cell_type": "markdown",
   "metadata": {},
   "source": [
    "### N3 results"
   ]
  },
  {
   "cell_type": "code",
   "execution_count": 7,
   "metadata": {},
   "outputs": [
    {
     "name": "stderr",
     "output_type": "stream",
     "text": [
      "100%|██████████| 40516/40516 [00:00<00:00, 956719.93it/s]"
     ]
    },
    {
     "name": "stdout",
     "output_type": "stream",
     "text": [
      "Accuracy=0.504, precision=0.518, recall=1.000, f1=0.678\n"
     ]
    },
    {
     "name": "stderr",
     "output_type": "stream",
     "text": [
      "\n"
     ]
    }
   ],
   "source": [
    "evaluate(base_model, train_n3_df)"
   ]
  },
  {
   "cell_type": "code",
   "execution_count": 8,
   "metadata": {},
   "outputs": [
    {
     "name": "stderr",
     "output_type": "stream",
     "text": [
      "100%|██████████| 1071/1071 [00:00<00:00, 561582.65it/s]"
     ]
    },
    {
     "name": "stdout",
     "output_type": "stream",
     "text": [
      "Accuracy=0.430, precision=0.441, recall=1.000, f1=0.609\n"
     ]
    },
    {
     "name": "stderr",
     "output_type": "stream",
     "text": [
      "\n"
     ]
    }
   ],
   "source": [
    "evaluate(base_model, test_n3_df)"
   ]
  },
  {
   "cell_type": "markdown",
   "metadata": {},
   "source": [
    "### N5 results"
   ]
  },
  {
   "cell_type": "code",
   "execution_count": 9,
   "metadata": {},
   "outputs": [
    {
     "name": "stderr",
     "output_type": "stream",
     "text": [
      "100%|██████████| 40395/40395 [00:00<00:00, 245928.37it/s]\n"
     ]
    },
    {
     "name": "stdout",
     "output_type": "stream",
     "text": [
      "Accuracy=0.503, precision=0.517, recall=1.000, f1=0.678\n"
     ]
    }
   ],
   "source": [
    "evaluate(base_model, train_n5_df)"
   ]
  },
  {
   "cell_type": "code",
   "execution_count": 10,
   "metadata": {},
   "outputs": [
    {
     "name": "stderr",
     "output_type": "stream",
     "text": [
      "100%|██████████| 1192/1192 [00:00<00:00, 627067.65it/s]"
     ]
    },
    {
     "name": "stdout",
     "output_type": "stream",
     "text": [
      "Accuracy=0.449, precision=0.451, recall=1.000, f1=0.621\n"
     ]
    },
    {
     "name": "stderr",
     "output_type": "stream",
     "text": [
      "\n"
     ]
    }
   ],
   "source": [
    "evaluate(base_model, test_n5_df)"
   ]
  }
 ],
 "metadata": {
  "kernelspec": {
   "display_name": "Python 3.8.12 64-bit ('kogito')",
   "language": "python",
   "name": "python3"
  },
  "language_info": {
   "codemirror_mode": {
    "name": "ipython",
    "version": 3
   },
   "file_extension": ".py",
   "mimetype": "text/x-python",
   "name": "python",
   "nbconvert_exporter": "python",
   "pygments_lexer": "ipython3",
   "version": "3.8.12"
  },
  "orig_nbformat": 4,
  "vscode": {
   "interpreter": {
    "hash": "78e267dbbd536cf72b9151fa10598d02f0742e0d77c5a78f8f9ba9a5d38a282d"
   }
  }
 },
 "nbformat": 4,
 "nbformat_minor": 2
}
