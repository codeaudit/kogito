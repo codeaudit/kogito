{
 "cells": [
  {
   "cell_type": "code",
   "execution_count": 1,
   "metadata": {},
   "outputs": [],
   "source": [
    "import pandas as pd\n",
    "\n",
    "roc_test = pd.read_csv(\"data/roc_nlu_test.csv\")"
   ]
  },
  {
   "cell_type": "code",
   "execution_count": 2,
   "metadata": {},
   "outputs": [
    {
     "data": {
      "text/html": [
       "<div>\n",
       "<style scoped>\n",
       "    .dataframe tbody tr th:only-of-type {\n",
       "        vertical-align: middle;\n",
       "    }\n",
       "\n",
       "    .dataframe tbody tr th {\n",
       "        vertical-align: top;\n",
       "    }\n",
       "\n",
       "    .dataframe thead th {\n",
       "        text-align: right;\n",
       "    }\n",
       "</style>\n",
       "<table border=\"1\" class=\"dataframe\">\n",
       "  <thead>\n",
       "    <tr style=\"text-align: right;\">\n",
       "      <th></th>\n",
       "      <th>Unnamed: 0</th>\n",
       "      <th>context</th>\n",
       "      <th>head</th>\n",
       "      <th>relation</th>\n",
       "      <th>tail</th>\n",
       "      <th>label</th>\n",
       "    </tr>\n",
       "  </thead>\n",
       "  <tbody>\n",
       "    <tr>\n",
       "      <th>0</th>\n",
       "      <td>0</td>\n",
       "      <td>['hank had to wrap a lot of gifts for his fami...</td>\n",
       "      <td>PersonX wraps gifts</td>\n",
       "      <td>xWant</td>\n",
       "      <td>give gifts</td>\n",
       "      <td>1</td>\n",
       "    </tr>\n",
       "    <tr>\n",
       "      <th>1</th>\n",
       "      <td>1</td>\n",
       "      <td>['hank had to wrap a lot of gifts for his fami...</td>\n",
       "      <td>PersonX wraps gifts</td>\n",
       "      <td>xWant</td>\n",
       "      <td>to deliver the gifts</td>\n",
       "      <td>0</td>\n",
       "    </tr>\n",
       "    <tr>\n",
       "      <th>2</th>\n",
       "      <td>2</td>\n",
       "      <td>['hank had to wrap a lot of gifts for his fami...</td>\n",
       "      <td>gift</td>\n",
       "      <td>AtLocation</td>\n",
       "      <td>wrapped container</td>\n",
       "      <td>1</td>\n",
       "    </tr>\n",
       "    <tr>\n",
       "      <th>3</th>\n",
       "      <td>3</td>\n",
       "      <td>['hank had to wrap a lot of gifts for his fami...</td>\n",
       "      <td>gift</td>\n",
       "      <td>AtLocation</td>\n",
       "      <td>gift shop</td>\n",
       "      <td>0</td>\n",
       "    </tr>\n",
       "    <tr>\n",
       "      <th>4</th>\n",
       "      <td>4</td>\n",
       "      <td>['hank had to wrap a lot of gifts for his fami...</td>\n",
       "      <td>gift</td>\n",
       "      <td>ObjectUse</td>\n",
       "      <td>bring for the birthday host</td>\n",
       "      <td>0</td>\n",
       "    </tr>\n",
       "  </tbody>\n",
       "</table>\n",
       "</div>"
      ],
      "text/plain": [
       "   Unnamed: 0                                            context  \\\n",
       "0           0  ['hank had to wrap a lot of gifts for his fami...   \n",
       "1           1  ['hank had to wrap a lot of gifts for his fami...   \n",
       "2           2  ['hank had to wrap a lot of gifts for his fami...   \n",
       "3           3  ['hank had to wrap a lot of gifts for his fami...   \n",
       "4           4  ['hank had to wrap a lot of gifts for his fami...   \n",
       "\n",
       "                  head    relation                         tail  label  \n",
       "0  PersonX wraps gifts       xWant                   give gifts      1  \n",
       "1  PersonX wraps gifts       xWant         to deliver the gifts      0  \n",
       "2                 gift  AtLocation            wrapped container      1  \n",
       "3                 gift  AtLocation                    gift shop      0  \n",
       "4                 gift   ObjectUse  bring for the birthday host      0  "
      ]
     },
     "execution_count": 2,
     "metadata": {},
     "output_type": "execute_result"
    }
   ],
   "source": [
    "roc_test.head()"
   ]
  },
  {
   "cell_type": "code",
   "execution_count": 4,
   "metadata": {},
   "outputs": [],
   "source": [
    "from kogito.linkers.deberta import DebertaLinker\n",
    "\n",
    "linker = DebertaLinker()"
   ]
  },
  {
   "cell_type": "code",
   "execution_count": 10,
   "metadata": {},
   "outputs": [],
   "source": [
    "def text_to_list(text):\n",
    "    return [t.strip().strip(\"'\") for t in text.strip(\"]\").strip(\"[\").split(\",\")]"
   ]
  },
  {
   "cell_type": "code",
   "execution_count": 11,
   "metadata": {},
   "outputs": [
    {
     "data": {
      "text/plain": [
       "['hank had to wrap a lot of gifts for his family .',\n",
       " 'he ran out of wrapping paper with 4 gifts to go .',\n",
       " 'he went to the kitchen and found shopping bags .',\n",
       " 'he cut up the bags to make sheets of paper .',\n",
       " 'he used the paper to wrap the last of the gifts .']"
      ]
     },
     "execution_count": 11,
     "metadata": {},
     "output_type": "execute_result"
    }
   ],
   "source": [
    "text_to_list(roc_test.iloc[0][\"context\"])"
   ]
  },
  {
   "cell_type": "markdown",
   "metadata": {},
   "source": [
    "### Context as a list"
   ]
  },
  {
   "cell_type": "code",
   "execution_count": 14,
   "metadata": {},
   "outputs": [
    {
     "name": "stderr",
     "output_type": "stream",
     "text": [
      "100%|██████████| 10854/10854 [06:35<00:00, 27.42it/s]\n"
     ]
    }
   ],
   "source": [
    "from kogito.core.knowledge import KnowledgeGraph, Knowledge\n",
    "from tqdm import tqdm\n",
    "\n",
    "labels = roc_test.label.to_list()\n",
    "predictions = []\n",
    "\n",
    "for _, row in tqdm(roc_test.iterrows(), total=len(roc_test)):\n",
    "    context = text_to_list(row[\"context\"])\n",
    "    graph = KnowledgeGraph([Knowledge(head=row[\"head\"], relation=row[\"relation\"], tails=row[\"tail\"])])\n",
    "    probs = linker.link(context=context, input_graph=graph)\n",
    "    predictions.append(1 if probs[0] >= 0.5 else 0)"
   ]
  },
  {
   "cell_type": "code",
   "execution_count": 15,
   "metadata": {},
   "outputs": [
    {
     "data": {
      "text/plain": [
       "(10854, 10854)"
      ]
     },
     "execution_count": 15,
     "metadata": {},
     "output_type": "execute_result"
    }
   ],
   "source": [
    "len(predictions), len(labels)"
   ]
  },
  {
   "cell_type": "code",
   "execution_count": 16,
   "metadata": {},
   "outputs": [
    {
     "name": "stdout",
     "output_type": "stream",
     "text": [
      "Accuracy=0.8941404090657822, F1=0.7769365171811298, Recall=0.7968936678614098, Precision=0.7579545454545454\n"
     ]
    }
   ],
   "source": [
    "from sklearn.metrics import accuracy_score, f1_score, recall_score, precision_score\n",
    "\n",
    "print(f\"Accuracy={accuracy_score(labels, predictions)}, F1={f1_score(labels, predictions)}, Recall={recall_score(labels, predictions)}, Precision={precision_score(labels, predictions)}\")"
   ]
  },
  {
   "cell_type": "markdown",
   "metadata": {},
   "source": [
    "### Context as a text"
   ]
  },
  {
   "cell_type": "code",
   "execution_count": 17,
   "metadata": {},
   "outputs": [
    {
     "name": "stderr",
     "output_type": "stream",
     "text": [
      "  0%|          | 0/10854 [00:00<?, ?it/s]/root/.conda/envs/kogito/lib/python3.8/site-packages/transformers/models/deberta_v2/modeling_deberta_v2.py:745: UserWarning: To copy construct from a tensor, it is recommended to use sourceTensor.clone().detach() or sourceTensor.clone().detach().requires_grad_(True), rather than torch.tensor(sourceTensor).\n",
      "  attention_scores = torch.bmm(query_layer, key_layer.transpose(-1, -2)) / torch.tensor(\n",
      "/root/.conda/envs/kogito/lib/python3.8/site-packages/transformers/models/deberta_v2/modeling_deberta_v2.py:829: UserWarning: To copy construct from a tensor, it is recommended to use sourceTensor.clone().detach() or sourceTensor.clone().detach().requires_grad_(True), rather than torch.tensor(sourceTensor).\n",
      "  score += c2p_att / torch.tensor(scale, dtype=c2p_att.dtype)\n",
      "/root/.conda/envs/kogito/lib/python3.8/site-packages/transformers/models/deberta_v2/modeling_deberta_v2.py:852: UserWarning: To copy construct from a tensor, it is recommended to use sourceTensor.clone().detach() or sourceTensor.clone().detach().requires_grad_(True), rather than torch.tensor(sourceTensor).\n",
      "  score += p2c_att / torch.tensor(scale, dtype=p2c_att.dtype)\n",
      "100%|██████████| 10854/10854 [08:15<00:00, 21.89it/s]\n"
     ]
    }
   ],
   "source": [
    "from kogito.core.knowledge import KnowledgeGraph, Knowledge\n",
    "from tqdm import tqdm\n",
    "\n",
    "labels = roc_test.label.to_list()\n",
    "predictions = []\n",
    "\n",
    "for _, row in tqdm(roc_test.iterrows(), total=len(roc_test)):\n",
    "    context = \" \".join(text_to_list(row[\"context\"]))\n",
    "    graph = KnowledgeGraph([Knowledge(head=row[\"head\"], relation=row[\"relation\"], tails=row[\"tail\"])])\n",
    "    probs = linker.link(context=context, input_graph=graph)\n",
    "    predictions.append(1 if probs[0][0] >= 0.5 else 0)"
   ]
  },
  {
   "cell_type": "code",
   "execution_count": 18,
   "metadata": {},
   "outputs": [
    {
     "name": "stdout",
     "output_type": "stream",
     "text": [
      "Accuracy=0.8944168048645661, F1=0.7775621118012422, Recall=0.7976901632815612, Precision=0.7584248390761076\n"
     ]
    }
   ],
   "source": [
    "from sklearn.metrics import accuracy_score, f1_score, recall_score, precision_score\n",
    "\n",
    "print(f\"Accuracy={accuracy_score(labels, predictions)}, F1={f1_score(labels, predictions)}, Recall={recall_score(labels, predictions)}, Precision={precision_score(labels, predictions)}\")"
   ]
  }
 ],
 "metadata": {
  "kernelspec": {
   "display_name": "Python 3.8.13 ('kogito')",
   "language": "python",
   "name": "python3"
  },
  "language_info": {
   "codemirror_mode": {
    "name": "ipython",
    "version": 3
   },
   "file_extension": ".py",
   "mimetype": "text/x-python",
   "name": "python",
   "nbconvert_exporter": "python",
   "pygments_lexer": "ipython3",
   "version": "3.8.13"
  },
  "orig_nbformat": 4,
  "vscode": {
   "interpreter": {
    "hash": "3e80d669f60bd34413df3f847d16a09f3fef6827513c4f925b04d67ca5f47b92"
   }
  }
 },
 "nbformat": 4,
 "nbformat_minor": 2
}
