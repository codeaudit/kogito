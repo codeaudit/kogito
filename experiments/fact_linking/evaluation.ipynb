{
 "cells": [
  {
   "cell_type": "code",
   "execution_count": 1,
   "metadata": {},
   "outputs": [],
   "source": [
    "import pandas as pd\n",
    "\n",
    "roc_test = pd.read_csv(\"data/roc_nlu_test.csv\")"
   ]
  },
  {
   "cell_type": "code",
   "execution_count": 2,
   "metadata": {},
   "outputs": [
    {
     "data": {
      "text/html": [
       "<div>\n",
       "<style scoped>\n",
       "    .dataframe tbody tr th:only-of-type {\n",
       "        vertical-align: middle;\n",
       "    }\n",
       "\n",
       "    .dataframe tbody tr th {\n",
       "        vertical-align: top;\n",
       "    }\n",
       "\n",
       "    .dataframe thead th {\n",
       "        text-align: right;\n",
       "    }\n",
       "</style>\n",
       "<table border=\"1\" class=\"dataframe\">\n",
       "  <thead>\n",
       "    <tr style=\"text-align: right;\">\n",
       "      <th></th>\n",
       "      <th>Unnamed: 0</th>\n",
       "      <th>context</th>\n",
       "      <th>head</th>\n",
       "      <th>relation</th>\n",
       "      <th>tail</th>\n",
       "      <th>label</th>\n",
       "    </tr>\n",
       "  </thead>\n",
       "  <tbody>\n",
       "    <tr>\n",
       "      <th>0</th>\n",
       "      <td>0</td>\n",
       "      <td>['hank had to wrap a lot of gifts for his fami...</td>\n",
       "      <td>PersonX wraps gifts</td>\n",
       "      <td>xWant</td>\n",
       "      <td>give gifts</td>\n",
       "      <td>1</td>\n",
       "    </tr>\n",
       "    <tr>\n",
       "      <th>1</th>\n",
       "      <td>1</td>\n",
       "      <td>['hank had to wrap a lot of gifts for his fami...</td>\n",
       "      <td>PersonX wraps gifts</td>\n",
       "      <td>xWant</td>\n",
       "      <td>to deliver the gifts</td>\n",
       "      <td>0</td>\n",
       "    </tr>\n",
       "    <tr>\n",
       "      <th>2</th>\n",
       "      <td>2</td>\n",
       "      <td>['hank had to wrap a lot of gifts for his fami...</td>\n",
       "      <td>gift</td>\n",
       "      <td>AtLocation</td>\n",
       "      <td>wrapped container</td>\n",
       "      <td>1</td>\n",
       "    </tr>\n",
       "    <tr>\n",
       "      <th>3</th>\n",
       "      <td>3</td>\n",
       "      <td>['hank had to wrap a lot of gifts for his fami...</td>\n",
       "      <td>gift</td>\n",
       "      <td>AtLocation</td>\n",
       "      <td>gift shop</td>\n",
       "      <td>0</td>\n",
       "    </tr>\n",
       "    <tr>\n",
       "      <th>4</th>\n",
       "      <td>4</td>\n",
       "      <td>['hank had to wrap a lot of gifts for his fami...</td>\n",
       "      <td>gift</td>\n",
       "      <td>ObjectUse</td>\n",
       "      <td>bring for the birthday host</td>\n",
       "      <td>0</td>\n",
       "    </tr>\n",
       "  </tbody>\n",
       "</table>\n",
       "</div>"
      ],
      "text/plain": [
       "   Unnamed: 0                                            context  \\\n",
       "0           0  ['hank had to wrap a lot of gifts for his fami...   \n",
       "1           1  ['hank had to wrap a lot of gifts for his fami...   \n",
       "2           2  ['hank had to wrap a lot of gifts for his fami...   \n",
       "3           3  ['hank had to wrap a lot of gifts for his fami...   \n",
       "4           4  ['hank had to wrap a lot of gifts for his fami...   \n",
       "\n",
       "                  head    relation                         tail  label  \n",
       "0  PersonX wraps gifts       xWant                   give gifts      1  \n",
       "1  PersonX wraps gifts       xWant         to deliver the gifts      0  \n",
       "2                 gift  AtLocation            wrapped container      1  \n",
       "3                 gift  AtLocation                    gift shop      0  \n",
       "4                 gift   ObjectUse  bring for the birthday host      0  "
      ]
     },
     "execution_count": 2,
     "metadata": {},
     "output_type": "execute_result"
    }
   ],
   "source": [
    "roc_test.head()"
   ]
  },
  {
   "cell_type": "code",
   "execution_count": 41,
   "metadata": {},
   "outputs": [],
   "source": [
    "roc_test_ones = roc_test[roc_test[\"label\"] == 1]\n",
    "roc_test_zeros = roc_test[roc_test[\"label\"] == 0]"
   ]
  },
  {
   "cell_type": "code",
   "execution_count": 42,
   "metadata": {},
   "outputs": [],
   "source": [
    "roc_samples = pd.concat([roc_test_ones.sample(50), roc_test_zeros.sample(50)])"
   ]
  },
  {
   "cell_type": "code",
   "execution_count": 43,
   "metadata": {},
   "outputs": [],
   "source": [
    "roc_samples.to_csv(\"data/roc_samples.csv\", index=False)"
   ]
  },
  {
   "cell_type": "code",
   "execution_count": 44,
   "metadata": {},
   "outputs": [],
   "source": [
    "from kogito.core.knowledge import KnowledgeGraph\n",
    "\n",
    "input_graph = KnowledgeGraph.from_csv(\"data/roc_samples.csv\", tails_col=\"tail\")"
   ]
  },
  {
   "cell_type": "code",
   "execution_count": 45,
   "metadata": {},
   "outputs": [
    {
     "data": {
      "text/plain": [
       "[Knowledge(head=\"practice\", relation=\"ObjectUse\", tails=['perfect skill']),\n",
       " Knowledge(head=\"PersonX invites PersonY to a movie\", relation=\"xIntent\", tails=['to see a movie with a friend.'])]"
      ]
     },
     "execution_count": 45,
     "metadata": {},
     "output_type": "execute_result"
    }
   ],
   "source": [
    "input_graph[:2]"
   ]
  },
  {
   "cell_type": "code",
   "execution_count": 20,
   "metadata": {},
   "outputs": [],
   "source": [
    "from kogito.models.bart.comet import COMETBART\n",
    "\n",
    "model = COMETBART.from_pretrained(\"mismayil/comet-bart-ai2\")"
   ]
  },
  {
   "cell_type": "code",
   "execution_count": 46,
   "metadata": {},
   "outputs": [
    {
     "name": "stderr",
     "output_type": "stream",
     "text": [
      "100%|██████████| 2/2 [00:08<00:00,  4.39s/it]\n"
     ]
    }
   ],
   "source": [
    "output_graph = model.generate(input_graph, num_generate=1)"
   ]
  },
  {
   "cell_type": "code",
   "execution_count": 47,
   "metadata": {},
   "outputs": [
    {
     "data": {
      "text/plain": [
       "[Knowledge(head=\"practice\", relation=\"ObjectUse\", tails=[' practice']),\n",
       " Knowledge(head=\"PersonX invites PersonY to a movie\", relation=\"xIntent\", tails=[' to have fun'])]"
      ]
     },
     "execution_count": 47,
     "metadata": {},
     "output_type": "execute_result"
    }
   ],
   "source": [
    "output_graph[:2]"
   ]
  },
  {
   "cell_type": "code",
   "execution_count": 48,
   "metadata": {},
   "outputs": [],
   "source": [
    "roc_results = []\n",
    "\n",
    "for roc_sample, output_sample in zip(roc_samples.itertuples(), output_graph):\n",
    "    roc_results.append({\n",
    "        \"context\": roc_sample.context,\n",
    "        \"head\": roc_sample.head,\n",
    "        \"relation\": roc_sample.relation,\n",
    "        \"reference_tails\": roc_sample.tail,\n",
    "        \"generated_tails\": output_sample.tails,\n",
    "        \"reference_label\": roc_sample.label\n",
    "    })"
   ]
  },
  {
   "cell_type": "code",
   "execution_count": 49,
   "metadata": {},
   "outputs": [],
   "source": [
    "import json\n",
    "\n",
    "with open(\"data/roc_results.json\", \"w\") as f:\n",
    "    json.dump(roc_results, f, indent=2)"
   ]
  },
  {
   "cell_type": "code",
   "execution_count": 34,
   "metadata": {},
   "outputs": [],
   "source": [
    "from kogito.linkers.deberta import DebertaLinker\n",
    "\n",
    "linker = DebertaLinker()"
   ]
  },
  {
   "cell_type": "code",
   "execution_count": 35,
   "metadata": {},
   "outputs": [],
   "source": [
    "def text_to_list(text):\n",
    "    return [t.strip().strip(\"'\") for t in text.strip(\"]\").strip(\"[\").split(\",\")]"
   ]
  },
  {
   "cell_type": "code",
   "execution_count": 36,
   "metadata": {},
   "outputs": [
    {
     "data": {
      "text/plain": [
       "['hank had to wrap a lot of gifts for his family .',\n",
       " 'he ran out of wrapping paper with 4 gifts to go .',\n",
       " 'he went to the kitchen and found shopping bags .',\n",
       " 'he cut up the bags to make sheets of paper .',\n",
       " 'he used the paper to wrap the last of the gifts .']"
      ]
     },
     "execution_count": 36,
     "metadata": {},
     "output_type": "execute_result"
    }
   ],
   "source": [
    "text_to_list(roc_test.iloc[0][\"context\"])"
   ]
  },
  {
   "cell_type": "code",
   "execution_count": 50,
   "metadata": {},
   "outputs": [
    {
     "name": "stderr",
     "output_type": "stream",
     "text": [
      "100%|██████████| 100/100 [01:06<00:00,  1.50it/s]\n"
     ]
    }
   ],
   "source": [
    "from kogito.core.knowledge import KnowledgeGraph, Knowledge\n",
    "from tqdm import tqdm\n",
    "\n",
    "labels = roc_test.label.to_list()\n",
    "\n",
    "for roc_result in tqdm(roc_results, total=len(roc_results)):\n",
    "    context = text_to_list(roc_result[\"context\"])\n",
    "    graph = KnowledgeGraph([Knowledge(head=roc_result[\"head\"], relation=roc_result[\"relation\"], tails=roc_result[\"generated_tails\"][0])])\n",
    "    probs = linker.link(context=context, input_graph=graph)\n",
    "    roc_result[\"prediction\"] = 1 if probs[0][0] >= 0.5 else 0"
   ]
  },
  {
   "cell_type": "code",
   "execution_count": 51,
   "metadata": {},
   "outputs": [],
   "source": [
    "import json\n",
    "\n",
    "with open(\"data/roc_results.json\", \"w\") as f:\n",
    "    json.dump(roc_results, f, indent=2)"
   ]
  },
  {
   "cell_type": "code",
   "execution_count": 54,
   "metadata": {},
   "outputs": [
    {
     "name": "stdout",
     "output_type": "stream",
     "text": [
      "Accuracy=0.81, F1=0.8080808080808082, Recall=0.8, Precision=0.8163265306122449\n"
     ]
    }
   ],
   "source": [
    "from sklearn.metrics import accuracy_score, f1_score, recall_score, precision_score\n",
    "import json\n",
    "\n",
    "with open(\"data/roc_results.json\") as f:\n",
    "    roc_results = json.load(f)\n",
    "\n",
    "labels = [roc_result[\"label\"] for roc_result in roc_results]\n",
    "predictions = [roc_result[\"prediction\"] for roc_result in roc_results]\n",
    "\n",
    "print(f\"Accuracy={accuracy_score(labels, predictions)}, F1={f1_score(labels, predictions)}, Recall={recall_score(labels, predictions)}, Precision={precision_score(labels, predictions)}\")"
   ]
  },
  {
   "cell_type": "markdown",
   "metadata": {},
   "source": [
    "### Context as a list"
   ]
  },
  {
   "cell_type": "code",
   "execution_count": 14,
   "metadata": {},
   "outputs": [
    {
     "name": "stderr",
     "output_type": "stream",
     "text": [
      "100%|██████████| 10854/10854 [06:35<00:00, 27.42it/s]\n"
     ]
    }
   ],
   "source": [
    "from kogito.core.knowledge import KnowledgeGraph, Knowledge\n",
    "from tqdm import tqdm\n",
    "\n",
    "labels = roc_test.label.to_list()\n",
    "predictions = []\n",
    "\n",
    "for _, row in tqdm(roc_test.iterrows(), total=len(roc_test)):\n",
    "    context = text_to_list(row[\"context\"])\n",
    "    graph = KnowledgeGraph([Knowledge(head=row[\"head\"], relation=row[\"relation\"], tails=row[\"tail\"])])\n",
    "    probs = linker.link(context=context, input_graph=graph)\n",
    "    predictions.append(1 if probs[0] >= 0.5 else 0)"
   ]
  },
  {
   "cell_type": "code",
   "execution_count": 15,
   "metadata": {},
   "outputs": [
    {
     "data": {
      "text/plain": [
       "(10854, 10854)"
      ]
     },
     "execution_count": 15,
     "metadata": {},
     "output_type": "execute_result"
    }
   ],
   "source": [
    "len(predictions), len(labels)"
   ]
  },
  {
   "cell_type": "code",
   "execution_count": 16,
   "metadata": {},
   "outputs": [
    {
     "name": "stdout",
     "output_type": "stream",
     "text": [
      "Accuracy=0.8941404090657822, F1=0.7769365171811298, Recall=0.7968936678614098, Precision=0.7579545454545454\n"
     ]
    }
   ],
   "source": [
    "from sklearn.metrics import accuracy_score, f1_score, recall_score, precision_score\n",
    "\n",
    "print(f\"Accuracy={accuracy_score(labels, predictions)}, F1={f1_score(labels, predictions)}, Recall={recall_score(labels, predictions)}, Precision={precision_score(labels, predictions)}\")"
   ]
  },
  {
   "cell_type": "markdown",
   "metadata": {},
   "source": [
    "### Context as a text"
   ]
  },
  {
   "cell_type": "code",
   "execution_count": 17,
   "metadata": {},
   "outputs": [
    {
     "name": "stderr",
     "output_type": "stream",
     "text": [
      "  0%|          | 0/10854 [00:00<?, ?it/s]/root/.conda/envs/kogito/lib/python3.8/site-packages/transformers/models/deberta_v2/modeling_deberta_v2.py:745: UserWarning: To copy construct from a tensor, it is recommended to use sourceTensor.clone().detach() or sourceTensor.clone().detach().requires_grad_(True), rather than torch.tensor(sourceTensor).\n",
      "  attention_scores = torch.bmm(query_layer, key_layer.transpose(-1, -2)) / torch.tensor(\n",
      "/root/.conda/envs/kogito/lib/python3.8/site-packages/transformers/models/deberta_v2/modeling_deberta_v2.py:829: UserWarning: To copy construct from a tensor, it is recommended to use sourceTensor.clone().detach() or sourceTensor.clone().detach().requires_grad_(True), rather than torch.tensor(sourceTensor).\n",
      "  score += c2p_att / torch.tensor(scale, dtype=c2p_att.dtype)\n",
      "/root/.conda/envs/kogito/lib/python3.8/site-packages/transformers/models/deberta_v2/modeling_deberta_v2.py:852: UserWarning: To copy construct from a tensor, it is recommended to use sourceTensor.clone().detach() or sourceTensor.clone().detach().requires_grad_(True), rather than torch.tensor(sourceTensor).\n",
      "  score += p2c_att / torch.tensor(scale, dtype=p2c_att.dtype)\n",
      "100%|██████████| 10854/10854 [08:15<00:00, 21.89it/s]\n"
     ]
    }
   ],
   "source": [
    "from kogito.core.knowledge import KnowledgeGraph, Knowledge\n",
    "from tqdm import tqdm\n",
    "\n",
    "labels = roc_test.label.to_list()\n",
    "predictions = []\n",
    "\n",
    "for _, row in tqdm(roc_test.iterrows(), total=len(roc_test)):\n",
    "    context = \" \".join(text_to_list(row[\"context\"]))\n",
    "    graph = KnowledgeGraph([Knowledge(head=row[\"head\"], relation=row[\"relation\"], tails=row[\"tail\"])])\n",
    "    probs = linker.link(context=context, input_graph=graph)\n",
    "    predictions.append(1 if probs[0][0] >= 0.5 else 0)"
   ]
  },
  {
   "cell_type": "code",
   "execution_count": 18,
   "metadata": {},
   "outputs": [
    {
     "name": "stdout",
     "output_type": "stream",
     "text": [
      "Accuracy=0.8944168048645661, F1=0.7775621118012422, Recall=0.7976901632815612, Precision=0.7584248390761076\n"
     ]
    }
   ],
   "source": [
    "from sklearn.metrics import accuracy_score, f1_score, recall_score, precision_score\n",
    "\n",
    "print(f\"Accuracy={accuracy_score(labels, predictions)}, F1={f1_score(labels, predictions)}, Recall={recall_score(labels, predictions)}, Precision={precision_score(labels, predictions)}\")"
   ]
  }
 ],
 "metadata": {
  "kernelspec": {
   "display_name": "kogito",
   "language": "python",
   "name": "python3"
  },
  "language_info": {
   "codemirror_mode": {
    "name": "ipython",
    "version": 3
   },
   "file_extension": ".py",
   "mimetype": "text/x-python",
   "name": "python",
   "nbconvert_exporter": "python",
   "pygments_lexer": "ipython3",
   "version": "3.10.8"
  },
  "orig_nbformat": 4,
  "vscode": {
   "interpreter": {
    "hash": "1a5ce47e142c2a1712c8ca284cb2f9e1ee19ed32065de225d4e3146934fe045e"
   }
  }
 },
 "nbformat": 4,
 "nbformat_minor": 2
}
