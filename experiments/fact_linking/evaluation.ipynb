{
 "cells": [
  {
   "cell_type": "code",
   "execution_count": 1,
   "metadata": {},
   "outputs": [],
   "source": [
    "import pandas as pd\n",
    "\n",
    "roc_test = pd.read_csv(\"data/roc_nlu_test.csv\")"
   ]
  },
  {
   "cell_type": "code",
   "execution_count": 2,
   "metadata": {},
   "outputs": [
    {
     "data": {
      "text/html": [
       "<div>\n",
       "<style scoped>\n",
       "    .dataframe tbody tr th:only-of-type {\n",
       "        vertical-align: middle;\n",
       "    }\n",
       "\n",
       "    .dataframe tbody tr th {\n",
       "        vertical-align: top;\n",
       "    }\n",
       "\n",
       "    .dataframe thead th {\n",
       "        text-align: right;\n",
       "    }\n",
       "</style>\n",
       "<table border=\"1\" class=\"dataframe\">\n",
       "  <thead>\n",
       "    <tr style=\"text-align: right;\">\n",
       "      <th></th>\n",
       "      <th>Unnamed: 0</th>\n",
       "      <th>context</th>\n",
       "      <th>head</th>\n",
       "      <th>relation</th>\n",
       "      <th>tail</th>\n",
       "      <th>label</th>\n",
       "    </tr>\n",
       "  </thead>\n",
       "  <tbody>\n",
       "    <tr>\n",
       "      <th>0</th>\n",
       "      <td>0</td>\n",
       "      <td>['hank had to wrap a lot of gifts for his fami...</td>\n",
       "      <td>PersonX wraps gifts</td>\n",
       "      <td>xWant</td>\n",
       "      <td>give gifts</td>\n",
       "      <td>1</td>\n",
       "    </tr>\n",
       "    <tr>\n",
       "      <th>1</th>\n",
       "      <td>1</td>\n",
       "      <td>['hank had to wrap a lot of gifts for his fami...</td>\n",
       "      <td>PersonX wraps gifts</td>\n",
       "      <td>xWant</td>\n",
       "      <td>to deliver the gifts</td>\n",
       "      <td>0</td>\n",
       "    </tr>\n",
       "    <tr>\n",
       "      <th>2</th>\n",
       "      <td>2</td>\n",
       "      <td>['hank had to wrap a lot of gifts for his fami...</td>\n",
       "      <td>gift</td>\n",
       "      <td>AtLocation</td>\n",
       "      <td>wrapped container</td>\n",
       "      <td>1</td>\n",
       "    </tr>\n",
       "    <tr>\n",
       "      <th>3</th>\n",
       "      <td>3</td>\n",
       "      <td>['hank had to wrap a lot of gifts for his fami...</td>\n",
       "      <td>gift</td>\n",
       "      <td>AtLocation</td>\n",
       "      <td>gift shop</td>\n",
       "      <td>0</td>\n",
       "    </tr>\n",
       "    <tr>\n",
       "      <th>4</th>\n",
       "      <td>4</td>\n",
       "      <td>['hank had to wrap a lot of gifts for his fami...</td>\n",
       "      <td>gift</td>\n",
       "      <td>ObjectUse</td>\n",
       "      <td>bring for the birthday host</td>\n",
       "      <td>0</td>\n",
       "    </tr>\n",
       "  </tbody>\n",
       "</table>\n",
       "</div>"
      ],
      "text/plain": [
       "   Unnamed: 0                                            context  \\\n",
       "0           0  ['hank had to wrap a lot of gifts for his fami...   \n",
       "1           1  ['hank had to wrap a lot of gifts for his fami...   \n",
       "2           2  ['hank had to wrap a lot of gifts for his fami...   \n",
       "3           3  ['hank had to wrap a lot of gifts for his fami...   \n",
       "4           4  ['hank had to wrap a lot of gifts for his fami...   \n",
       "\n",
       "                  head    relation                         tail  label  \n",
       "0  PersonX wraps gifts       xWant                   give gifts      1  \n",
       "1  PersonX wraps gifts       xWant         to deliver the gifts      0  \n",
       "2                 gift  AtLocation            wrapped container      1  \n",
       "3                 gift  AtLocation                    gift shop      0  \n",
       "4                 gift   ObjectUse  bring for the birthday host      0  "
      ]
     },
     "execution_count": 2,
     "metadata": {},
     "output_type": "execute_result"
    }
   ],
   "source": [
    "roc_test.head()"
   ]
  },
  {
   "cell_type": "code",
   "execution_count": 41,
   "metadata": {},
   "outputs": [],
   "source": [
    "roc_test_ones = roc_test[roc_test[\"label\"] == 1]\n",
    "roc_test_zeros = roc_test[roc_test[\"label\"] == 0]"
   ]
  },
  {
   "cell_type": "code",
   "execution_count": 42,
   "metadata": {},
   "outputs": [],
   "source": [
    "roc_samples = pd.concat([roc_test_ones.sample(50), roc_test_zeros.sample(50)])"
   ]
  },
  {
   "cell_type": "code",
   "execution_count": 43,
   "metadata": {},
   "outputs": [],
   "source": [
    "roc_samples.to_csv(\"data/roc_samples.csv\", index=False)"
   ]
  },
  {
   "cell_type": "code",
   "execution_count": 1,
   "metadata": {},
   "outputs": [],
   "source": [
    "import pandas as pd\n",
    "\n",
    "roc_samples = pd.read_csv(\"data/roc_samples.csv\")"
   ]
  },
  {
   "cell_type": "code",
   "execution_count": 2,
   "metadata": {},
   "outputs": [
    {
     "data": {
      "text/html": [
       "<div>\n",
       "<style scoped>\n",
       "    .dataframe tbody tr th:only-of-type {\n",
       "        vertical-align: middle;\n",
       "    }\n",
       "\n",
       "    .dataframe tbody tr th {\n",
       "        vertical-align: top;\n",
       "    }\n",
       "\n",
       "    .dataframe thead th {\n",
       "        text-align: right;\n",
       "    }\n",
       "</style>\n",
       "<table border=\"1\" class=\"dataframe\">\n",
       "  <thead>\n",
       "    <tr style=\"text-align: right;\">\n",
       "      <th></th>\n",
       "      <th>Unnamed: 0</th>\n",
       "      <th>context</th>\n",
       "      <th>head</th>\n",
       "      <th>relation</th>\n",
       "      <th>tail</th>\n",
       "      <th>label</th>\n",
       "    </tr>\n",
       "  </thead>\n",
       "  <tbody>\n",
       "    <tr>\n",
       "      <th>0</th>\n",
       "      <td>5125</td>\n",
       "      <td>['faith was learning to play the piano .', 'sh...</td>\n",
       "      <td>practice</td>\n",
       "      <td>ObjectUse</td>\n",
       "      <td>perfect skill</td>\n",
       "      <td>1</td>\n",
       "    </tr>\n",
       "    <tr>\n",
       "      <th>1</th>\n",
       "      <td>5818</td>\n",
       "      <td>['kyle asked a girl to go to the movies with h...</td>\n",
       "      <td>PersonX invites PersonY to a movie</td>\n",
       "      <td>xIntent</td>\n",
       "      <td>to see a movie with a friend.</td>\n",
       "      <td>1</td>\n",
       "    </tr>\n",
       "    <tr>\n",
       "      <th>2</th>\n",
       "      <td>1408</td>\n",
       "      <td>['ben wanted to learn how to practice ballet ....</td>\n",
       "      <td>PersonX wants to be a ballerina</td>\n",
       "      <td>xNeed</td>\n",
       "      <td>to ger enrolled into a  dance school</td>\n",
       "      <td>1</td>\n",
       "    </tr>\n",
       "    <tr>\n",
       "      <th>3</th>\n",
       "      <td>2978</td>\n",
       "      <td>['lawrence was visiting summer camp for the fi...</td>\n",
       "      <td>PersonX loves one 's ___</td>\n",
       "      <td>xEffect</td>\n",
       "      <td>BE FRIEND</td>\n",
       "      <td>1</td>\n",
       "    </tr>\n",
       "    <tr>\n",
       "      <th>4</th>\n",
       "      <td>4912</td>\n",
       "      <td>[\"jack 's friend works as an insurance broker ...</td>\n",
       "      <td>PersonX gives PersonY a job</td>\n",
       "      <td>xNeed</td>\n",
       "      <td>hire PersonY</td>\n",
       "      <td>1</td>\n",
       "    </tr>\n",
       "  </tbody>\n",
       "</table>\n",
       "</div>"
      ],
      "text/plain": [
       "   Unnamed: 0                                            context  \\\n",
       "0        5125  ['faith was learning to play the piano .', 'sh...   \n",
       "1        5818  ['kyle asked a girl to go to the movies with h...   \n",
       "2        1408  ['ben wanted to learn how to practice ballet ....   \n",
       "3        2978  ['lawrence was visiting summer camp for the fi...   \n",
       "4        4912  [\"jack 's friend works as an insurance broker ...   \n",
       "\n",
       "                                 head   relation  \\\n",
       "0                            practice  ObjectUse   \n",
       "1  PersonX invites PersonY to a movie    xIntent   \n",
       "2     PersonX wants to be a ballerina      xNeed   \n",
       "3            PersonX loves one 's ___    xEffect   \n",
       "4         PersonX gives PersonY a job      xNeed   \n",
       "\n",
       "                                   tail  label  \n",
       "0                         perfect skill      1  \n",
       "1         to see a movie with a friend.      1  \n",
       "2  to ger enrolled into a  dance school      1  \n",
       "3                             BE FRIEND      1  \n",
       "4                          hire PersonY      1  "
      ]
     },
     "execution_count": 2,
     "metadata": {},
     "output_type": "execute_result"
    }
   ],
   "source": [
    "roc_samples.head()"
   ]
  },
  {
   "cell_type": "code",
   "execution_count": 3,
   "metadata": {},
   "outputs": [],
   "source": [
    "from kogito.inference import CommonsenseInference\n",
    "\n",
    "csi = CommonsenseInference()"
   ]
  },
  {
   "cell_type": "code",
   "execution_count": 4,
   "metadata": {},
   "outputs": [
    {
     "data": {
      "text/plain": [
       "{'head': ['sentence_extractor',\n",
       "  'noun_phrase_extractor',\n",
       "  'verb_phrase_extractor'],\n",
       " 'relation': ['simple_relation_matcher', 'graph_relation_matcher']}"
      ]
     },
     "execution_count": 4,
     "metadata": {},
     "output_type": "execute_result"
    }
   ],
   "source": [
    "csi.processors"
   ]
  },
  {
   "cell_type": "code",
   "execution_count": 5,
   "metadata": {},
   "outputs": [],
   "source": [
    "from kogito.models.bart.comet import COMETBART\n",
    "\n",
    "model = COMETBART.from_pretrained(\"mismayil/comet-bart-ai2\")"
   ]
  },
  {
   "cell_type": "code",
   "execution_count": 6,
   "metadata": {},
   "outputs": [],
   "source": [
    "from kogito.linkers.deberta import DebertaLinker\n",
    "\n",
    "linker = DebertaLinker()"
   ]
  },
  {
   "cell_type": "code",
   "execution_count": 7,
   "metadata": {},
   "outputs": [],
   "source": [
    "def text_to_list(text):\n",
    "    return [t.strip().strip(\"'\") for t in text.strip(\"]\").strip(\"[\").split(\",\")]"
   ]
  },
  {
   "cell_type": "code",
   "execution_count": 15,
   "metadata": {},
   "outputs": [
    {
     "name": "stderr",
     "output_type": "stream",
     "text": [
      "  0%|          | 0/50 [00:00<?, ?it/s]"
     ]
    },
    {
     "name": "stdout",
     "output_type": "stream",
     "text": [
      "Extracting knowledge heads...\n",
      "Matching knowledge heads with relations...\n",
      "Generating knowledge graph...\n"
     ]
    },
    {
     "name": "stderr",
     "output_type": "stream",
     "text": [
      "100%|██████████| 1/1 [00:02<00:00,  2.71s/it]\n",
      "  2%|▏         | 1/50 [00:14<11:59, 14.69s/it]"
     ]
    },
    {
     "name": "stdout",
     "output_type": "stream",
     "text": [
      "Extracting knowledge heads...\n",
      "Matching knowledge heads with relations...\n",
      "Generating knowledge graph...\n"
     ]
    },
    {
     "name": "stderr",
     "output_type": "stream",
     "text": [
      "100%|██████████| 1/1 [00:01<00:00,  1.01s/it]\n",
      "  4%|▍         | 2/50 [00:22<08:16, 10.35s/it]"
     ]
    },
    {
     "name": "stdout",
     "output_type": "stream",
     "text": [
      "Extracting knowledge heads...\n",
      "Matching knowledge heads with relations...\n",
      "Generating knowledge graph...\n"
     ]
    },
    {
     "name": "stderr",
     "output_type": "stream",
     "text": [
      "100%|██████████| 1/1 [00:01<00:00,  1.34s/it]\n",
      "  6%|▌         | 3/50 [00:33<08:31, 10.89s/it]"
     ]
    },
    {
     "name": "stdout",
     "output_type": "stream",
     "text": [
      "Extracting knowledge heads...\n",
      "Matching knowledge heads with relations...\n",
      "Generating knowledge graph...\n"
     ]
    },
    {
     "name": "stderr",
     "output_type": "stream",
     "text": [
      "100%|██████████| 1/1 [00:02<00:00,  2.60s/it]\n",
      "  8%|▊         | 4/50 [00:48<09:27, 12.34s/it]"
     ]
    },
    {
     "name": "stdout",
     "output_type": "stream",
     "text": [
      "Extracting knowledge heads...\n",
      "Matching knowledge heads with relations...\n",
      "Generating knowledge graph...\n"
     ]
    },
    {
     "name": "stderr",
     "output_type": "stream",
     "text": [
      "100%|██████████| 1/1 [00:01<00:00,  1.83s/it]\n",
      " 10%|█         | 5/50 [00:59<09:06, 12.15s/it]"
     ]
    },
    {
     "name": "stdout",
     "output_type": "stream",
     "text": [
      "Extracting knowledge heads...\n",
      "Matching knowledge heads with relations...\n",
      "Generating knowledge graph...\n"
     ]
    },
    {
     "name": "stderr",
     "output_type": "stream",
     "text": [
      "100%|██████████| 1/1 [00:02<00:00,  2.02s/it]\n",
      " 12%|█▏        | 6/50 [01:11<08:53, 12.13s/it]"
     ]
    },
    {
     "name": "stdout",
     "output_type": "stream",
     "text": [
      "Extracting knowledge heads...\n",
      "Matching knowledge heads with relations...\n",
      "Generating knowledge graph...\n"
     ]
    },
    {
     "name": "stderr",
     "output_type": "stream",
     "text": [
      "100%|██████████| 1/1 [00:01<00:00,  1.89s/it]\n",
      " 14%|█▍        | 7/50 [01:25<09:07, 12.72s/it]"
     ]
    },
    {
     "name": "stdout",
     "output_type": "stream",
     "text": [
      "Extracting knowledge heads...\n",
      "Matching knowledge heads with relations...\n",
      "Generating knowledge graph...\n"
     ]
    },
    {
     "name": "stderr",
     "output_type": "stream",
     "text": [
      "100%|██████████| 1/1 [00:02<00:00,  2.05s/it]\n",
      " 16%|█▌        | 8/50 [01:40<09:24, 13.45s/it]"
     ]
    },
    {
     "name": "stdout",
     "output_type": "stream",
     "text": [
      "Extracting knowledge heads...\n",
      "Matching knowledge heads with relations...\n",
      "Generating knowledge graph...\n"
     ]
    },
    {
     "name": "stderr",
     "output_type": "stream",
     "text": [
      "100%|██████████| 1/1 [00:01<00:00,  1.01s/it]\n",
      " 18%|█▊        | 9/50 [01:52<08:52, 12.99s/it]"
     ]
    },
    {
     "name": "stdout",
     "output_type": "stream",
     "text": [
      "Extracting knowledge heads...\n",
      "Matching knowledge heads with relations...\n",
      "Generating knowledge graph...\n"
     ]
    },
    {
     "name": "stderr",
     "output_type": "stream",
     "text": [
      "100%|██████████| 1/1 [00:00<00:00,  1.61it/s]\n",
      " 20%|██        | 10/50 [01:58<07:10, 10.77s/it]"
     ]
    },
    {
     "name": "stdout",
     "output_type": "stream",
     "text": [
      "Extracting knowledge heads...\n",
      "Matching knowledge heads with relations...\n",
      "Generating knowledge graph...\n"
     ]
    },
    {
     "name": "stderr",
     "output_type": "stream",
     "text": [
      "100%|██████████| 1/1 [00:02<00:00,  2.49s/it]\n",
      " 22%|██▏       | 11/50 [02:16<08:24, 12.94s/it]"
     ]
    },
    {
     "name": "stdout",
     "output_type": "stream",
     "text": [
      "Extracting knowledge heads...\n",
      "Matching knowledge heads with relations...\n",
      "Generating knowledge graph...\n"
     ]
    },
    {
     "name": "stderr",
     "output_type": "stream",
     "text": [
      "100%|██████████| 1/1 [00:01<00:00,  1.73s/it]\n",
      " 24%|██▍       | 12/50 [02:28<08:00, 12.63s/it]"
     ]
    },
    {
     "name": "stdout",
     "output_type": "stream",
     "text": [
      "Extracting knowledge heads...\n",
      "Matching knowledge heads with relations...\n",
      "Generating knowledge graph...\n"
     ]
    },
    {
     "name": "stderr",
     "output_type": "stream",
     "text": [
      "100%|██████████| 1/1 [00:02<00:00,  2.48s/it]\n",
      " 26%|██▌       | 13/50 [02:44<08:30, 13.79s/it]"
     ]
    },
    {
     "name": "stdout",
     "output_type": "stream",
     "text": [
      "Extracting knowledge heads...\n",
      "Matching knowledge heads with relations...\n",
      "Generating knowledge graph...\n"
     ]
    },
    {
     "name": "stderr",
     "output_type": "stream",
     "text": [
      "100%|██████████| 1/1 [00:01<00:00,  1.95s/it]\n",
      " 28%|██▊       | 14/50 [02:57<08:00, 13.36s/it]"
     ]
    },
    {
     "name": "stdout",
     "output_type": "stream",
     "text": [
      "Extracting knowledge heads...\n",
      "Matching knowledge heads with relations...\n",
      "Generating knowledge graph...\n"
     ]
    },
    {
     "name": "stderr",
     "output_type": "stream",
     "text": [
      "100%|██████████| 1/1 [00:02<00:00,  2.13s/it]\n",
      " 30%|███       | 15/50 [03:13<08:19, 14.26s/it]"
     ]
    },
    {
     "name": "stdout",
     "output_type": "stream",
     "text": [
      "Extracting knowledge heads...\n",
      "Matching knowledge heads with relations...\n",
      "Generating knowledge graph...\n"
     ]
    },
    {
     "name": "stderr",
     "output_type": "stream",
     "text": [
      "100%|██████████| 1/1 [00:00<00:00,  1.38it/s]\n",
      " 32%|███▏      | 16/50 [03:20<06:45, 11.93s/it]"
     ]
    },
    {
     "name": "stdout",
     "output_type": "stream",
     "text": [
      "Extracting knowledge heads...\n",
      "Matching knowledge heads with relations...\n",
      "Generating knowledge graph...\n"
     ]
    },
    {
     "name": "stderr",
     "output_type": "stream",
     "text": [
      "100%|██████████| 1/1 [00:00<00:00,  1.36it/s]\n",
      " 34%|███▍      | 17/50 [03:26<05:37, 10.24s/it]"
     ]
    },
    {
     "name": "stdout",
     "output_type": "stream",
     "text": [
      "Extracting knowledge heads...\n",
      "Matching knowledge heads with relations...\n",
      "Generating knowledge graph...\n"
     ]
    },
    {
     "name": "stderr",
     "output_type": "stream",
     "text": [
      "100%|██████████| 1/1 [00:00<00:00,  1.31it/s]\n",
      " 36%|███▌      | 18/50 [03:32<04:50,  9.07s/it]"
     ]
    },
    {
     "name": "stdout",
     "output_type": "stream",
     "text": [
      "Extracting knowledge heads...\n",
      "Matching knowledge heads with relations...\n",
      "Generating knowledge graph...\n"
     ]
    },
    {
     "name": "stderr",
     "output_type": "stream",
     "text": [
      "100%|██████████| 1/1 [00:03<00:00,  3.03s/it]\n",
      " 38%|███▊      | 19/50 [03:56<06:54, 13.39s/it]"
     ]
    },
    {
     "name": "stdout",
     "output_type": "stream",
     "text": [
      "Extracting knowledge heads...\n",
      "Matching knowledge heads with relations...\n",
      "Generating knowledge graph...\n"
     ]
    },
    {
     "name": "stderr",
     "output_type": "stream",
     "text": [
      "100%|██████████| 1/1 [00:01<00:00,  1.16s/it]\n",
      " 40%|████      | 20/50 [04:07<06:17, 12.60s/it]"
     ]
    },
    {
     "name": "stdout",
     "output_type": "stream",
     "text": [
      "Extracting knowledge heads...\n",
      "Matching knowledge heads with relations...\n",
      "Generating knowledge graph...\n"
     ]
    },
    {
     "name": "stderr",
     "output_type": "stream",
     "text": [
      "100%|██████████| 1/1 [00:02<00:00,  2.06s/it]\n",
      " 42%|████▏     | 21/50 [04:23<06:37, 13.72s/it]"
     ]
    },
    {
     "name": "stdout",
     "output_type": "stream",
     "text": [
      "Extracting knowledge heads...\n",
      "Matching knowledge heads with relations...\n",
      "Generating knowledge graph...\n"
     ]
    },
    {
     "name": "stderr",
     "output_type": "stream",
     "text": [
      "100%|██████████| 1/1 [00:03<00:00,  3.53s/it]\n",
      " 44%|████▍     | 22/50 [04:43<07:14, 15.53s/it]"
     ]
    },
    {
     "name": "stdout",
     "output_type": "stream",
     "text": [
      "Extracting knowledge heads...\n",
      "Matching knowledge heads with relations...\n",
      "Generating knowledge graph...\n"
     ]
    },
    {
     "name": "stderr",
     "output_type": "stream",
     "text": [
      "100%|██████████| 1/1 [00:03<00:00,  3.02s/it]\n",
      " 46%|████▌     | 23/50 [04:56<06:41, 14.89s/it]"
     ]
    },
    {
     "name": "stdout",
     "output_type": "stream",
     "text": [
      "Extracting knowledge heads...\n",
      "Matching knowledge heads with relations...\n",
      "Generating knowledge graph...\n"
     ]
    },
    {
     "name": "stderr",
     "output_type": "stream",
     "text": [
      "100%|██████████| 1/1 [00:02<00:00,  2.93s/it]\n",
      " 48%|████▊     | 24/50 [05:13<06:46, 15.64s/it]"
     ]
    },
    {
     "name": "stdout",
     "output_type": "stream",
     "text": [
      "Extracting knowledge heads...\n",
      "Matching knowledge heads with relations...\n",
      "Generating knowledge graph...\n"
     ]
    },
    {
     "name": "stderr",
     "output_type": "stream",
     "text": [
      "100%|██████████| 1/1 [00:01<00:00,  1.93s/it]\n",
      " 50%|█████     | 25/50 [05:28<06:21, 15.27s/it]"
     ]
    },
    {
     "name": "stdout",
     "output_type": "stream",
     "text": [
      "Extracting knowledge heads...\n",
      "Matching knowledge heads with relations...\n",
      "Generating knowledge graph...\n"
     ]
    },
    {
     "name": "stderr",
     "output_type": "stream",
     "text": [
      "100%|██████████| 1/1 [00:02<00:00,  2.56s/it]\n",
      " 52%|█████▏    | 26/50 [05:47<06:33, 16.39s/it]"
     ]
    },
    {
     "name": "stdout",
     "output_type": "stream",
     "text": [
      "Extracting knowledge heads...\n",
      "Matching knowledge heads with relations...\n",
      "Generating knowledge graph...\n"
     ]
    },
    {
     "name": "stderr",
     "output_type": "stream",
     "text": [
      "100%|██████████| 1/1 [00:01<00:00,  1.61s/it]\n",
      " 54%|█████▍    | 27/50 [06:00<05:52, 15.32s/it]"
     ]
    },
    {
     "name": "stdout",
     "output_type": "stream",
     "text": [
      "Extracting knowledge heads...\n",
      "Matching knowledge heads with relations...\n",
      "Generating knowledge graph...\n"
     ]
    },
    {
     "name": "stderr",
     "output_type": "stream",
     "text": [
      "100%|██████████| 1/1 [00:02<00:00,  2.87s/it]\n",
      " 56%|█████▌    | 28/50 [06:18<05:56, 16.22s/it]"
     ]
    },
    {
     "name": "stdout",
     "output_type": "stream",
     "text": [
      "Extracting knowledge heads...\n",
      "Matching knowledge heads with relations...\n",
      "Generating knowledge graph...\n"
     ]
    },
    {
     "name": "stderr",
     "output_type": "stream",
     "text": [
      "100%|██████████| 1/1 [00:01<00:00,  1.93s/it]\n",
      " 58%|█████▊    | 29/50 [06:32<05:25, 15.49s/it]"
     ]
    },
    {
     "name": "stdout",
     "output_type": "stream",
     "text": [
      "Extracting knowledge heads...\n",
      "Matching knowledge heads with relations...\n",
      "Generating knowledge graph...\n"
     ]
    },
    {
     "name": "stderr",
     "output_type": "stream",
     "text": [
      "100%|██████████| 1/1 [00:03<00:00,  3.07s/it]\n",
      " 60%|██████    | 30/50 [06:53<05:42, 17.13s/it]"
     ]
    },
    {
     "name": "stdout",
     "output_type": "stream",
     "text": [
      "Extracting knowledge heads...\n",
      "Matching knowledge heads with relations...\n",
      "Generating knowledge graph...\n"
     ]
    },
    {
     "name": "stderr",
     "output_type": "stream",
     "text": [
      "100%|██████████| 1/1 [00:01<00:00,  1.39s/it]\n",
      " 62%|██████▏   | 31/50 [07:07<05:10, 16.33s/it]"
     ]
    },
    {
     "name": "stdout",
     "output_type": "stream",
     "text": [
      "Extracting knowledge heads...\n",
      "Matching knowledge heads with relations...\n",
      "Generating knowledge graph...\n"
     ]
    },
    {
     "name": "stderr",
     "output_type": "stream",
     "text": [
      "100%|██████████| 1/1 [00:00<00:00,  1.24it/s]\n",
      " 64%|██████▍   | 32/50 [07:13<03:59, 13.31s/it]"
     ]
    },
    {
     "name": "stdout",
     "output_type": "stream",
     "text": [
      "Extracting knowledge heads...\n",
      "Matching knowledge heads with relations...\n",
      "Generating knowledge graph...\n"
     ]
    },
    {
     "name": "stderr",
     "output_type": "stream",
     "text": [
      "100%|██████████| 1/1 [00:02<00:00,  2.37s/it]\n",
      " 66%|██████▌   | 33/50 [07:30<04:01, 14.21s/it]"
     ]
    },
    {
     "name": "stdout",
     "output_type": "stream",
     "text": [
      "Extracting knowledge heads...\n",
      "Matching knowledge heads with relations...\n",
      "Generating knowledge graph...\n"
     ]
    },
    {
     "name": "stderr",
     "output_type": "stream",
     "text": [
      "100%|██████████| 1/1 [00:02<00:00,  2.05s/it]\n",
      " 68%|██████▊   | 34/50 [07:45<03:52, 14.51s/it]"
     ]
    },
    {
     "name": "stdout",
     "output_type": "stream",
     "text": [
      "Extracting knowledge heads...\n",
      "Matching knowledge heads with relations...\n",
      "Generating knowledge graph...\n"
     ]
    },
    {
     "name": "stderr",
     "output_type": "stream",
     "text": [
      "100%|██████████| 1/1 [00:01<00:00,  1.38s/it]\n",
      " 70%|███████   | 35/50 [07:57<03:28, 13.87s/it]"
     ]
    },
    {
     "name": "stdout",
     "output_type": "stream",
     "text": [
      "Extracting knowledge heads...\n",
      "Matching knowledge heads with relations...\n",
      "Generating knowledge graph...\n"
     ]
    },
    {
     "name": "stderr",
     "output_type": "stream",
     "text": [
      "100%|██████████| 1/1 [00:00<00:00,  1.57it/s]\n",
      " 72%|███████▏  | 36/50 [08:03<02:41, 11.52s/it]"
     ]
    },
    {
     "name": "stdout",
     "output_type": "stream",
     "text": [
      "Extracting knowledge heads...\n",
      "Matching knowledge heads with relations...\n",
      "Generating knowledge graph...\n"
     ]
    },
    {
     "name": "stderr",
     "output_type": "stream",
     "text": [
      "100%|██████████| 1/1 [00:00<00:00,  1.03it/s]\n",
      " 74%|███████▍  | 37/50 [08:12<02:17, 10.56s/it]"
     ]
    },
    {
     "name": "stdout",
     "output_type": "stream",
     "text": [
      "Extracting knowledge heads...\n",
      "Matching knowledge heads with relations...\n",
      "Generating knowledge graph...\n"
     ]
    },
    {
     "name": "stderr",
     "output_type": "stream",
     "text": [
      "100%|██████████| 1/1 [00:01<00:00,  1.13s/it]\n",
      " 76%|███████▌  | 38/50 [08:25<02:15, 11.32s/it]"
     ]
    },
    {
     "name": "stdout",
     "output_type": "stream",
     "text": [
      "Extracting knowledge heads...\n",
      "Matching knowledge heads with relations...\n",
      "Generating knowledge graph...\n"
     ]
    },
    {
     "name": "stderr",
     "output_type": "stream",
     "text": [
      "100%|██████████| 1/1 [00:01<00:00,  1.16s/it]\n",
      " 78%|███████▊  | 39/50 [08:39<02:13, 12.17s/it]"
     ]
    },
    {
     "name": "stdout",
     "output_type": "stream",
     "text": [
      "Extracting knowledge heads...\n",
      "Matching knowledge heads with relations...\n",
      "Generating knowledge graph...\n"
     ]
    },
    {
     "name": "stderr",
     "output_type": "stream",
     "text": [
      "100%|██████████| 1/1 [00:01<00:00,  1.26s/it]\n",
      " 80%|████████  | 40/50 [08:48<01:53, 11.30s/it]"
     ]
    },
    {
     "name": "stdout",
     "output_type": "stream",
     "text": [
      "Extracting knowledge heads...\n",
      "Matching knowledge heads with relations...\n",
      "Generating knowledge graph...\n"
     ]
    },
    {
     "name": "stderr",
     "output_type": "stream",
     "text": [
      "100%|██████████| 1/1 [00:01<00:00,  1.16s/it]\n",
      " 82%|████████▏ | 41/50 [08:56<01:31, 10.19s/it]"
     ]
    },
    {
     "name": "stdout",
     "output_type": "stream",
     "text": [
      "Extracting knowledge heads...\n",
      "Matching knowledge heads with relations...\n",
      "Generating knowledge graph...\n"
     ]
    },
    {
     "name": "stderr",
     "output_type": "stream",
     "text": [
      "100%|██████████| 1/1 [00:02<00:00,  2.86s/it]\n",
      " 84%|████████▍ | 42/50 [09:15<01:43, 12.90s/it]"
     ]
    },
    {
     "name": "stdout",
     "output_type": "stream",
     "text": [
      "Extracting knowledge heads...\n",
      "Matching knowledge heads with relations...\n",
      "Generating knowledge graph...\n"
     ]
    },
    {
     "name": "stderr",
     "output_type": "stream",
     "text": [
      "100%|██████████| 1/1 [00:02<00:00,  2.92s/it]\n",
      " 86%|████████▌ | 43/50 [09:30<01:33, 13.40s/it]"
     ]
    },
    {
     "name": "stdout",
     "output_type": "stream",
     "text": [
      "Extracting knowledge heads...\n",
      "Matching knowledge heads with relations...\n",
      "Generating knowledge graph...\n"
     ]
    },
    {
     "name": "stderr",
     "output_type": "stream",
     "text": [
      "100%|██████████| 1/1 [00:01<00:00,  1.04s/it]\n",
      " 88%|████████▊ | 44/50 [09:39<01:12, 12.08s/it]"
     ]
    },
    {
     "name": "stdout",
     "output_type": "stream",
     "text": [
      "Extracting knowledge heads...\n",
      "Matching knowledge heads with relations...\n",
      "Generating knowledge graph...\n"
     ]
    },
    {
     "name": "stderr",
     "output_type": "stream",
     "text": [
      "100%|██████████| 1/1 [00:02<00:00,  2.42s/it]\n",
      " 90%|█████████ | 45/50 [09:53<01:03, 12.80s/it]"
     ]
    },
    {
     "name": "stdout",
     "output_type": "stream",
     "text": [
      "Extracting knowledge heads...\n",
      "Matching knowledge heads with relations...\n",
      "Generating knowledge graph...\n"
     ]
    },
    {
     "name": "stderr",
     "output_type": "stream",
     "text": [
      "100%|██████████| 1/1 [00:02<00:00,  2.27s/it]\n",
      " 92%|█████████▏| 46/50 [10:08<00:53, 13.42s/it]"
     ]
    },
    {
     "name": "stdout",
     "output_type": "stream",
     "text": [
      "Extracting knowledge heads...\n",
      "Matching knowledge heads with relations...\n",
      "Generating knowledge graph...\n"
     ]
    },
    {
     "name": "stderr",
     "output_type": "stream",
     "text": [
      "100%|██████████| 1/1 [00:02<00:00,  2.28s/it]\n",
      " 94%|█████████▍| 47/50 [10:25<00:43, 14.54s/it]"
     ]
    },
    {
     "name": "stdout",
     "output_type": "stream",
     "text": [
      "Extracting knowledge heads...\n",
      "Matching knowledge heads with relations...\n",
      "Generating knowledge graph...\n"
     ]
    },
    {
     "name": "stderr",
     "output_type": "stream",
     "text": [
      "100%|██████████| 1/1 [00:01<00:00,  1.20s/it]\n",
      " 96%|█████████▌| 48/50 [10:39<00:28, 14.28s/it]"
     ]
    },
    {
     "name": "stdout",
     "output_type": "stream",
     "text": [
      "Extracting knowledge heads...\n",
      "Matching knowledge heads with relations...\n",
      "Generating knowledge graph...\n"
     ]
    },
    {
     "name": "stderr",
     "output_type": "stream",
     "text": [
      "100%|██████████| 1/1 [00:02<00:00,  2.99s/it]\n",
      " 98%|█████████▊| 49/50 [11:00<00:16, 16.49s/it]"
     ]
    },
    {
     "name": "stdout",
     "output_type": "stream",
     "text": [
      "Extracting knowledge heads...\n",
      "Matching knowledge heads with relations...\n",
      "Generating knowledge graph...\n"
     ]
    },
    {
     "name": "stderr",
     "output_type": "stream",
     "text": [
      "100%|██████████| 1/1 [00:02<00:00,  2.87s/it]\n",
      "100%|██████████| 50/50 [11:17<00:00, 13.55s/it]\n"
     ]
    }
   ],
   "source": [
    "from tqdm import tqdm\n",
    "\n",
    "roc_results = []\n",
    "roc_subsamples = roc_samples.sample(50)\n",
    "\n",
    "for index, row in tqdm(roc_subsamples.iterrows(), total=len(roc_subsamples), leave=True):\n",
    "    output_graph = csi.infer(text=row[\"head\"], model=model, model_args={\"num_generate\": 1})\n",
    "    context = text_to_list(row[\"context\"])\n",
    "    probs = linker.link(context=context, input_graph=output_graph)\n",
    "\n",
    "    for output_kg, tail_probs in zip(output_graph, probs):\n",
    "        roc_results.append({\n",
    "            \"text\": row[\"head\"],\n",
    "            \"context\": row[\"context\"],\n",
    "            \"head\": output_kg.head,\n",
    "            \"relation\": output_kg.relation, \n",
    "            \"tail\": output_kg.tails[0], \n",
    "            \"prediction\": 1 if tail_probs[0] >= 0.5 else 0\n",
    "        })"
   ]
  },
  {
   "cell_type": "code",
   "execution_count": 19,
   "metadata": {},
   "outputs": [],
   "source": [
    "roc_full_pipeline_results = []\n",
    "\n",
    "for res in roc_results:\n",
    "    roc_full_pipeline_results.append({\n",
    "        \"text\": res[\"text\"],\n",
    "        \"context\": res[\"context\"],\n",
    "        \"head\": str(res[\"head\"]),\n",
    "        \"relation\": str(res[\"relation\"]),\n",
    "        \"tail\": res[\"tail\"],\n",
    "        \"prediction\": res[\"prediction\"]\n",
    "    })"
   ]
  },
  {
   "cell_type": "code",
   "execution_count": 22,
   "metadata": {},
   "outputs": [],
   "source": [
    "import random\n",
    "\n",
    "roc_full_pipeline_samples = random.sample(roc_full_pipeline_results, 100)"
   ]
  },
  {
   "cell_type": "code",
   "execution_count": 23,
   "metadata": {},
   "outputs": [],
   "source": [
    "import json\n",
    "\n",
    "with open(\"data/roc_full_pipeline_result_samples.json\", \"w\") as f:\n",
    "    json.dump(roc_full_pipeline_samples, f, indent=2)"
   ]
  },
  {
   "cell_type": "code",
   "execution_count": 21,
   "metadata": {},
   "outputs": [],
   "source": [
    "import json\n",
    "\n",
    "with open(\"data/roc_full_pipeline_results.json\", \"w\") as f:\n",
    "    json.dump(roc_full_pipeline_results, f, indent=2)"
   ]
  },
  {
   "cell_type": "code",
   "execution_count": 24,
   "metadata": {},
   "outputs": [
    {
     "name": "stdout",
     "output_type": "stream",
     "text": [
      "Accuracy=0.78, F1=0.7441860465116279, Recall=0.9142857142857143, Precision=0.6274509803921569\n"
     ]
    }
   ],
   "source": [
    "from sklearn.metrics import accuracy_score, f1_score, recall_score, precision_score\n",
    "import json\n",
    "\n",
    "with open(\"data/roc_full_pipeline_result_samples.json\") as f:\n",
    "    roc_results = json.load(f)\n",
    "\n",
    "labels = [roc_result[\"label\"] for roc_result in roc_results]\n",
    "predictions = [roc_result[\"prediction\"] for roc_result in roc_results]\n",
    "\n",
    "print(f\"Accuracy={accuracy_score(labels, predictions)}, F1={f1_score(labels, predictions)}, Recall={recall_score(labels, predictions)}, Precision={precision_score(labels, predictions)}\")"
   ]
  },
  {
   "cell_type": "code",
   "execution_count": 44,
   "metadata": {},
   "outputs": [],
   "source": [
    "from kogito.core.knowledge import KnowledgeGraph\n",
    "\n",
    "input_graph = KnowledgeGraph.from_csv(\"data/roc_samples.csv\", tails_col=\"tail\")"
   ]
  },
  {
   "cell_type": "code",
   "execution_count": 45,
   "metadata": {},
   "outputs": [
    {
     "data": {
      "text/plain": [
       "[Knowledge(head=\"practice\", relation=\"ObjectUse\", tails=['perfect skill']),\n",
       " Knowledge(head=\"PersonX invites PersonY to a movie\", relation=\"xIntent\", tails=['to see a movie with a friend.'])]"
      ]
     },
     "execution_count": 45,
     "metadata": {},
     "output_type": "execute_result"
    }
   ],
   "source": [
    "input_graph[:2]"
   ]
  },
  {
   "cell_type": "code",
   "execution_count": 20,
   "metadata": {},
   "outputs": [],
   "source": [
    "from kogito.models.bart.comet import COMETBART\n",
    "\n",
    "model = COMETBART.from_pretrained(\"mismayil/comet-bart-ai2\")"
   ]
  },
  {
   "cell_type": "code",
   "execution_count": 46,
   "metadata": {},
   "outputs": [
    {
     "name": "stderr",
     "output_type": "stream",
     "text": [
      "100%|██████████| 2/2 [00:08<00:00,  4.39s/it]\n"
     ]
    }
   ],
   "source": [
    "output_graph = model.generate(input_graph, num_generate=1)"
   ]
  },
  {
   "cell_type": "code",
   "execution_count": 47,
   "metadata": {},
   "outputs": [
    {
     "data": {
      "text/plain": [
       "[Knowledge(head=\"practice\", relation=\"ObjectUse\", tails=[' practice']),\n",
       " Knowledge(head=\"PersonX invites PersonY to a movie\", relation=\"xIntent\", tails=[' to have fun'])]"
      ]
     },
     "execution_count": 47,
     "metadata": {},
     "output_type": "execute_result"
    }
   ],
   "source": [
    "output_graph[:2]"
   ]
  },
  {
   "cell_type": "code",
   "execution_count": 48,
   "metadata": {},
   "outputs": [],
   "source": [
    "roc_results = []\n",
    "\n",
    "for roc_sample, output_sample in zip(roc_samples.itertuples(), output_graph):\n",
    "    roc_results.append({\n",
    "        \"context\": roc_sample.context,\n",
    "        \"head\": roc_sample.head,\n",
    "        \"relation\": roc_sample.relation,\n",
    "        \"reference_tails\": roc_sample.tail,\n",
    "        \"generated_tails\": output_sample.tails,\n",
    "        \"reference_label\": roc_sample.label\n",
    "    })"
   ]
  },
  {
   "cell_type": "code",
   "execution_count": 49,
   "metadata": {},
   "outputs": [],
   "source": [
    "import json\n",
    "\n",
    "with open(\"data/roc_results.json\", \"w\") as f:\n",
    "    json.dump(roc_results, f, indent=2)"
   ]
  },
  {
   "cell_type": "code",
   "execution_count": 34,
   "metadata": {},
   "outputs": [],
   "source": [
    "from kogito.linkers.deberta import DebertaLinker\n",
    "\n",
    "linker = DebertaLinker()"
   ]
  },
  {
   "cell_type": "code",
   "execution_count": 35,
   "metadata": {},
   "outputs": [],
   "source": [
    "def text_to_list(text):\n",
    "    return [t.strip().strip(\"'\") for t in text.strip(\"]\").strip(\"[\").split(\",\")]"
   ]
  },
  {
   "cell_type": "code",
   "execution_count": 36,
   "metadata": {},
   "outputs": [
    {
     "data": {
      "text/plain": [
       "['hank had to wrap a lot of gifts for his family .',\n",
       " 'he ran out of wrapping paper with 4 gifts to go .',\n",
       " 'he went to the kitchen and found shopping bags .',\n",
       " 'he cut up the bags to make sheets of paper .',\n",
       " 'he used the paper to wrap the last of the gifts .']"
      ]
     },
     "execution_count": 36,
     "metadata": {},
     "output_type": "execute_result"
    }
   ],
   "source": [
    "text_to_list(roc_test.iloc[0][\"context\"])"
   ]
  },
  {
   "cell_type": "code",
   "execution_count": 50,
   "metadata": {},
   "outputs": [
    {
     "name": "stderr",
     "output_type": "stream",
     "text": [
      "100%|██████████| 100/100 [01:06<00:00,  1.50it/s]\n"
     ]
    }
   ],
   "source": [
    "from kogito.core.knowledge import KnowledgeGraph, Knowledge\n",
    "from tqdm import tqdm\n",
    "\n",
    "labels = roc_test.label.to_list()\n",
    "\n",
    "for roc_result in tqdm(roc_results, total=len(roc_results)):\n",
    "    context = text_to_list(roc_result[\"context\"])\n",
    "    graph = KnowledgeGraph([Knowledge(head=roc_result[\"head\"], relation=roc_result[\"relation\"], tails=roc_result[\"generated_tails\"][0])])\n",
    "    probs = linker.link(context=context, input_graph=graph)\n",
    "    roc_result[\"prediction\"] = 1 if probs[0][0] >= 0.5 else 0"
   ]
  },
  {
   "cell_type": "code",
   "execution_count": 51,
   "metadata": {},
   "outputs": [],
   "source": [
    "import json\n",
    "\n",
    "with open(\"data/roc_results.json\", \"w\") as f:\n",
    "    json.dump(roc_results, f, indent=2)"
   ]
  },
  {
   "cell_type": "code",
   "execution_count": 54,
   "metadata": {},
   "outputs": [
    {
     "name": "stdout",
     "output_type": "stream",
     "text": [
      "Accuracy=0.81, F1=0.8080808080808082, Recall=0.8, Precision=0.8163265306122449\n"
     ]
    }
   ],
   "source": [
    "from sklearn.metrics import accuracy_score, f1_score, recall_score, precision_score\n",
    "import json\n",
    "\n",
    "with open(\"data/roc_results.json\") as f:\n",
    "    roc_results = json.load(f)\n",
    "\n",
    "labels = [roc_result[\"label\"] for roc_result in roc_results]\n",
    "predictions = [roc_result[\"prediction\"] for roc_result in roc_results]\n",
    "\n",
    "print(f\"Accuracy={accuracy_score(labels, predictions)}, F1={f1_score(labels, predictions)}, Recall={recall_score(labels, predictions)}, Precision={precision_score(labels, predictions)}\")"
   ]
  },
  {
   "cell_type": "markdown",
   "metadata": {},
   "source": [
    "### Context as a list"
   ]
  },
  {
   "cell_type": "code",
   "execution_count": 14,
   "metadata": {},
   "outputs": [
    {
     "name": "stderr",
     "output_type": "stream",
     "text": [
      "100%|██████████| 10854/10854 [06:35<00:00, 27.42it/s]\n"
     ]
    }
   ],
   "source": [
    "from kogito.core.knowledge import KnowledgeGraph, Knowledge\n",
    "from tqdm import tqdm\n",
    "\n",
    "labels = roc_test.label.to_list()\n",
    "predictions = []\n",
    "\n",
    "for _, row in tqdm(roc_test.iterrows(), total=len(roc_test)):\n",
    "    context = text_to_list(row[\"context\"])\n",
    "    graph = KnowledgeGraph([Knowledge(head=row[\"head\"], relation=row[\"relation\"], tails=row[\"tail\"])])\n",
    "    probs = linker.link(context=context, input_graph=graph)\n",
    "    predictions.append(1 if probs[0] >= 0.5 else 0)"
   ]
  },
  {
   "cell_type": "code",
   "execution_count": 15,
   "metadata": {},
   "outputs": [
    {
     "data": {
      "text/plain": [
       "(10854, 10854)"
      ]
     },
     "execution_count": 15,
     "metadata": {},
     "output_type": "execute_result"
    }
   ],
   "source": [
    "len(predictions), len(labels)"
   ]
  },
  {
   "cell_type": "code",
   "execution_count": 16,
   "metadata": {},
   "outputs": [
    {
     "name": "stdout",
     "output_type": "stream",
     "text": [
      "Accuracy=0.8941404090657822, F1=0.7769365171811298, Recall=0.7968936678614098, Precision=0.7579545454545454\n"
     ]
    }
   ],
   "source": [
    "from sklearn.metrics import accuracy_score, f1_score, recall_score, precision_score\n",
    "\n",
    "print(f\"Accuracy={accuracy_score(labels, predictions)}, F1={f1_score(labels, predictions)}, Recall={recall_score(labels, predictions)}, Precision={precision_score(labels, predictions)}\")"
   ]
  },
  {
   "cell_type": "markdown",
   "metadata": {},
   "source": [
    "### Context as a text"
   ]
  },
  {
   "cell_type": "code",
   "execution_count": 17,
   "metadata": {},
   "outputs": [
    {
     "name": "stderr",
     "output_type": "stream",
     "text": [
      "  0%|          | 0/10854 [00:00<?, ?it/s]/root/.conda/envs/kogito/lib/python3.8/site-packages/transformers/models/deberta_v2/modeling_deberta_v2.py:745: UserWarning: To copy construct from a tensor, it is recommended to use sourceTensor.clone().detach() or sourceTensor.clone().detach().requires_grad_(True), rather than torch.tensor(sourceTensor).\n",
      "  attention_scores = torch.bmm(query_layer, key_layer.transpose(-1, -2)) / torch.tensor(\n",
      "/root/.conda/envs/kogito/lib/python3.8/site-packages/transformers/models/deberta_v2/modeling_deberta_v2.py:829: UserWarning: To copy construct from a tensor, it is recommended to use sourceTensor.clone().detach() or sourceTensor.clone().detach().requires_grad_(True), rather than torch.tensor(sourceTensor).\n",
      "  score += c2p_att / torch.tensor(scale, dtype=c2p_att.dtype)\n",
      "/root/.conda/envs/kogito/lib/python3.8/site-packages/transformers/models/deberta_v2/modeling_deberta_v2.py:852: UserWarning: To copy construct from a tensor, it is recommended to use sourceTensor.clone().detach() or sourceTensor.clone().detach().requires_grad_(True), rather than torch.tensor(sourceTensor).\n",
      "  score += p2c_att / torch.tensor(scale, dtype=p2c_att.dtype)\n",
      "100%|██████████| 10854/10854 [08:15<00:00, 21.89it/s]\n"
     ]
    }
   ],
   "source": [
    "from kogito.core.knowledge import KnowledgeGraph, Knowledge\n",
    "from tqdm import tqdm\n",
    "\n",
    "labels = roc_test.label.to_list()\n",
    "predictions = []\n",
    "\n",
    "for _, row in tqdm(roc_test.iterrows(), total=len(roc_test)):\n",
    "    context = \" \".join(text_to_list(row[\"context\"]))\n",
    "    graph = KnowledgeGraph([Knowledge(head=row[\"head\"], relation=row[\"relation\"], tails=row[\"tail\"])])\n",
    "    probs = linker.link(context=context, input_graph=graph)\n",
    "    predictions.append(1 if probs[0][0] >= 0.5 else 0)"
   ]
  },
  {
   "cell_type": "code",
   "execution_count": 18,
   "metadata": {},
   "outputs": [
    {
     "name": "stdout",
     "output_type": "stream",
     "text": [
      "Accuracy=0.8944168048645661, F1=0.7775621118012422, Recall=0.7976901632815612, Precision=0.7584248390761076\n"
     ]
    }
   ],
   "source": [
    "from sklearn.metrics import accuracy_score, f1_score, recall_score, precision_score\n",
    "\n",
    "print(f\"Accuracy={accuracy_score(labels, predictions)}, F1={f1_score(labels, predictions)}, Recall={recall_score(labels, predictions)}, Precision={precision_score(labels, predictions)}\")"
   ]
  }
 ],
 "metadata": {
  "kernelspec": {
   "display_name": "kogito",
   "language": "python",
   "name": "python3"
  },
  "language_info": {
   "codemirror_mode": {
    "name": "ipython",
    "version": 3
   },
   "file_extension": ".py",
   "mimetype": "text/x-python",
   "name": "python",
   "nbconvert_exporter": "python",
   "pygments_lexer": "ipython3",
   "version": "3.10.8"
  },
  "orig_nbformat": 4,
  "vscode": {
   "interpreter": {
    "hash": "1a5ce47e142c2a1712c8ca284cb2f9e1ee19ed32065de225d4e3146934fe045e"
   }
  }
 },
 "nbformat": 4,
 "nbformat_minor": 2
}
