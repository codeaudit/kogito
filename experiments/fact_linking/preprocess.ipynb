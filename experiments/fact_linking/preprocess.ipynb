{
 "cells": [
  {
   "cell_type": "code",
   "execution_count": 2,
   "metadata": {},
   "outputs": [],
   "source": [
    "import json\n",
    "\n",
    "with open(\"../../../../F2022/OP/data/roc/done_sid_test_47.json\") as f:\n",
    "    roc_test_ids = json.load(f)\n",
    "\n",
    "with open(\"../../../../F2022/OP/data/roc/roc_atomic_final_328.json\") as f:\n",
    "    roc = json.load(f)"
   ]
  },
  {
   "cell_type": "code",
   "execution_count": 4,
   "metadata": {},
   "outputs": [],
   "source": [
    "roc_samples = []\n",
    "\n",
    "for id_, data in roc.items():\n",
    "    if id_ in roc_test_ids:\n",
    "        text = data[\"text\"]\n",
    "        facts = data[\"facts\"]\n",
    "\n",
    "        for _, fact_set in facts.items():\n",
    "            for head, fact in fact_set.items():\n",
    "                for triple in fact[\"triples\"]:\n",
    "                    decision = triple[\"final\"]\n",
    "                    if decision in [\"always\", \"sometimes\", \"not\"]:\n",
    "                        roc_samples.append({\"context\": text, \"head\": head, \"relation\": triple[\"relation\"], \"tail\": triple[\"tail\"], \"label\": 0 if decision == \"not\" else 1})"
   ]
  },
  {
   "cell_type": "code",
   "execution_count": 5,
   "metadata": {},
   "outputs": [
    {
     "data": {
      "text/plain": [
       "[{'context': ['hank had to wrap a lot of gifts for his family .',\n",
       "   'he ran out of wrapping paper with 4 gifts to go .',\n",
       "   'he went to the kitchen and found shopping bags .',\n",
       "   'he cut up the bags to make sheets of paper .',\n",
       "   'he used the paper to wrap the last of the gifts .'],\n",
       "  'head': 'PersonX wraps gifts',\n",
       "  'relation': 'xWant',\n",
       "  'tail': 'give gifts',\n",
       "  'label': 1},\n",
       " {'context': ['hank had to wrap a lot of gifts for his family .',\n",
       "   'he ran out of wrapping paper with 4 gifts to go .',\n",
       "   'he went to the kitchen and found shopping bags .',\n",
       "   'he cut up the bags to make sheets of paper .',\n",
       "   'he used the paper to wrap the last of the gifts .'],\n",
       "  'head': 'PersonX wraps gifts',\n",
       "  'relation': 'xWant',\n",
       "  'tail': 'to deliver the gifts',\n",
       "  'label': 0}]"
      ]
     },
     "execution_count": 5,
     "metadata": {},
     "output_type": "execute_result"
    }
   ],
   "source": [
    "roc_samples[:2]"
   ]
  },
  {
   "cell_type": "code",
   "execution_count": 6,
   "metadata": {},
   "outputs": [
    {
     "data": {
      "text/plain": [
       "10854"
      ]
     },
     "execution_count": 6,
     "metadata": {},
     "output_type": "execute_result"
    }
   ],
   "source": [
    "len(roc_samples)"
   ]
  },
  {
   "cell_type": "code",
   "execution_count": 7,
   "metadata": {},
   "outputs": [],
   "source": [
    "import pandas as pd\n",
    "\n",
    "roc_test_df = pd.DataFrame(roc_samples)"
   ]
  },
  {
   "cell_type": "code",
   "execution_count": 8,
   "metadata": {},
   "outputs": [
    {
     "data": {
      "text/html": [
       "<div>\n",
       "<style scoped>\n",
       "    .dataframe tbody tr th:only-of-type {\n",
       "        vertical-align: middle;\n",
       "    }\n",
       "\n",
       "    .dataframe tbody tr th {\n",
       "        vertical-align: top;\n",
       "    }\n",
       "\n",
       "    .dataframe thead th {\n",
       "        text-align: right;\n",
       "    }\n",
       "</style>\n",
       "<table border=\"1\" class=\"dataframe\">\n",
       "  <thead>\n",
       "    <tr style=\"text-align: right;\">\n",
       "      <th></th>\n",
       "      <th>context</th>\n",
       "      <th>head</th>\n",
       "      <th>relation</th>\n",
       "      <th>tail</th>\n",
       "      <th>label</th>\n",
       "    </tr>\n",
       "  </thead>\n",
       "  <tbody>\n",
       "    <tr>\n",
       "      <th>0</th>\n",
       "      <td>[hank had to wrap a lot of gifts for his famil...</td>\n",
       "      <td>PersonX wraps gifts</td>\n",
       "      <td>xWant</td>\n",
       "      <td>give gifts</td>\n",
       "      <td>1</td>\n",
       "    </tr>\n",
       "    <tr>\n",
       "      <th>1</th>\n",
       "      <td>[hank had to wrap a lot of gifts for his famil...</td>\n",
       "      <td>PersonX wraps gifts</td>\n",
       "      <td>xWant</td>\n",
       "      <td>to deliver the gifts</td>\n",
       "      <td>0</td>\n",
       "    </tr>\n",
       "    <tr>\n",
       "      <th>2</th>\n",
       "      <td>[hank had to wrap a lot of gifts for his famil...</td>\n",
       "      <td>gift</td>\n",
       "      <td>AtLocation</td>\n",
       "      <td>wrapped container</td>\n",
       "      <td>1</td>\n",
       "    </tr>\n",
       "    <tr>\n",
       "      <th>3</th>\n",
       "      <td>[hank had to wrap a lot of gifts for his famil...</td>\n",
       "      <td>gift</td>\n",
       "      <td>AtLocation</td>\n",
       "      <td>gift shop</td>\n",
       "      <td>0</td>\n",
       "    </tr>\n",
       "    <tr>\n",
       "      <th>4</th>\n",
       "      <td>[hank had to wrap a lot of gifts for his famil...</td>\n",
       "      <td>gift</td>\n",
       "      <td>ObjectUse</td>\n",
       "      <td>bring for the birthday host</td>\n",
       "      <td>0</td>\n",
       "    </tr>\n",
       "  </tbody>\n",
       "</table>\n",
       "</div>"
      ],
      "text/plain": [
       "                                             context                 head  \\\n",
       "0  [hank had to wrap a lot of gifts for his famil...  PersonX wraps gifts   \n",
       "1  [hank had to wrap a lot of gifts for his famil...  PersonX wraps gifts   \n",
       "2  [hank had to wrap a lot of gifts for his famil...                 gift   \n",
       "3  [hank had to wrap a lot of gifts for his famil...                 gift   \n",
       "4  [hank had to wrap a lot of gifts for his famil...                 gift   \n",
       "\n",
       "     relation                         tail  label  \n",
       "0       xWant                   give gifts      1  \n",
       "1       xWant         to deliver the gifts      0  \n",
       "2  AtLocation            wrapped container      1  \n",
       "3  AtLocation                    gift shop      0  \n",
       "4   ObjectUse  bring for the birthday host      0  "
      ]
     },
     "execution_count": 8,
     "metadata": {},
     "output_type": "execute_result"
    }
   ],
   "source": [
    "roc_test_df.head()"
   ]
  },
  {
   "cell_type": "code",
   "execution_count": 9,
   "metadata": {},
   "outputs": [],
   "source": [
    "roc_test_df.to_csv(\"data/roc_nlu_test.csv\")"
   ]
  },
  {
   "cell_type": "code",
   "execution_count": 11,
   "metadata": {},
   "outputs": [
    {
     "data": {
      "text/plain": [
       "0    8343\n",
       "1    2511\n",
       "Name: label, dtype: int64"
      ]
     },
     "execution_count": 11,
     "metadata": {},
     "output_type": "execute_result"
    }
   ],
   "source": [
    "roc_test_df.label.value_counts()"
   ]
  }
 ],
 "metadata": {
  "kernelspec": {
   "display_name": "Python 3.8.12 64-bit ('kogito')",
   "language": "python",
   "name": "python3"
  },
  "language_info": {
   "codemirror_mode": {
    "name": "ipython",
    "version": 3
   },
   "file_extension": ".py",
   "mimetype": "text/x-python",
   "name": "python",
   "nbconvert_exporter": "python",
   "pygments_lexer": "ipython3",
   "version": "3.8.12"
  },
  "orig_nbformat": 4,
  "vscode": {
   "interpreter": {
    "hash": "78e267dbbd536cf72b9151fa10598d02f0742e0d77c5a78f8f9ba9a5d38a282d"
   }
  }
 },
 "nbformat": 4,
 "nbformat_minor": 2
}
