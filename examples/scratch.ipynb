{
 "cells": [
  {
   "cell_type": "code",
   "execution_count": 1,
   "metadata": {},
   "outputs": [],
   "source": [
    "%load_ext autoreload\n",
    "%autoreload 2"
   ]
  },
  {
   "cell_type": "code",
   "execution_count": 2,
   "metadata": {},
   "outputs": [],
   "source": [
    "import spacy\n",
    "from spacy.lang.en.stop_words import STOP_WORDS\n",
    "\n",
    "nlp = spacy.load('en_core_web_sm')\n",
    "text = \"\"\"Apple gets a library card\"\"\"\n",
    "doc = nlp(text)\n",
    "\n",
    "# examine the top-ranked phrases in the document\n",
    "for e in doc.ents:\n",
    "    print(e.text, e.label_)"
   ]
  },
  {
   "cell_type": "code",
   "execution_count": null,
   "metadata": {},
   "outputs": [],
   "source": [
    "\n",
    "\n",
    "print(STOP_WORDS)"
   ]
  },
  {
   "cell_type": "code",
   "execution_count": null,
   "metadata": {},
   "outputs": [],
   "source": [
    "dir(doc._.phrases[0])"
   ]
  },
  {
   "cell_type": "code",
   "execution_count": null,
   "metadata": {},
   "outputs": [],
   "source": [
    "for sent in doc.sents:\n",
    "    print(sent)"
   ]
  },
  {
   "cell_type": "code",
   "execution_count": null,
   "metadata": {},
   "outputs": [],
   "source": [
    "dir(next(doc.sents))"
   ]
  },
  {
   "cell_type": "code",
   "execution_count": null,
   "metadata": {},
   "outputs": [],
   "source": [
    "import pandas as pd\n",
    "\n",
    "conceptnet = pd.read_csv(\"/Users/mismayil/Downloads/conceptnet-assertions-5.7.0.csv.gz\", header=False, compression=\"gzip\", sep='\\t', error_bad_lines=False)"
   ]
  },
  {
   "cell_type": "code",
   "execution_count": null,
   "metadata": {},
   "outputs": [],
   "source": [
    "conceptnet.columns"
   ]
  },
  {
   "cell_type": "code",
   "execution_count": null,
   "metadata": {},
   "outputs": [],
   "source": [
    "from kogito.models.bart.comet_bart import COMETBART\n",
    "from kogito.inference import CommonsenseInference\n",
    "\n",
    "model = COMETBART.from_pretrained(\"/Users/mismayil/Desktop/EPFL/nlplab/comet-atomic-2020/comet-atomic_2020_BART\")\n",
    "csi = CommonsenseInference()\n",
    "text = \"Student gets a library card\"\n",
    "kgraph = csi.infer(text, model)\n",
    "kgraph.to_jsonl(\"kgraph4.json\")"
   ]
  },
  {
   "cell_type": "code",
   "execution_count": null,
   "metadata": {},
   "outputs": [],
   "source": [
    "from kogito.core.head import PhraseHeadExtractor, NounHeadExtractor\n",
    "import spacy\n",
    "\n",
    "nlp = spacy.load(\"en_core_web_sm\")\n",
    "he = NounHeadExtractor(\"extractor\", nlp)\n",
    "heads = he.extract(\"Morgan and her family lived in Florida.\")\n",
    "for head in heads:\n",
    "    print(head.text)\n"
   ]
  },
  {
   "cell_type": "code",
   "execution_count": null,
   "metadata": {},
   "outputs": [],
   "source": [
    "import spacy\n",
    "import pytextrank\n",
    "nlp = spacy.load(\"en_core_web_sm\")\n",
    "nlp.add_pipe(\"textrank\")"
   ]
  },
  {
   "cell_type": "code",
   "execution_count": 2,
   "metadata": {},
   "outputs": [
    {
     "name": "stdout",
     "output_type": "stream",
     "text": [
      "gets\n",
      "card\n"
     ]
    }
   ],
   "source": [
    "import spacy\n",
    "\n",
    "nlp = spacy.load(\"en_core_web_sm\")\n",
    "doc = nlp(\"Mary gets a new library card\")\n",
    "for token in doc:\n",
    "    # print(chunk.text, chunk.root.text, chunk.root.dep_, chunk.root.head.text)\n",
    "    if token.dep_ == 'ROOT':\n",
    "        print(token.text)\n",
    "        for child in token.children:\n",
    "            if child.dep_ == 'dobj':\n",
    "                print(child.text)"
   ]
  },
  {
   "cell_type": "code",
   "execution_count": 2,
   "metadata": {},
   "outputs": [
    {
     "name": "stdout",
     "output_type": "stream",
     "text": [
      "Student\n",
      "library\n",
      "card\n",
      "Student\n",
      "new library card\n"
     ]
    }
   ],
   "source": [
    "from kogito.core.processors.head import NounPhraseHeadExtractor\n",
    "import spacy\n",
    "\n",
    "ext = NounPhraseHeadExtractor(\"ext\", spacy.load(\"en_core_web_sm\"))\n",
    "heads = ext.extract(\"Student gets a new library card\")\n",
    "\n",
    "for head in heads:\n",
    "    print(head.text)"
   ]
  },
  {
   "cell_type": "code",
   "execution_count": 1,
   "metadata": {},
   "outputs": [
    {
     "name": "stdout",
     "output_type": "stream",
     "text": [
      "to assign\n",
      "assign roommate\n",
      "to ask\n",
      "ask her\n",
      "to agree\n",
      "to be\n"
     ]
    }
   ],
   "source": [
    "text = \"\"\"\n",
    "Karen was assigned a roommate her first year of college. \n",
    "Her roommate asked her to go to a nearby city for a concert. \n",
    "Karen agreed happily. The show was absolutely exhilarating.\n",
    "\"\"\"\n",
    "from kogito.core.processors.head import VerbPhraseHeadExtractor\n",
    "import spacy\n",
    "\n",
    "ext = VerbPhraseHeadExtractor(\"ext\", spacy.load(\"en_core_web_sm\"))\n",
    "heads = ext.extract(text)\n",
    "\n",
    "for head in heads:\n",
    "    print(head.text)"
   ]
  }
 ],
 "metadata": {
  "interpreter": {
   "hash": "7c3b128559c7e8fd624042ca8b6c93b33cd59aca7b58d05c9d4cd21ec1a84d35"
  },
  "kernelspec": {
   "display_name": "Python 3.7.11 ('kogito')",
   "language": "python",
   "name": "python3"
  },
  "language_info": {
   "codemirror_mode": {
    "name": "ipython",
    "version": 3
   },
   "file_extension": ".py",
   "mimetype": "text/x-python",
   "name": "python",
   "nbconvert_exporter": "python",
   "pygments_lexer": "ipython3",
   "version": "3.8.12"
  },
  "orig_nbformat": 4
 },
 "nbformat": 4,
 "nbformat_minor": 2
}
