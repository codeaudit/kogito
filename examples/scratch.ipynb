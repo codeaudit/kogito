{
 "cells": [
  {
   "cell_type": "code",
   "execution_count": 24,
   "metadata": {},
   "outputs": [],
   "source": [
    "%load_ext autoreload\n",
    "%autoreload 2"
   ]
  },
  {
   "cell_type": "code",
   "execution_count": 5,
   "metadata": {},
   "outputs": [
    {
     "name": "stdout",
     "output_type": "stream",
     "text": [
      "0.2085     1  a library card\n",
      "[a library card]\n",
      "0.1826     1  Student\n",
      "[Student]\n"
     ]
    }
   ],
   "source": [
    "import spacy\n",
    "import pytextrank\n",
    "from spacy.lang.en.stop_words import STOP_WORDS\n",
    "\n",
    "nlp = spacy.load('en_core_web_sm')\n",
    "nlp.add_pipe(\"textrank\")\n",
    "\n",
    "text = \"\"\"Student gets a library card\"\"\"\n",
    "doc = nlp(text)\n",
    "\n",
    "# examine the top-ranked phrases in the document\n",
    "for p in doc._.phrases:\n",
    "    print('{:.4f} {:5d}  {}'.format(p.rank, p.count, p.text))\n",
    "    print(p.chunks)"
   ]
  },
  {
   "cell_type": "code",
   "execution_count": 7,
   "metadata": {},
   "outputs": [
    {
     "name": "stdout",
     "output_type": "stream",
     "text": [
      "{'besides', 'the', 'various', 'fifteen', '‘s', 'five', 'well', '‘m', 'whom', 'quite', 'been', 'is', 'hereupon', 'from', 'with', 'never', 'throughout', '‘d', 'whither', 'about', 'where', 'yourselves', 'thereafter', 'top', 'elsewhere', 'whoever', 'can', 'how', 'over', 'name', '’ve', 'whole', 'sixty', \"n't\", 'onto', 'afterwards', 'do', 'therein', 'call', 'beforehand', 'ours', 'yours', 'yourself', 'but', 'such', 'amongst', 'just', 'between', 'must', 'our', 'than', 'either', 'into', 'being', 'does', 'now', 'have', 'if', 'after', 'every', 're', 'you', 'wherever', '’re', 'become', 'itself', 'myself', 'someone', 'whereby', 'fifty', 'seems', 'somewhere', 'nowhere', 'eight', 'nobody', 'latter', 'a', 'anyhow', 'because', 'themselves', 'out', 'these', 'least', 'why', 'until', 'already', 'were', 'two', 'him', 'some', 'he', 'few', 'against', 'bottom', 'they', 'side', 'one', 'while', 'its', 'once', \"'ve\", 'became', \"'s\", 'only', 'thus', 'beside', 'before', 'nine', 'everywhere', 'six', 'for', 'up', 'anyway', 'thereupon', 'same', 'thence', 'herein', 'within', 'could', 'too', 'becomes', 'which', 'as', 'should', 'really', 'anything', 'there', 'whatever', 'had', 'yet', 'hereafter', 'part', 'used', 'even', 'whether', \"'re\", \"'m\", 'show', 'together', 'of', 'everything', 'wherein', 'empty', 'third', 'amount', 'whereafter', 'whose', 'indeed', '’ll', 'us', \"'ll\", 'less', 'give', 'n‘t', 'what', 'and', 'who', 'whereas', 'towards', 'further', 'although', 'made', '’d', 'noone', 'it', 'three', 'n’t', 'both', 'then', 'upon', 'nor', 'take', 'see', 'ten', 'something', 'much', 'here', 'almost', 'off', 'make', 'full', 'since', 'ourselves', 'more', 'rather', 'ever', 'did', 'anywhere', 'last', 'across', 'was', 'meanwhile', '‘re', 'former', 'toward', 'still', 'many', 'down', 'seemed', 'again', 'during', 'neither', 'serious', 'above', 'his', 'done', 'first', 'hundred', 'namely', 'on', \"'d\", 'along', 'them', 'due', 'below', 'seeming', 'move', 'behind', 'or', 'at', 'your', 'would', 'none', 'via', 'front', 'this', 'though', 'nothing', 'perhaps', 'therefore', 'among', 'whereupon', 'twelve', 'alone', 'an', 'we', 'thereby', 'doing', 'whenever', 'whence', 'next', '’s', 'seem', 'her', 'under', 'others', 'am', 'somehow', 'she', 'another', 'moreover', 'formerly', '’m', 'me', 'becoming', 'else', '‘ll', 'be', 'most', 'those', 'latterly', 'sometimes', 'himself', 'by', 'their', 'cannot', 'has', 'to', 'are', 'say', 'go', '‘ve', 'all', 'also', 'twenty', 'in', 'often', 'mostly', 'four', 'except', 'may', 'back', 'otherwise', 'very', 'unless', 'please', 'my', 'regarding', 'anyone', 'each', 'keep', 'when', 'without', 'sometime', 'per', 'might', 'hereby', 'several', 'everyone', 'that', 'enough', 'nevertheless', 'mine', 'using', 'own', 'around', 'forty', 'other', 'eleven', 'beyond', 'herself', 'thru', 'always', 'however', 'not', 'put', 'i', 'no', 'hence', 'so', 'hers', 'get', 'any', 'will', 'ca', 'through'}\n"
     ]
    }
   ],
   "source": [
    "\n",
    "\n",
    "print(STOP_WORDS)"
   ]
  },
  {
   "cell_type": "code",
   "execution_count": 6,
   "metadata": {},
   "outputs": [
    {
     "data": {
      "text/plain": [
       "['__annotations__',\n",
       " '__class__',\n",
       " '__dataclass_fields__',\n",
       " '__dataclass_params__',\n",
       " '__delattr__',\n",
       " '__dict__',\n",
       " '__dir__',\n",
       " '__doc__',\n",
       " '__eq__',\n",
       " '__format__',\n",
       " '__ge__',\n",
       " '__getattribute__',\n",
       " '__gt__',\n",
       " '__hash__',\n",
       " '__init__',\n",
       " '__init_subclass__',\n",
       " '__le__',\n",
       " '__lt__',\n",
       " '__module__',\n",
       " '__ne__',\n",
       " '__new__',\n",
       " '__reduce__',\n",
       " '__reduce_ex__',\n",
       " '__repr__',\n",
       " '__setattr__',\n",
       " '__sizeof__',\n",
       " '__str__',\n",
       " '__subclasshook__',\n",
       " '__weakref__',\n",
       " 'chunks',\n",
       " 'count',\n",
       " 'rank',\n",
       " 'text']"
      ]
     },
     "execution_count": 6,
     "metadata": {},
     "output_type": "execute_result"
    }
   ],
   "source": [
    "dir(doc._.phrases[0])"
   ]
  },
  {
   "cell_type": "code",
   "execution_count": 9,
   "metadata": {},
   "outputs": [
    {
     "name": "stdout",
     "output_type": "stream",
     "text": [
      "Morgan and her family lived in Florida.\n",
      "\n",
      "They heard a hurricane was coming.\n",
      "They decided to evacuate to a relative's house.\n",
      "\n",
      "They arrived and learned from the news that it was a terrible storm.\n",
      "They felt lucky they had evacuated when they did.\n",
      "\n",
      "He wanted to shout, but stopped short of doing that.\n",
      "\n",
      "\n"
     ]
    }
   ],
   "source": [
    "for sent in doc.sents:\n",
    "    print(sent)"
   ]
  },
  {
   "cell_type": "code",
   "execution_count": 6,
   "metadata": {},
   "outputs": [
    {
     "data": {
      "text/plain": [
       "['_',\n",
       " '__class__',\n",
       " '__delattr__',\n",
       " '__dir__',\n",
       " '__doc__',\n",
       " '__eq__',\n",
       " '__format__',\n",
       " '__ge__',\n",
       " '__getattribute__',\n",
       " '__getitem__',\n",
       " '__gt__',\n",
       " '__hash__',\n",
       " '__init__',\n",
       " '__init_subclass__',\n",
       " '__iter__',\n",
       " '__le__',\n",
       " '__len__',\n",
       " '__lt__',\n",
       " '__ne__',\n",
       " '__new__',\n",
       " '__pyx_vtable__',\n",
       " '__reduce__',\n",
       " '__reduce_ex__',\n",
       " '__repr__',\n",
       " '__setattr__',\n",
       " '__sizeof__',\n",
       " '__str__',\n",
       " '__subclasshook__',\n",
       " '_fix_dep_copy',\n",
       " '_vector',\n",
       " '_vector_norm',\n",
       " 'as_doc',\n",
       " 'char_span',\n",
       " 'conjuncts',\n",
       " 'doc',\n",
       " 'end',\n",
       " 'end_char',\n",
       " 'ent_id',\n",
       " 'ent_id_',\n",
       " 'ents',\n",
       " 'get_extension',\n",
       " 'get_lca_matrix',\n",
       " 'has_extension',\n",
       " 'has_vector',\n",
       " 'kb_id',\n",
       " 'kb_id_',\n",
       " 'label',\n",
       " 'label_',\n",
       " 'lefts',\n",
       " 'lemma_',\n",
       " 'n_lefts',\n",
       " 'n_rights',\n",
       " 'noun_chunks',\n",
       " 'orth_',\n",
       " 'remove_extension',\n",
       " 'rights',\n",
       " 'root',\n",
       " 'sent',\n",
       " 'sentiment',\n",
       " 'sents',\n",
       " 'set_extension',\n",
       " 'similarity',\n",
       " 'start',\n",
       " 'start_char',\n",
       " 'subtree',\n",
       " 'tensor',\n",
       " 'text',\n",
       " 'text_with_ws',\n",
       " 'to_array',\n",
       " 'vector',\n",
       " 'vector_norm',\n",
       " 'vocab']"
      ]
     },
     "execution_count": 6,
     "metadata": {},
     "output_type": "execute_result"
    }
   ],
   "source": [
    "dir(next(doc.sents))"
   ]
  },
  {
   "cell_type": "code",
   "execution_count": 14,
   "metadata": {},
   "outputs": [],
   "source": [
    "import pandas as pd\n",
    "\n",
    "conceptnet = pd.read_csv(\"/Users/mismayil/Downloads/conceptnet-assertions-5.7.0.csv.gz\", header=False, compression=\"gzip\", sep='\\t', error_bad_lines=False)"
   ]
  },
  {
   "cell_type": "code",
   "execution_count": 16,
   "metadata": {},
   "outputs": [
    {
     "data": {
      "text/plain": [
       "Index(['/a/[/r/Antonym/,/c/ab/агыруа/n/,/c/ab/аҧсуа/]', '/r/Antonym',\n",
       "       '/c/ab/агыруа/n', '/c/ab/аҧсуа',\n",
       "       '{\"dataset\": \"/d/wiktionary/en\", \"license\": \"cc:by-sa/4.0\", \"sources\": [{\"contributor\": \"/s/resource/wiktionary/en\", \"process\": \"/s/process/wikiparsec/2\"}], \"weight\": 1.0}'],\n",
       "      dtype='object')"
      ]
     },
     "execution_count": 16,
     "metadata": {},
     "output_type": "execute_result"
    }
   ],
   "source": [
    "conceptnet.columns"
   ]
  },
  {
   "cell_type": "code",
   "execution_count": 9,
   "metadata": {},
   "outputs": [
    {
     "name": "stderr",
     "output_type": "stream",
     "text": [
      "INFO:kogito.core.utils:using task specific params for summarization: {'early_stopping': True, 'length_penalty': 2.0, 'max_length': 24, 'min_length': 1, 'no_repeat_ngram_size': 3, 'num_beams': 4}\n"
     ]
    },
    {
     "name": "stdout",
     "output_type": "stream",
     "text": [
      "Extracting heads...\n",
      "Matching relations...\n",
      "Generating commonsense graph...\n"
     ]
    }
   ],
   "source": [
    "from kogito.models.bart.comet_bart import COMETBART\n",
    "from kogito.inference import CommonsenseInference\n",
    "\n",
    "model = COMETBART.from_pretrained(\"/Users/mismayil/Desktop/EPFL/nlplab/comet-atomic-2020/comet-atomic_2020_BART\")\n",
    "csi = CommonsenseInference()\n",
    "text = \"Student gets a library card\"\n",
    "kgraph = csi.infer(text, model)\n",
    "kgraph.to_jsonl(\"kgraph4.json\")"
   ]
  },
  {
   "cell_type": "code",
   "execution_count": 5,
   "metadata": {},
   "outputs": [
    {
     "name": "stdout",
     "output_type": "stream",
     "text": [
      "family\n"
     ]
    }
   ],
   "source": [
    "from kogito.core.head import PhraseHeadExtractor, NounHeadExtractor\n",
    "import spacy\n",
    "\n",
    "nlp = spacy.load(\"en_core_web_sm\")\n",
    "he = NounHeadExtractor(\"extractor\", nlp)\n",
    "heads = he.extract(\"Morgan and her family lived in Florida.\")\n",
    "for head in heads:\n",
    "    print(head.text)\n"
   ]
  },
  {
   "cell_type": "code",
   "execution_count": 5,
   "metadata": {},
   "outputs": [
    {
     "name": "stderr",
     "output_type": "stream",
     "text": [
      "DEBUG:graphviz._tools:deprecate positional args: graphviz.backend.piping.pipe(['renderer', 'formatter', 'quiet'])\n",
      "DEBUG:graphviz._tools:deprecate positional args: graphviz.backend.rendering.render(['renderer', 'formatter', 'quiet'])\n",
      "DEBUG:graphviz._tools:deprecate positional args: graphviz.backend.unflattening.unflatten(['stagger', 'fanout', 'chain', 'encoding'])\n",
      "DEBUG:graphviz._tools:deprecate positional args: graphviz.backend.viewing.view(['quiet'])\n",
      "DEBUG:graphviz._tools:deprecate positional args: graphviz.quoting.quote(['is_html_string', 'is_valid_id', 'dot_keywords', 'escape_unescaped_quotes'])\n",
      "DEBUG:graphviz._tools:deprecate positional args: graphviz.quoting.a_list(['kwargs', 'attributes'])\n",
      "DEBUG:graphviz._tools:deprecate positional args: graphviz.quoting.attr_list(['kwargs', 'attributes'])\n",
      "DEBUG:graphviz._tools:deprecate positional args: graphviz.dot.Dot.clear(['keep_attrs'])\n",
      "DEBUG:graphviz._tools:deprecate positional args: graphviz.dot.Dot.__iter__(['subgraph'])\n",
      "DEBUG:graphviz._tools:deprecate positional args: graphviz.dot.Dot.node(['_attributes'])\n",
      "DEBUG:graphviz._tools:deprecate positional args: graphviz.dot.Dot.edge(['_attributes'])\n",
      "DEBUG:graphviz._tools:deprecate positional args: graphviz.dot.Dot.attr(['_attributes'])\n",
      "DEBUG:graphviz._tools:deprecate positional args: graphviz.dot.Dot.subgraph(['name', 'comment', 'graph_attr', 'node_attr', 'edge_attr', 'body'])\n",
      "DEBUG:graphviz._tools:deprecate positional args: graphviz.piping.Pipe._pipe_legacy(['renderer', 'formatter', 'quiet'])\n",
      "DEBUG:graphviz._tools:deprecate positional args: graphviz.saving.Save.save(['directory'])\n",
      "DEBUG:graphviz._tools:deprecate positional args: graphviz.rendering.Render.render(['directory', 'view', 'cleanup', 'format', 'renderer', 'formatter', 'quiet', 'quiet_view'])\n",
      "DEBUG:graphviz._tools:deprecate positional args: graphviz.rendering.Render.view(['directory', 'cleanup', 'quiet', 'quiet_view'])\n",
      "DEBUG:graphviz._tools:deprecate positional args: graphviz.unflattening.Unflatten.unflatten(['stagger', 'fanout', 'chain'])\n",
      "DEBUG:graphviz._tools:deprecate positional args: graphviz.graphs.BaseGraph.__init__(['comment', 'filename', 'directory', 'format', 'engine', 'encoding', 'graph_attr', 'node_attr', 'edge_attr', 'body', 'strict'])\n",
      "DEBUG:graphviz._tools:deprecate positional args: graphviz.sources.Source.from_file(['directory', 'format', 'engine', 'encoding', 'renderer', 'formatter'])\n",
      "DEBUG:graphviz._tools:deprecate positional args: graphviz.sources.Source.__init__(['filename', 'directory', 'format', 'engine', 'encoding'])\n",
      "DEBUG:graphviz._tools:deprecate positional args: graphviz.sources.Source.save(['directory'])\n"
     ]
    },
    {
     "data": {
      "text/plain": [
       "<pytextrank.base.BaseTextRankFactory at 0x7f9dadf8b710>"
      ]
     },
     "execution_count": 5,
     "metadata": {},
     "output_type": "execute_result"
    }
   ],
   "source": [
    "import spacy\n",
    "import pytextrank\n",
    "nlp = spacy.load(\"en_core_web_sm\")\n",
    "nlp.add_pipe(\"textrank\")"
   ]
  },
  {
   "cell_type": "code",
   "execution_count": 8,
   "metadata": {},
   "outputs": [
    {
     "name": "stdout",
     "output_type": "stream",
     "text": [
      "Mary's car\n",
      "a new library card\n"
     ]
    }
   ],
   "source": [
    "import spacy\n",
    "\n",
    "nlp = spacy.load(\"en_core_web_sm\")\n",
    "doc = nlp(\"\\nMary's car gets a new library card\")\n",
    "for chunk in doc.noun_chunks:\n",
    "    # print(chunk.text, chunk.root.text, chunk.root.dep_, chunk.root.head.text)\n",
    "    print(chunk.text)"
   ]
  },
  {
   "cell_type": "code",
   "execution_count": 1,
   "metadata": {},
   "outputs": [
    {
     "name": "stdout",
     "output_type": "stream",
     "text": [
      "car\n",
      "library\n",
      "card\n",
      "new library card\n"
     ]
    }
   ],
   "source": [
    "from kogito.core.processors.head import NounPhraseHeadExtractor\n",
    "import spacy\n",
    "\n",
    "ext = NounPhraseHeadExtractor(\"ext\", spacy.load(\"en_core_web_sm\"))\n",
    "heads = ext.extract(\"\\nMary's car gets a new library card\")\n",
    "\n",
    "for head in heads:\n",
    "    print(head.text)"
   ]
  },
  {
   "cell_type": "code",
   "execution_count": 3,
   "metadata": {},
   "outputs": [
    {
     "name": "stdout",
     "output_type": "stream",
     "text": [
      "Defaults\n",
      "add_pipe\n",
      "analyze_pipes\n",
      "batch_size\n",
      "begin_training\n",
      "component\n",
      "component_names\n",
      "components\n",
      "config\n",
      "create_optimizer\n",
      "create_pipe\n",
      "create_pipe_from_source\n",
      "default_config\n",
      "default_error_handler\n",
      "disable_pipe\n",
      "disable_pipes\n",
      "disabled\n",
      "enable_pipe\n",
      "evaluate\n",
      "factories\n",
      "factory\n",
      "factory_names\n",
      "from_bytes\n",
      "from_config\n",
      "from_disk\n",
      "get_factory_meta\n",
      "get_factory_name\n",
      "get_pipe\n",
      "get_pipe_config\n",
      "get_pipe_meta\n",
      "has_factory\n",
      "has_pipe\n",
      "initialize\n",
      "lang\n",
      "make_doc\n",
      "max_length\n",
      "meta\n",
      "path\n",
      "pipe\n",
      "pipe_factories\n",
      "pipe_labels\n",
      "pipe_names\n",
      "pipeline\n",
      "rehearse\n",
      "remove_pipe\n",
      "rename_pipe\n",
      "replace_listeners\n",
      "replace_pipe\n",
      "resume_training\n",
      "select_pipes\n",
      "set_error_handler\n",
      "set_factory_meta\n",
      "to_bytes\n",
      "to_disk\n",
      "tokenizer\n",
      "update\n",
      "use_params\n",
      "vocab\n"
     ]
    }
   ],
   "source": [
    "nlp = spacy.load(\"en_core_web_sm\")\n",
    "for d in dir(nlp):\n",
    "    if not d.startswith('_'):\n",
    "        print(d)"
   ]
  },
  {
   "cell_type": "code",
   "execution_count": 22,
   "metadata": {},
   "outputs": [
    {
     "name": "stdout",
     "output_type": "stream",
     "text": [
      "PROPN Mary\n",
      "VERB got\n",
      "DET a\n",
      "ADJ new\n",
      "NOUN libray\n",
      "NOUN card\n"
     ]
    }
   ],
   "source": [
    "nlp2 = spacy.load(\"en_core_web_sm\", exclude=[\"token2vec\", \"parser\", \"lemmatizer\", \"ner\"])\n",
    "\n",
    "doc = nlp2(\"Mary got a new libray card\")\n",
    "\n",
    "for token in doc:\n",
    "    print(token.pos_, token.text)"
   ]
  },
  {
   "cell_type": "code",
   "execution_count": 11,
   "metadata": {},
   "outputs": [
    {
     "data": {
      "text/plain": [
       "[('tok2vec', <spacy.pipeline.tok2vec.Tok2Vec at 0x7fb1e0e2edc0>),\n",
       " ('tagger', <spacy.pipeline.tagger.Tagger at 0x7fb1deb93ee0>),\n",
       " ('parser', <spacy.pipeline.dep_parser.DependencyParser at 0x7fb1e0e386d0>),\n",
       " ('attribute_ruler',\n",
       "  <spacy.pipeline.attributeruler.AttributeRuler at 0x7fb1e1dbff40>),\n",
       " ('lemmatizer',\n",
       "  <spacy.lang.en.lemmatizer.EnglishLemmatizer at 0x7fb1e1dc7cc0>),\n",
       " ('ner', <spacy.pipeline.ner.EntityRecognizer at 0x7fb1e0e38740>)]"
      ]
     },
     "execution_count": 11,
     "metadata": {},
     "output_type": "execute_result"
    }
   ],
   "source": [
    "nlp.pipeline"
   ]
  }
 ],
 "metadata": {
  "interpreter": {
   "hash": "7c3b128559c7e8fd624042ca8b6c93b33cd59aca7b58d05c9d4cd21ec1a84d35"
  },
  "kernelspec": {
   "display_name": "Python 3.7.11 ('kogito')",
   "language": "python",
   "name": "python3"
  },
  "language_info": {
   "codemirror_mode": {
    "name": "ipython",
    "version": 3
   },
   "file_extension": ".py",
   "mimetype": "text/x-python",
   "name": "python",
   "nbconvert_exporter": "python",
   "pygments_lexer": "ipython3",
   "version": "3.8.12"
  },
  "orig_nbformat": 4
 },
 "nbformat": 4,
 "nbformat_minor": 2
}
