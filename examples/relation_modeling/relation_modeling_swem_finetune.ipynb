{
 "cells": [
  {
   "cell_type": "code",
   "execution_count": 2,
   "metadata": {},
   "outputs": [],
   "source": [
    "%load_ext autoreload\n",
    "%autoreload 2"
   ]
  },
  {
   "cell_type": "code",
   "execution_count": 3,
   "metadata": {},
   "outputs": [],
   "source": [
    "import numpy as np\n",
    "VOCAB, EMBEDDING_MATRIX = np.load(\"data/vocab_glove_100d.npy\", allow_pickle=True).item(), np.load(\"data/embedding_matrix_glove_100d.npy\", allow_pickle=True)"
   ]
  },
  {
   "cell_type": "code",
   "execution_count": 4,
   "metadata": {},
   "outputs": [],
   "source": [
    "import torch\n",
    "from torch.utils.data import DataLoader\n",
    "from torch.optim import Adam\n",
    "from torch import nn\n",
    "import pytorch_lightning as pl\n",
    "import torchmetrics\n",
    "import torch.nn.functional as F\n",
    "\n",
    "from relation_modeling_utils import MaxPool, AvgPool\n",
    "\n",
    "class SWEMMultiClassifier(pl.LightningModule):\n",
    "    def __init__(self, num_classes=3, pooling=\"max\", freeze_emb=True, learning_rate=1e-3):\n",
    "        super().__init__()\n",
    "        self.embedding = nn.Embedding(num_embeddings=EMBEDDING_MATRIX.shape[0],\n",
    "                                      embedding_dim=EMBEDDING_MATRIX.shape[1]).from_pretrained(torch.tensor(EMBEDDING_MATRIX, dtype=torch.float32), freeze=freeze_emb)\n",
    "        self.pool = MaxPool() if pooling == \"max\" else AvgPool()\n",
    "        self.linear = nn.Linear(EMBEDDING_MATRIX.shape[1], num_classes)\n",
    "        self.model = nn.Sequential(self.embedding, self.pool, self.linear)\n",
    "        self.criterion = nn.BCEWithLogitsLoss()\n",
    "        self.learning_rate = learning_rate\n",
    "        self.train_accuracy = torchmetrics.Accuracy()\n",
    "        self.val_accuracy = torchmetrics.Accuracy()\n",
    "        self.train_precision = torchmetrics.Precision(num_classes=3, average='weighted')\n",
    "        self.val_precision = torchmetrics.Precision(num_classes=3, average='weighted')\n",
    "        self.train_recall = torchmetrics.Recall(num_classes=3, average='weighted')\n",
    "        self.val_recall = torchmetrics.Recall(num_classes=3, average='weighted')\n",
    "        self.train_f1 = torchmetrics.F1Score(num_classes=3, average='weighted')\n",
    "        self.val_f1 = torchmetrics.F1Score(num_classes=3, average='weighted')\n",
    "        self.save_hyperparameters()\n",
    "    \n",
    "    def forward(self, X):\n",
    "        outputs = self.model(X)\n",
    "        probs = F.sigmoid(outputs)\n",
    "        return probs\n",
    "    \n",
    "    def training_step(self, batch, batch_idx):\n",
    "        X, y = batch\n",
    "        outputs = self.model(X)\n",
    "        train_loss = self.criterion(outputs, y.float())\n",
    "        preds = self.forward(X)\n",
    "        self.train_accuracy(preds, y)\n",
    "        self.train_precision(preds, y)\n",
    "        self.train_recall(preds, y)\n",
    "        self.train_f1(preds, y)\n",
    "        self.log(\"train_loss\", train_loss, on_epoch=True)\n",
    "        self.log('train_accuracy', self.train_accuracy, on_epoch=True)\n",
    "        self.log('train_precision', self.train_precision, on_epoch=True)\n",
    "        self.log('train_recall', self.train_recall, on_epoch=True)\n",
    "        self.log('train_f1', self.train_f1, on_epoch=True)\n",
    "        return train_loss\n",
    "    \n",
    "    def validation_step(self, batch, batch_idx):\n",
    "        X, y = batch\n",
    "        outputs = self.model(X)\n",
    "        val_loss = self.criterion(outputs, y.float())\n",
    "        preds = self.forward(X)\n",
    "        self.val_accuracy(preds, y)\n",
    "        self.val_precision(preds, y)\n",
    "        self.val_recall(preds, y)\n",
    "        self.val_f1(preds, y)\n",
    "        self.log(\"val_loss\", val_loss, on_epoch=True)\n",
    "        self.log('val_accuracy', self.val_accuracy, on_epoch=True)\n",
    "        self.log('val_precision', self.val_precision, on_epoch=True)\n",
    "        self.log('val_recall', self.val_recall, on_epoch=True)\n",
    "        self.log('val_f1', self.val_f1, on_epoch=True)\n",
    "        return val_loss\n",
    "\n",
    "    def configure_optimizers(self):\n",
    "        optimizer = Adam(self.parameters(), lr=self.learning_rate)\n",
    "        return optimizer"
   ]
  },
  {
   "cell_type": "code",
   "execution_count": 7,
   "metadata": {},
   "outputs": [],
   "source": [
    "# from relation_modeling_utils import load_data, HeadDataset\n",
    "\n",
    "# train_df = load_data(\"data/atomic2020_data-feb2021/train.tsv\", multi_label=True)\n",
    "# dev_df = load_data(\"data/atomic2020_data-feb2021/dev.tsv\", multi_label=True)\n",
    "# train_data = HeadDataset(train_df, vocab=VOCAB)\n",
    "# val_data = HeadDataset(dev_df, vocab=VOCAB)"
   ]
  },
  {
   "cell_type": "code",
   "execution_count": 8,
   "metadata": {},
   "outputs": [],
   "source": [
    "# torch.save(train_data, \"data/head_train_multi_with_pad.pt\")\n",
    "# torch.save(val_data, \"data/head_val_multi_with_pad.pt\")"
   ]
  },
  {
   "cell_type": "code",
   "execution_count": 7,
   "metadata": {},
   "outputs": [
    {
     "data": {
      "text/plain": [
       "(400002, 100)"
      ]
     },
     "execution_count": 7,
     "metadata": {},
     "output_type": "execute_result"
    }
   ],
   "source": [
    "EMBEDDING_MATRIX.shape"
   ]
  },
  {
   "cell_type": "code",
   "execution_count": 4,
   "metadata": {},
   "outputs": [],
   "source": [
    "train_data = torch.load(\"data/head_train_multi_with_pad.pt\")\n",
    "val_data = torch.load(\"data/head_val_multi_with_pad.pt\")"
   ]
  },
  {
   "cell_type": "code",
   "execution_count": 5,
   "metadata": {},
   "outputs": [],
   "source": [
    "train_dataloader = DataLoader(train_data, batch_size=128, shuffle=True)\n",
    "val_dataloader = DataLoader(val_data, batch_size=128)"
   ]
  },
  {
   "cell_type": "code",
   "execution_count": 7,
   "metadata": {},
   "outputs": [
    {
     "name": "stderr",
     "output_type": "stream",
     "text": [
      "GPU available: True, used: True\n",
      "TPU available: False, using: 0 TPU cores\n",
      "IPU available: False, using: 0 IPUs\n",
      "LOCAL_RANK: 0 - CUDA_VISIBLE_DEVICES: [0,1]\n"
     ]
    },
    {
     "data": {
      "text/html": [
       "Tracking run with wandb version 0.12.11"
      ],
      "text/plain": [
       "<IPython.core.display.HTML object>"
      ]
     },
     "metadata": {},
     "output_type": "display_data"
    },
    {
     "data": {
      "text/html": [
       "Run data is saved locally in <code>/root/kogito/examples/wandb/run-20220330_010440-1z7x3hsv</code>"
      ],
      "text/plain": [
       "<IPython.core.display.HTML object>"
      ]
     },
     "metadata": {},
     "output_type": "display_data"
    },
    {
     "data": {
      "text/html": [
       "Syncing run <strong><a href=\"https://wandb.ai/mismayil/kogito-relation-matcher/runs/1z7x3hsv\" target=\"_blank\">swem_multi_label_finetune_max</a></strong> to <a href=\"https://wandb.ai/mismayil/kogito-relation-matcher\" target=\"_blank\">Weights & Biases</a> (<a href=\"https://wandb.me/run\" target=\"_blank\">docs</a>)<br/>"
      ],
      "text/plain": [
       "<IPython.core.display.HTML object>"
      ]
     },
     "metadata": {},
     "output_type": "display_data"
    },
    {
     "name": "stderr",
     "output_type": "stream",
     "text": [
      "\n",
      "   | Name            | Type              | Params\n",
      "-------------------------------------------------------\n",
      "0  | embedding       | Embedding         | 40.0 M\n",
      "1  | pool            | MaxPool           | 0     \n",
      "2  | linear          | Linear            | 303   \n",
      "3  | model           | Sequential        | 40.0 M\n",
      "4  | criterion       | BCEWithLogitsLoss | 0     \n",
      "5  | train_accuracy  | Accuracy          | 0     \n",
      "6  | val_accuracy    | Accuracy          | 0     \n",
      "7  | train_precision | Precision         | 0     \n",
      "8  | val_precision   | Precision         | 0     \n",
      "9  | train_recall    | Recall            | 0     \n",
      "10 | val_recall      | Recall            | 0     \n",
      "11 | train_f1        | F1Score           | 0     \n",
      "12 | val_f1          | F1Score           | 0     \n",
      "-------------------------------------------------------\n",
      "40.0 M    Trainable params\n",
      "0         Non-trainable params\n",
      "40.0 M    Total params\n",
      "160.002   Total estimated model params size (MB)\n"
     ]
    },
    {
     "name": "stdout",
     "output_type": "stream",
     "text": [
      "                                                              "
     ]
    },
    {
     "name": "stderr",
     "output_type": "stream",
     "text": [
      "/root/.conda/envs/kogito/lib/python3.8/site-packages/pytorch_lightning/trainer/data_loading.py:132: UserWarning: The dataloader, val_dataloader 0, does not have many workers which may be a bottleneck. Consider increasing the value of the `num_workers` argument` (try 48 which is the number of cpus on this machine) in the `DataLoader` init to improve performance.\n",
      "  rank_zero_warn(\n",
      "/root/.conda/envs/kogito/lib/python3.8/site-packages/torch/nn/functional.py:1944: UserWarning: nn.functional.sigmoid is deprecated. Use torch.sigmoid instead.\n",
      "  warnings.warn(\"nn.functional.sigmoid is deprecated. Use torch.sigmoid instead.\")\n",
      "/root/.conda/envs/kogito/lib/python3.8/site-packages/pytorch_lightning/trainer/data_loading.py:132: UserWarning: The dataloader, train_dataloader, does not have many workers which may be a bottleneck. Consider increasing the value of the `num_workers` argument` (try 48 which is the number of cpus on this machine) in the `DataLoader` init to improve performance.\n",
      "  rank_zero_warn(\n"
     ]
    },
    {
     "name": "stdout",
     "output_type": "stream",
     "text": [
      "Epoch 19: 100%|██████████| 313/313 [00:09<00:00, 31.38it/s, loss=0.197, v_num=3hsv]\n",
      "\n"
     ]
    },
    {
     "data": {
      "text/html": [
       "Waiting for W&B process to finish... <strong style=\"color:green\">(success).</strong>"
      ],
      "text/plain": [
       "<IPython.core.display.HTML object>"
      ]
     },
     "metadata": {},
     "output_type": "display_data"
    },
    {
     "data": {
      "text/html": [
       "<style>\n",
       "    table.wandb td:nth-child(1) { padding: 0 10px; text-align: right }\n",
       "    .wandb-row { display: flex; flex-direction: row; flex-wrap: wrap; width: 100% }\n",
       "    .wandb-col { display: flex; flex-direction: column; flex-basis: 100%; flex: 1; padding: 10px; }\n",
       "    </style>\n",
       "<div class=\"wandb-row\"><div class=\"wandb-col\"><h3>Run history:</h3><br/><table class=\"wandb\"><tr><td>epoch</td><td>▁▁▁▁▂▂▂▂▂▂▃▃▃▃▄▄▄▄▄▄▅▅▅▅▅▅▆▆▆▆▇▇▇▇▇▇████</td></tr><tr><td>train_accuracy_epoch</td><td>▁▂▄▅▆▇▇▇████████████</td></tr><tr><td>train_accuracy_step</td><td>▁▁▂▃▃▃▄▆▆▆▇▇▇▇▇▇██▇██▇█▇███▇▇████▇███▇█▇</td></tr><tr><td>train_f1_epoch</td><td>▁▃▄▆▆▇▇█████████████</td></tr><tr><td>train_f1_step</td><td>▁▂▂▄▄▄▄▇▆▇▇▇██▇▇███████████▇█████▇█████▇</td></tr><tr><td>train_loss_epoch</td><td>█▇▇▆▅▄▄▃▃▂▂▂▂▂▁▁▁▁▁▁</td></tr><tr><td>train_loss_step</td><td>██▇▇▇▇▆▅▅▅▄▄▃▃▄▃▃▃▃▂▂▂▂▂▂▂▂▂▂▂▁▁▁▂▂▁▁▂▁▃</td></tr><tr><td>train_precision_epoch</td><td>▁▃▄▅▆▇▇▇████████████</td></tr><tr><td>train_precision_step</td><td>▁▃▃▄▄▄▄▇▆▇▇▇▇▇▇▇██▇███▇██▇▇▇▇███▇▇▇▇█▇█▆</td></tr><tr><td>train_recall_epoch</td><td>▁▄▅▆▆▇▇▇▇███████████</td></tr><tr><td>train_recall_step</td><td>▁▃▄▅▅▅▅▆▆▇▇▇▇▇▇▇▇▇▇▇▇▇█▇▇██▇█████▇███▇▇▇</td></tr><tr><td>trainer/global_step</td><td>▁▁▁▁▂▂▂▂▂▃▃▃▃▃▃▄▄▄▄▄▄▅▅▅▅▅▆▆▆▆▆▇▇▇▇▇▇███</td></tr><tr><td>val_accuracy</td><td>▁▃▅▆▆▇▇▇▇▇▇█████████</td></tr><tr><td>val_f1</td><td>▁▄▅▆▇▇▇▇▇▇██████████</td></tr><tr><td>val_loss</td><td>█▇▆▅▄▃▃▂▂▂▂▁▁▁▁▁▁▁▁▁</td></tr><tr><td>val_precision</td><td>▁▃▅▆▇▇▇▇████████████</td></tr><tr><td>val_recall</td><td>▁▄▅▆▆▆▆▇▇▇▇▇▇▇██████</td></tr></table><br/></div><div class=\"wandb-col\"><h3>Run summary:</h3><br/><table class=\"wandb\"><tr><td>epoch</td><td>19</td></tr><tr><td>train_accuracy_epoch</td><td>0.92917</td></tr><tr><td>train_accuracy_step</td><td>0.86979</td></tr><tr><td>train_f1_epoch</td><td>0.93067</td></tr><tr><td>train_f1_step</td><td>0.87121</td></tr><tr><td>train_loss_epoch</td><td>0.20589</td></tr><tr><td>train_loss_step</td><td>0.31938</td></tr><tr><td>train_precision_epoch</td><td>0.90333</td></tr><tr><td>train_precision_step</td><td>0.84809</td></tr><tr><td>train_recall_epoch</td><td>0.961</td></tr><tr><td>train_recall_step</td><td>0.8984</td></tr><tr><td>trainer/global_step</td><td>5779</td></tr><tr><td>val_accuracy</td><td>0.90299</td></tr><tr><td>val_f1</td><td>0.91668</td></tr><tr><td>val_loss</td><td>0.31006</td></tr><tr><td>val_precision</td><td>0.86092</td></tr><tr><td>val_recall</td><td>0.98072</td></tr></table><br/></div></div>"
      ],
      "text/plain": [
       "<IPython.core.display.HTML object>"
      ]
     },
     "metadata": {},
     "output_type": "display_data"
    },
    {
     "data": {
      "text/html": [
       "Synced <strong style=\"color:#cdcd00\">swem_multi_label_finetune_max</strong>: <a href=\"https://wandb.ai/mismayil/kogito-relation-matcher/runs/1z7x3hsv\" target=\"_blank\">https://wandb.ai/mismayil/kogito-relation-matcher/runs/1z7x3hsv</a><br/>Synced 6 W&B file(s), 0 media file(s), 0 artifact file(s) and 0 other file(s)"
      ],
      "text/plain": [
       "<IPython.core.display.HTML object>"
      ]
     },
     "metadata": {},
     "output_type": "display_data"
    },
    {
     "data": {
      "text/html": [
       "Find logs at: <code>./wandb/run-20220330_010440-1z7x3hsv/logs</code>"
      ],
      "text/plain": [
       "<IPython.core.display.HTML object>"
      ]
     },
     "metadata": {},
     "output_type": "display_data"
    }
   ],
   "source": [
    "from pytorch_lightning.loggers import WandbLogger\n",
    "import wandb\n",
    "\n",
    "wandb_logger = WandbLogger(project=\"kogito-relation-matcher\", name=\"swem_multi_label_finetune_max\")\n",
    "model = SWEMMultiClassifier(pooling=\"max\", freeze_emb=False, learning_rate=1e-4)\n",
    "trainer = pl.Trainer(max_epochs=20, logger=wandb_logger, accelerator=\"gpu\", devices=1)\n",
    "trainer.fit(model, train_dataloaders=train_dataloader, val_dataloaders=val_dataloader)\n",
    "wandb.finish()"
   ]
  },
  {
   "cell_type": "code",
   "execution_count": 8,
   "metadata": {},
   "outputs": [
    {
     "name": "stderr",
     "output_type": "stream",
     "text": [
      "GPU available: True, used: True\n",
      "TPU available: False, using: 0 TPU cores\n",
      "IPU available: False, using: 0 IPUs\n",
      "LOCAL_RANK: 0 - CUDA_VISIBLE_DEVICES: [0,1]\n"
     ]
    },
    {
     "data": {
      "text/html": [
       "Tracking run with wandb version 0.12.11"
      ],
      "text/plain": [
       "<IPython.core.display.HTML object>"
      ]
     },
     "metadata": {},
     "output_type": "display_data"
    },
    {
     "data": {
      "text/html": [
       "Run data is saved locally in <code>/root/kogito/examples/wandb/run-20220330_011249-3in8gvzf</code>"
      ],
      "text/plain": [
       "<IPython.core.display.HTML object>"
      ]
     },
     "metadata": {},
     "output_type": "display_data"
    },
    {
     "data": {
      "text/html": [
       "Syncing run <strong><a href=\"https://wandb.ai/mismayil/kogito-relation-matcher/runs/3in8gvzf\" target=\"_blank\">swem_multi_label_finetune</a></strong> to <a href=\"https://wandb.ai/mismayil/kogito-relation-matcher\" target=\"_blank\">Weights & Biases</a> (<a href=\"https://wandb.me/run\" target=\"_blank\">docs</a>)<br/>"
      ],
      "text/plain": [
       "<IPython.core.display.HTML object>"
      ]
     },
     "metadata": {},
     "output_type": "display_data"
    },
    {
     "name": "stderr",
     "output_type": "stream",
     "text": [
      "\n",
      "   | Name            | Type              | Params\n",
      "-------------------------------------------------------\n",
      "0  | embedding       | Embedding         | 40.0 M\n",
      "1  | pool            | AvgPool           | 0     \n",
      "2  | linear          | Linear            | 303   \n",
      "3  | model           | Sequential        | 40.0 M\n",
      "4  | criterion       | BCEWithLogitsLoss | 0     \n",
      "5  | train_accuracy  | Accuracy          | 0     \n",
      "6  | val_accuracy    | Accuracy          | 0     \n",
      "7  | train_precision | Precision         | 0     \n",
      "8  | val_precision   | Precision         | 0     \n",
      "9  | train_recall    | Recall            | 0     \n",
      "10 | val_recall      | Recall            | 0     \n",
      "11 | train_f1        | F1Score           | 0     \n",
      "12 | val_f1          | F1Score           | 0     \n",
      "-------------------------------------------------------\n",
      "40.0 M    Trainable params\n",
      "0         Non-trainable params\n",
      "40.0 M    Total params\n",
      "160.002   Total estimated model params size (MB)\n"
     ]
    },
    {
     "name": "stdout",
     "output_type": "stream",
     "text": [
      "                                                              "
     ]
    },
    {
     "name": "stderr",
     "output_type": "stream",
     "text": [
      "/root/.conda/envs/kogito/lib/python3.8/site-packages/pytorch_lightning/trainer/data_loading.py:132: UserWarning: The dataloader, val_dataloader 0, does not have many workers which may be a bottleneck. Consider increasing the value of the `num_workers` argument` (try 48 which is the number of cpus on this machine) in the `DataLoader` init to improve performance.\n",
      "  rank_zero_warn(\n",
      "/root/.conda/envs/kogito/lib/python3.8/site-packages/torch/nn/functional.py:1944: UserWarning: nn.functional.sigmoid is deprecated. Use torch.sigmoid instead.\n",
      "  warnings.warn(\"nn.functional.sigmoid is deprecated. Use torch.sigmoid instead.\")\n",
      "/root/.conda/envs/kogito/lib/python3.8/site-packages/pytorch_lightning/trainer/data_loading.py:132: UserWarning: The dataloader, train_dataloader, does not have many workers which may be a bottleneck. Consider increasing the value of the `num_workers` argument` (try 48 which is the number of cpus on this machine) in the `DataLoader` init to improve performance.\n",
      "  rank_zero_warn(\n"
     ]
    },
    {
     "name": "stdout",
     "output_type": "stream",
     "text": [
      "Epoch 19: 100%|██████████| 313/313 [00:09<00:00, 31.90it/s, loss=0.254, v_num=gvzf]\n",
      "\n"
     ]
    },
    {
     "data": {
      "text/html": [
       "Waiting for W&B process to finish... <strong style=\"color:green\">(success).</strong>"
      ],
      "text/plain": [
       "<IPython.core.display.HTML object>"
      ]
     },
     "metadata": {},
     "output_type": "display_data"
    },
    {
     "data": {
      "text/html": [
       "<style>\n",
       "    table.wandb td:nth-child(1) { padding: 0 10px; text-align: right }\n",
       "    .wandb-row { display: flex; flex-direction: row; flex-wrap: wrap; width: 100% }\n",
       "    .wandb-col { display: flex; flex-direction: column; flex-basis: 100%; flex: 1; padding: 10px; }\n",
       "    </style>\n",
       "<div class=\"wandb-row\"><div class=\"wandb-col\"><h3>Run history:</h3><br/><table class=\"wandb\"><tr><td>epoch</td><td>▁▁▁▁▂▂▂▂▂▂▃▃▃▃▄▄▄▄▄▄▅▅▅▅▅▅▆▆▆▆▇▇▇▇▇▇████</td></tr><tr><td>train_accuracy_epoch</td><td>▁▄▆▇▇▇▇▇▇███████████</td></tr><tr><td>train_accuracy_step</td><td>▁▄▃▄▆▇▆▇▇▇▇▇▇▇█▇▇▇▇▇█▇▇▇▇██▇█▇█▇█▇███▇█▇</td></tr><tr><td>train_f1_epoch</td><td>▁▁▆▇▇▇▇▇▇▇██████████</td></tr><tr><td>train_f1_step</td><td>▂▄▁▂▅▇▆▇▆▇▇▇▇▇█▇▇▇▇▇█▇▇▇▇██▇▇▇███▇███▇█▇</td></tr><tr><td>train_loss_epoch</td><td>█▇▇▆▅▄▄▃▃▃▂▂▂▂▂▁▁▁▁▁</td></tr><tr><td>train_loss_step</td><td>███▇▇▆▆▆▅▅▅▄▄▄▃▄▄▃▃▄▂▃▃▂▂▂▂▂▂▂▁▂▁▂▁▂▁▂▁▁</td></tr><tr><td>train_precision_epoch</td><td>▁▆██████████████████</td></tr><tr><td>train_precision_step</td><td>▁▃▅▆▇█▆▇▇▇▇▇███▇▇█▇▆█▇▇▇▇██▇█▇███▇█████▇</td></tr><tr><td>train_recall_epoch</td><td>▂▁▄▅▅▆▆▆▇▇▇▇▇███████</td></tr><tr><td>train_recall_step</td><td>▄▄▁▂▄▅▅▇▅▆▆▆▆▆▇▆▅▆▇▇▇▇▇▇▇██▇▇▇▇▇▇▇███▇██</td></tr><tr><td>trainer/global_step</td><td>▁▁▁▁▂▂▂▂▂▃▃▃▃▃▃▄▄▄▄▄▄▅▅▅▅▅▆▆▆▆▆▇▇▇▇▇▇███</td></tr><tr><td>val_accuracy</td><td>▁▃▅▅▆▆▇▇▇▇▇█████████</td></tr><tr><td>val_f1</td><td>▁▃▅▆▆▇▇▇▇▇██████████</td></tr><tr><td>val_loss</td><td>█▆▅▃▂▂▁▁▁▁▁▁▁▁▁▂▂▂▂▂</td></tr><tr><td>val_precision</td><td>▁▆▇▇▇███████████████</td></tr><tr><td>val_recall</td><td>▁▁▂▃▄▅▆▆▇▇▇▇████████</td></tr></table><br/></div><div class=\"wandb-col\"><h3>Run summary:</h3><br/><table class=\"wandb\"><tr><td>epoch</td><td>19</td></tr><tr><td>train_accuracy_epoch</td><td>0.92056</td></tr><tr><td>train_accuracy_step</td><td>0.90885</td></tr><tr><td>train_f1_epoch</td><td>0.92108</td></tr><tr><td>train_f1_step</td><td>0.91215</td></tr><tr><td>train_loss_epoch</td><td>0.24995</td></tr><tr><td>train_loss_step</td><td>0.24224</td></tr><tr><td>train_precision_epoch</td><td>0.89904</td></tr><tr><td>train_precision_step</td><td>0.88313</td></tr><tr><td>train_recall_epoch</td><td>0.94461</td></tr><tr><td>train_recall_step</td><td>0.94944</td></tr><tr><td>trainer/global_step</td><td>5779</td></tr><tr><td>val_accuracy</td><td>0.90659</td></tr><tr><td>val_f1</td><td>0.92017</td></tr><tr><td>val_loss</td><td>0.43469</td></tr><tr><td>val_precision</td><td>0.86061</td></tr><tr><td>val_recall</td><td>0.98922</td></tr></table><br/></div></div>"
      ],
      "text/plain": [
       "<IPython.core.display.HTML object>"
      ]
     },
     "metadata": {},
     "output_type": "display_data"
    },
    {
     "data": {
      "text/html": [
       "Synced <strong style=\"color:#cdcd00\">swem_multi_label_finetune</strong>: <a href=\"https://wandb.ai/mismayil/kogito-relation-matcher/runs/3in8gvzf\" target=\"_blank\">https://wandb.ai/mismayil/kogito-relation-matcher/runs/3in8gvzf</a><br/>Synced 6 W&B file(s), 0 media file(s), 0 artifact file(s) and 0 other file(s)"
      ],
      "text/plain": [
       "<IPython.core.display.HTML object>"
      ]
     },
     "metadata": {},
     "output_type": "display_data"
    },
    {
     "data": {
      "text/html": [
       "Find logs at: <code>./wandb/run-20220330_011249-3in8gvzf/logs</code>"
      ],
      "text/plain": [
       "<IPython.core.display.HTML object>"
      ]
     },
     "metadata": {},
     "output_type": "display_data"
    }
   ],
   "source": [
    "from pytorch_lightning.loggers import WandbLogger\n",
    "import wandb\n",
    "\n",
    "wandb_logger = WandbLogger(project=\"kogito-relation-matcher\", name=\"swem_multi_label_finetune\")\n",
    "model = SWEMMultiClassifier(pooling=\"avg\", freeze_emb=False, learning_rate=1e-4)\n",
    "trainer = pl.Trainer(max_epochs=20, logger=wandb_logger, accelerator=\"gpu\", devices=1)\n",
    "trainer.fit(model, train_dataloaders=train_dataloader, val_dataloaders=val_dataloader)\n",
    "wandb.finish()"
   ]
  },
  {
   "cell_type": "code",
   "execution_count": null,
   "metadata": {},
   "outputs": [],
   "source": [
    "torch.save(model, \"models/swem_multi_label_finetune_model.bin\")"
   ]
  },
  {
   "cell_type": "code",
   "execution_count": 8,
   "metadata": {},
   "outputs": [],
   "source": [
    "from relation_modeling_utils import load_data, HeadDataset\n",
    "from torch.utils.data import DataLoader\n",
    "\n",
    "test_df = load_data(\"data/atomic2020_data-feb2021/test.tsv\", multi_label=True)\n",
    "test_data = HeadDataset(test_df, vocab=VOCAB)\n",
    "test_dataloader = DataLoader(test_data, batch_size=len(test_data))"
   ]
  },
  {
   "cell_type": "code",
   "execution_count": 9,
   "metadata": {},
   "outputs": [
    {
     "data": {
      "text/html": [
       "<div>\n",
       "<style scoped>\n",
       "    .dataframe tbody tr th:only-of-type {\n",
       "        vertical-align: middle;\n",
       "    }\n",
       "\n",
       "    .dataframe tbody tr th {\n",
       "        vertical-align: top;\n",
       "    }\n",
       "\n",
       "    .dataframe thead th {\n",
       "        text-align: right;\n",
       "    }\n",
       "</style>\n",
       "<table border=\"1\" class=\"dataframe\">\n",
       "  <thead>\n",
       "    <tr style=\"text-align: right;\">\n",
       "      <th></th>\n",
       "      <th>text</th>\n",
       "      <th>label</th>\n",
       "    </tr>\n",
       "  </thead>\n",
       "  <tbody>\n",
       "    <tr>\n",
       "      <th>0</th>\n",
       "      <td>PersonX abuses PersonX's power</td>\n",
       "      <td>[0, 1, 1]</td>\n",
       "    </tr>\n",
       "    <tr>\n",
       "      <th>1</th>\n",
       "      <td>PersonX accepts PersonY's apology</td>\n",
       "      <td>[0, 1, 1]</td>\n",
       "    </tr>\n",
       "    <tr>\n",
       "      <th>2</th>\n",
       "      <td>PersonX accepts ___ in payment</td>\n",
       "      <td>[0, 1, 1]</td>\n",
       "    </tr>\n",
       "    <tr>\n",
       "      <th>3</th>\n",
       "      <td>PersonX accidentally kicked</td>\n",
       "      <td>[0, 1, 1]</td>\n",
       "    </tr>\n",
       "    <tr>\n",
       "      <th>4</th>\n",
       "      <td>PersonX accidentally kicked ___</td>\n",
       "      <td>[0, 1, 1]</td>\n",
       "    </tr>\n",
       "  </tbody>\n",
       "</table>\n",
       "</div>"
      ],
      "text/plain": [
       "                                text      label\n",
       "0     PersonX abuses PersonX's power  [0, 1, 1]\n",
       "1  PersonX accepts PersonY's apology  [0, 1, 1]\n",
       "2     PersonX accepts ___ in payment  [0, 1, 1]\n",
       "3        PersonX accidentally kicked  [0, 1, 1]\n",
       "4    PersonX accidentally kicked ___  [0, 1, 1]"
      ]
     },
     "execution_count": 9,
     "metadata": {},
     "output_type": "execute_result"
    }
   ],
   "source": [
    "test_df.head()"
   ]
  },
  {
   "cell_type": "code",
   "execution_count": 10,
   "metadata": {},
   "outputs": [
    {
     "data": {
      "text/plain": [
       "(6569, 6569)"
      ]
     },
     "execution_count": 10,
     "metadata": {},
     "output_type": "execute_result"
    }
   ],
   "source": [
    "len(test_data.texts), len(test_df)"
   ]
  },
  {
   "cell_type": "code",
   "execution_count": 12,
   "metadata": {},
   "outputs": [
    {
     "data": {
      "text/plain": [
       "4668"
      ]
     },
     "execution_count": 12,
     "metadata": {},
     "output_type": "execute_result"
    }
   ],
   "source": [
    "len(test_df[test_df.label.apply(lambda l: l[0]) == 0])"
   ]
  },
  {
   "cell_type": "code",
   "execution_count": 13,
   "metadata": {},
   "outputs": [],
   "source": [
    "import torch\n",
    "model = torch.load('models/swem_multi_label_finetune_model.bin')"
   ]
  },
  {
   "cell_type": "code",
   "execution_count": 6,
   "metadata": {},
   "outputs": [],
   "source": [
    "torch.save(model.state_dict(), \"models/swem_multi_label_finetune_state_dict.pth\")"
   ]
  },
  {
   "cell_type": "code",
   "execution_count": 14,
   "metadata": {},
   "outputs": [
    {
     "name": "stderr",
     "output_type": "stream",
     "text": [
      "/Users/mismayil/opt/anaconda3/envs/kogito/lib/python3.8/site-packages/torch/nn/functional.py:1944: UserWarning: nn.functional.sigmoid is deprecated. Use torch.sigmoid instead.\n",
      "  warnings.warn(\"nn.functional.sigmoid is deprecated. Use torch.sigmoid instead.\")\n"
     ]
    }
   ],
   "source": [
    "X, y = next(iter(test_dataloader))\n",
    "preds = model.forward(X)"
   ]
  },
  {
   "cell_type": "code",
   "execution_count": 15,
   "metadata": {},
   "outputs": [
    {
     "name": "stdout",
     "output_type": "stream",
     "text": [
      "Test accurayc=0.860, precision=0.829, recall=0.961, f1=0.878\n"
     ]
    }
   ],
   "source": [
    "import torchmetrics\n",
    "test_accuracy = torchmetrics.Accuracy()\n",
    "test_precision = torchmetrics.Precision(num_classes=3, average=\"weighted\")\n",
    "test_recall = torchmetrics.Recall(num_classes=3, average=\"weighted\")\n",
    "test_f1 = torchmetrics.F1Score(num_classes=3, average=\"weighted\")\n",
    "print(f'Test accurayc={test_accuracy(preds, y).item():.3f}, precision={test_precision(preds, y).item():.3f}, recall={test_recall(preds, y).item():.3f}, f1={test_f1(preds, y).item():.3f}')"
   ]
  },
  {
   "cell_type": "code",
   "execution_count": 16,
   "metadata": {},
   "outputs": [
    {
     "data": {
      "text/plain": [
       "tensor([[[4564,  104],\n",
       "         [  27, 1874]],\n",
       "\n",
       "        [[1896,  254],\n",
       "         [ 230, 4189]],\n",
       "\n",
       "        [[1935, 2061],\n",
       "         [  87, 2486]]])"
      ]
     },
     "execution_count": 16,
     "metadata": {},
     "output_type": "execute_result"
    }
   ],
   "source": [
    "test_confusion = torchmetrics.ConfusionMatrix(num_classes=3, multilabel=True)\n",
    "confusion_matrix = test_confusion(preds, y)\n",
    "confusion_matrix"
   ]
  },
  {
   "cell_type": "code",
   "execution_count": 17,
   "metadata": {},
   "outputs": [],
   "source": [
    "import pandas as pd\n",
    "pred_df = pd.DataFrame({'texts': test_data.texts, 'labels': test_data.labels.tolist(), 'probs': preds.detach().tolist()})\n",
    "pred_df['preds'] = pred_df.probs.apply(lambda p: (np.array(p) >= 0.5).astype(int).tolist())"
   ]
  },
  {
   "cell_type": "code",
   "execution_count": 18,
   "metadata": {},
   "outputs": [
    {
     "data": {
      "text/html": [
       "<div>\n",
       "<style scoped>\n",
       "    .dataframe tbody tr th:only-of-type {\n",
       "        vertical-align: middle;\n",
       "    }\n",
       "\n",
       "    .dataframe tbody tr th {\n",
       "        vertical-align: top;\n",
       "    }\n",
       "\n",
       "    .dataframe thead th {\n",
       "        text-align: right;\n",
       "    }\n",
       "</style>\n",
       "<table border=\"1\" class=\"dataframe\">\n",
       "  <thead>\n",
       "    <tr style=\"text-align: right;\">\n",
       "      <th></th>\n",
       "      <th>texts</th>\n",
       "      <th>labels</th>\n",
       "      <th>probs</th>\n",
       "      <th>preds</th>\n",
       "    </tr>\n",
       "  </thead>\n",
       "  <tbody>\n",
       "    <tr>\n",
       "      <th>0</th>\n",
       "      <td>PersonX abuses PersonX's power</td>\n",
       "      <td>[0, 1, 1]</td>\n",
       "      <td>[0.007279202342033386, 0.8754659295082092, 0.9...</td>\n",
       "      <td>[0, 1, 1]</td>\n",
       "    </tr>\n",
       "    <tr>\n",
       "      <th>1</th>\n",
       "      <td>PersonX accepts PersonY's apology</td>\n",
       "      <td>[0, 1, 1]</td>\n",
       "      <td>[0.004542194306850433, 0.9169185161590576, 0.9...</td>\n",
       "      <td>[0, 1, 1]</td>\n",
       "    </tr>\n",
       "    <tr>\n",
       "      <th>2</th>\n",
       "      <td>PersonX accepts ___ in payment</td>\n",
       "      <td>[0, 1, 1]</td>\n",
       "      <td>[0.006188894622027874, 0.6897541880607605, 0.9...</td>\n",
       "      <td>[0, 1, 1]</td>\n",
       "    </tr>\n",
       "    <tr>\n",
       "      <th>3</th>\n",
       "      <td>PersonX accidentally kicked</td>\n",
       "      <td>[0, 1, 1]</td>\n",
       "      <td>[0.3949142396450043, 0.4427388310432434, 0.498...</td>\n",
       "      <td>[0, 0, 0]</td>\n",
       "    </tr>\n",
       "    <tr>\n",
       "      <th>4</th>\n",
       "      <td>PersonX accidentally kicked ___</td>\n",
       "      <td>[0, 1, 1]</td>\n",
       "      <td>[0.01818978600203991, 0.6005459427833557, 0.95...</td>\n",
       "      <td>[0, 1, 1]</td>\n",
       "    </tr>\n",
       "  </tbody>\n",
       "</table>\n",
       "</div>"
      ],
      "text/plain": [
       "                               texts     labels  \\\n",
       "0     PersonX abuses PersonX's power  [0, 1, 1]   \n",
       "1  PersonX accepts PersonY's apology  [0, 1, 1]   \n",
       "2     PersonX accepts ___ in payment  [0, 1, 1]   \n",
       "3        PersonX accidentally kicked  [0, 1, 1]   \n",
       "4    PersonX accidentally kicked ___  [0, 1, 1]   \n",
       "\n",
       "                                               probs      preds  \n",
       "0  [0.007279202342033386, 0.8754659295082092, 0.9...  [0, 1, 1]  \n",
       "1  [0.004542194306850433, 0.9169185161590576, 0.9...  [0, 1, 1]  \n",
       "2  [0.006188894622027874, 0.6897541880607605, 0.9...  [0, 1, 1]  \n",
       "3  [0.3949142396450043, 0.4427388310432434, 0.498...  [0, 0, 0]  \n",
       "4  [0.01818978600203991, 0.6005459427833557, 0.95...  [0, 1, 1]  "
      ]
     },
     "execution_count": 18,
     "metadata": {},
     "output_type": "execute_result"
    }
   ],
   "source": [
    "pred_df.head()"
   ]
  },
  {
   "cell_type": "code",
   "execution_count": 19,
   "metadata": {},
   "outputs": [],
   "source": [
    "pred_df['matches'] = pred_df.apply(lambda row: (np.array(row.labels) * np.array(row.preds)).sum().tolist(), axis=1)"
   ]
  },
  {
   "cell_type": "code",
   "execution_count": 23,
   "metadata": {},
   "outputs": [],
   "source": [
    "pred_df['label_0'] = pred_df.labels.apply(lambda l: l[0])\n",
    "pred_df['label_1'] = pred_df.labels.apply(lambda l: l[1])\n",
    "pred_df['label_2'] = pred_df.labels.apply(lambda l: l[2])\n",
    "pred_df['pred_0'] = pred_df.preds.apply(lambda p: p[0])\n",
    "pred_df['pred_1'] = pred_df.preds.apply(lambda p: p[1])\n",
    "pred_df['pred_2'] = pred_df.preds.apply(lambda p: p[2])"
   ]
  },
  {
   "cell_type": "code",
   "execution_count": 24,
   "metadata": {},
   "outputs": [
    {
     "data": {
      "text/html": [
       "<div>\n",
       "<style scoped>\n",
       "    .dataframe tbody tr th:only-of-type {\n",
       "        vertical-align: middle;\n",
       "    }\n",
       "\n",
       "    .dataframe tbody tr th {\n",
       "        vertical-align: top;\n",
       "    }\n",
       "\n",
       "    .dataframe thead th {\n",
       "        text-align: right;\n",
       "    }\n",
       "</style>\n",
       "<table border=\"1\" class=\"dataframe\">\n",
       "  <thead>\n",
       "    <tr style=\"text-align: right;\">\n",
       "      <th></th>\n",
       "      <th>texts</th>\n",
       "      <th>labels</th>\n",
       "      <th>probs</th>\n",
       "      <th>preds</th>\n",
       "      <th>matches</th>\n",
       "      <th>label_0</th>\n",
       "      <th>label_1</th>\n",
       "      <th>label_2</th>\n",
       "      <th>pred_0</th>\n",
       "      <th>pred_1</th>\n",
       "      <th>pred_2</th>\n",
       "    </tr>\n",
       "  </thead>\n",
       "  <tbody>\n",
       "    <tr>\n",
       "      <th>0</th>\n",
       "      <td>PersonX abuses PersonX's power</td>\n",
       "      <td>[0, 1, 1]</td>\n",
       "      <td>[0.007279202342033386, 0.8754659295082092, 0.9...</td>\n",
       "      <td>[0, 1, 1]</td>\n",
       "      <td>2</td>\n",
       "      <td>0</td>\n",
       "      <td>1</td>\n",
       "      <td>1</td>\n",
       "      <td>0</td>\n",
       "      <td>1</td>\n",
       "      <td>1</td>\n",
       "    </tr>\n",
       "    <tr>\n",
       "      <th>1</th>\n",
       "      <td>PersonX accepts PersonY's apology</td>\n",
       "      <td>[0, 1, 1]</td>\n",
       "      <td>[0.004542194306850433, 0.9169185161590576, 0.9...</td>\n",
       "      <td>[0, 1, 1]</td>\n",
       "      <td>2</td>\n",
       "      <td>0</td>\n",
       "      <td>1</td>\n",
       "      <td>1</td>\n",
       "      <td>0</td>\n",
       "      <td>1</td>\n",
       "      <td>1</td>\n",
       "    </tr>\n",
       "    <tr>\n",
       "      <th>2</th>\n",
       "      <td>PersonX accepts ___ in payment</td>\n",
       "      <td>[0, 1, 1]</td>\n",
       "      <td>[0.006188894622027874, 0.6897541880607605, 0.9...</td>\n",
       "      <td>[0, 1, 1]</td>\n",
       "      <td>2</td>\n",
       "      <td>0</td>\n",
       "      <td>1</td>\n",
       "      <td>1</td>\n",
       "      <td>0</td>\n",
       "      <td>1</td>\n",
       "      <td>1</td>\n",
       "    </tr>\n",
       "    <tr>\n",
       "      <th>3</th>\n",
       "      <td>PersonX accidentally kicked</td>\n",
       "      <td>[0, 1, 1]</td>\n",
       "      <td>[0.3949142396450043, 0.4427388310432434, 0.498...</td>\n",
       "      <td>[0, 0, 0]</td>\n",
       "      <td>0</td>\n",
       "      <td>0</td>\n",
       "      <td>1</td>\n",
       "      <td>1</td>\n",
       "      <td>0</td>\n",
       "      <td>0</td>\n",
       "      <td>0</td>\n",
       "    </tr>\n",
       "    <tr>\n",
       "      <th>4</th>\n",
       "      <td>PersonX accidentally kicked ___</td>\n",
       "      <td>[0, 1, 1]</td>\n",
       "      <td>[0.01818978600203991, 0.6005459427833557, 0.95...</td>\n",
       "      <td>[0, 1, 1]</td>\n",
       "      <td>2</td>\n",
       "      <td>0</td>\n",
       "      <td>1</td>\n",
       "      <td>1</td>\n",
       "      <td>0</td>\n",
       "      <td>1</td>\n",
       "      <td>1</td>\n",
       "    </tr>\n",
       "  </tbody>\n",
       "</table>\n",
       "</div>"
      ],
      "text/plain": [
       "                               texts     labels  \\\n",
       "0     PersonX abuses PersonX's power  [0, 1, 1]   \n",
       "1  PersonX accepts PersonY's apology  [0, 1, 1]   \n",
       "2     PersonX accepts ___ in payment  [0, 1, 1]   \n",
       "3        PersonX accidentally kicked  [0, 1, 1]   \n",
       "4    PersonX accidentally kicked ___  [0, 1, 1]   \n",
       "\n",
       "                                               probs      preds  matches  \\\n",
       "0  [0.007279202342033386, 0.8754659295082092, 0.9...  [0, 1, 1]        2   \n",
       "1  [0.004542194306850433, 0.9169185161590576, 0.9...  [0, 1, 1]        2   \n",
       "2  [0.006188894622027874, 0.6897541880607605, 0.9...  [0, 1, 1]        2   \n",
       "3  [0.3949142396450043, 0.4427388310432434, 0.498...  [0, 0, 0]        0   \n",
       "4  [0.01818978600203991, 0.6005459427833557, 0.95...  [0, 1, 1]        2   \n",
       "\n",
       "   label_0  label_1  label_2  pred_0  pred_1  pred_2  \n",
       "0        0        1        1       0       1       1  \n",
       "1        0        1        1       0       1       1  \n",
       "2        0        1        1       0       1       1  \n",
       "3        0        1        1       0       0       0  \n",
       "4        0        1        1       0       1       1  "
      ]
     },
     "execution_count": 24,
     "metadata": {},
     "output_type": "execute_result"
    }
   ],
   "source": [
    "pred_df.head()"
   ]
  },
  {
   "cell_type": "code",
   "execution_count": 27,
   "metadata": {},
   "outputs": [
    {
     "data": {
      "text/plain": [
       "0.9936923823386705"
      ]
     },
     "execution_count": 27,
     "metadata": {},
     "output_type": "execute_result"
    }
   ],
   "source": [
    "# Percentage of confusions between class 2 and class 3\n",
    "len(pred_df[(pred_df.label_2 == 0) & (pred_df.pred_2 == 1) & (pred_df.label_1 == 1)]) / len(pred_df[(pred_df.label_2 == 0) & (pred_df.pred_2 == 1)])"
   ]
  },
  {
   "cell_type": "code",
   "execution_count": 28,
   "metadata": {},
   "outputs": [
    {
     "data": {
      "text/plain": [
       "0.006307617661329452"
      ]
     },
     "execution_count": 28,
     "metadata": {},
     "output_type": "execute_result"
    }
   ],
   "source": [
    "# Percentage of confusions between class 1 and class 3\n",
    "len(pred_df[(pred_df.label_2 == 0) & (pred_df.pred_2 == 1) & (pred_df.label_0 == 1)]) / len(pred_df[(pred_df.label_2 == 0) & (pred_df.pred_2 == 1)])"
   ]
  },
  {
   "cell_type": "code",
   "execution_count": 29,
   "metadata": {},
   "outputs": [
    {
     "data": {
      "text/plain": [
       "0.01968503937007874"
      ]
     },
     "execution_count": 29,
     "metadata": {},
     "output_type": "execute_result"
    }
   ],
   "source": [
    "# Percentage of confusions between class 1 and class 2\n",
    "len(pred_df[(pred_df.label_1 == 0) & (pred_df.pred_1 == 1) & (pred_df.label_0 == 1)]) / len(pred_df[(pred_df.label_1 == 0) & (pred_df.pred_1 == 1)])"
   ]
  },
  {
   "cell_type": "code",
   "execution_count": 15,
   "metadata": {},
   "outputs": [
    {
     "data": {
      "text/plain": [
       "201"
      ]
     },
     "execution_count": 15,
     "metadata": {},
     "output_type": "execute_result"
    }
   ],
   "source": [
    "# Number of total mistakes\n",
    "len(pred_df[pred_df['matches'] < 1])"
   ]
  },
  {
   "cell_type": "code",
   "execution_count": 16,
   "metadata": {},
   "outputs": [
    {
     "data": {
      "text/html": [
       "<div>\n",
       "<style scoped>\n",
       "    .dataframe tbody tr th:only-of-type {\n",
       "        vertical-align: middle;\n",
       "    }\n",
       "\n",
       "    .dataframe tbody tr th {\n",
       "        vertical-align: top;\n",
       "    }\n",
       "\n",
       "    .dataframe thead th {\n",
       "        text-align: right;\n",
       "    }\n",
       "</style>\n",
       "<table border=\"1\" class=\"dataframe\">\n",
       "  <thead>\n",
       "    <tr style=\"text-align: right;\">\n",
       "      <th></th>\n",
       "      <th>texts</th>\n",
       "      <th>labels</th>\n",
       "      <th>probs</th>\n",
       "      <th>preds</th>\n",
       "      <th>matches</th>\n",
       "    </tr>\n",
       "  </thead>\n",
       "  <tbody>\n",
       "    <tr>\n",
       "      <th>3</th>\n",
       "      <td>PersonX accidentally kicked</td>\n",
       "      <td>[0, 1, 1]</td>\n",
       "      <td>[0.3949142396450043, 0.4427388310432434, 0.498...</td>\n",
       "      <td>[0, 0, 0]</td>\n",
       "      <td>0</td>\n",
       "    </tr>\n",
       "    <tr>\n",
       "      <th>5</th>\n",
       "      <td>PersonX accidentally poured</td>\n",
       "      <td>[0, 1, 1]</td>\n",
       "      <td>[0.40726250410079956, 0.43522584438323975, 0.4...</td>\n",
       "      <td>[0, 0, 0]</td>\n",
       "      <td>0</td>\n",
       "    </tr>\n",
       "    <tr>\n",
       "      <th>126</th>\n",
       "      <td>PersonX blows bubbles</td>\n",
       "      <td>[0, 1, 1]</td>\n",
       "      <td>[0.4730721414089203, 0.4032168984413147, 0.456...</td>\n",
       "      <td>[0, 0, 0]</td>\n",
       "      <td>0</td>\n",
       "    </tr>\n",
       "    <tr>\n",
       "      <th>419</th>\n",
       "      <td>PersonX donates plasma</td>\n",
       "      <td>[0, 1, 1]</td>\n",
       "      <td>[0.5411490201950073, 0.3266826868057251, 0.371...</td>\n",
       "      <td>[1, 0, 0]</td>\n",
       "      <td>0</td>\n",
       "    </tr>\n",
       "    <tr>\n",
       "      <th>953</th>\n",
       "      <td>PersonX hats cats</td>\n",
       "      <td>[0, 1, 1]</td>\n",
       "      <td>[0.42976856231689453, 0.3377617299556732, 0.45...</td>\n",
       "      <td>[0, 0, 0]</td>\n",
       "      <td>0</td>\n",
       "    </tr>\n",
       "  </tbody>\n",
       "</table>\n",
       "</div>"
      ],
      "text/plain": [
       "                           texts     labels  \\\n",
       "3    PersonX accidentally kicked  [0, 1, 1]   \n",
       "5    PersonX accidentally poured  [0, 1, 1]   \n",
       "126        PersonX blows bubbles  [0, 1, 1]   \n",
       "419       PersonX donates plasma  [0, 1, 1]   \n",
       "953            PersonX hats cats  [0, 1, 1]   \n",
       "\n",
       "                                                 probs      preds  matches  \n",
       "3    [0.3949142396450043, 0.4427388310432434, 0.498...  [0, 0, 0]        0  \n",
       "5    [0.40726250410079956, 0.43522584438323975, 0.4...  [0, 0, 0]        0  \n",
       "126  [0.4730721414089203, 0.4032168984413147, 0.456...  [0, 0, 0]        0  \n",
       "419  [0.5411490201950073, 0.3266826868057251, 0.371...  [1, 0, 0]        0  \n",
       "953  [0.42976856231689453, 0.3377617299556732, 0.45...  [0, 0, 0]        0  "
      ]
     },
     "execution_count": 16,
     "metadata": {},
     "output_type": "execute_result"
    }
   ],
   "source": [
    "pred_df[pred_df['matches'] < 1].head()"
   ]
  },
  {
   "cell_type": "code",
   "execution_count": 19,
   "metadata": {},
   "outputs": [
    {
     "data": {
      "text/plain": [
       "44"
      ]
     },
     "execution_count": 19,
     "metadata": {},
     "output_type": "execute_result"
    }
   ],
   "source": [
    "# Number of no predictions\n",
    "len(pred_df[pred_df['preds'].apply(lambda p: np.sum(p)) == 0])"
   ]
  },
  {
   "cell_type": "code",
   "execution_count": 27,
   "metadata": {},
   "outputs": [
    {
     "data": {
      "text/plain": [
       "0.05584415584415584"
      ]
     },
     "execution_count": 27,
     "metadata": {},
     "output_type": "execute_result"
    }
   ],
   "source": [
    "# Percentage of cases with 2 labels but less than 2 predictions\n",
    "len(pred_df[(pred_df.labels.apply(lambda l: np.sum(l)) == 2) & (pred_df.matches < 2)]) / len(pred_df[pred_df.labels.apply(lambda l: np.sum(l)) == 2])"
   ]
  },
  {
   "cell_type": "code",
   "execution_count": 28,
   "metadata": {},
   "outputs": [
    {
     "data": {
      "text/plain": [
       "0.03506493506493506"
      ]
     },
     "execution_count": 28,
     "metadata": {},
     "output_type": "execute_result"
    }
   ],
   "source": [
    "# Percentage of cases with 2 labels but 1 prediction\n",
    "len(pred_df[(pred_df.labels.apply(lambda l: np.sum(l)) == 2) & (pred_df.matches == 1)]) / len(pred_df[pred_df.labels.apply(lambda l: np.sum(l)) == 2])"
   ]
  },
  {
   "cell_type": "code",
   "execution_count": 26,
   "metadata": {},
   "outputs": [
    {
     "data": {
      "text/plain": [
       "7"
      ]
     },
     "execution_count": 26,
     "metadata": {},
     "output_type": "execute_result"
    }
   ],
   "source": [
    "len(pred_df[pred_df.labels.apply(lambda l: np.sum(l)) == 3])"
   ]
  }
 ],
 "metadata": {
  "interpreter": {
   "hash": "7c3b128559c7e8fd624042ca8b6c93b33cd59aca7b58d05c9d4cd21ec1a84d35"
  },
  "kernelspec": {
   "display_name": "Python 3.8.12 ('kogito')",
   "language": "python",
   "name": "python3"
  },
  "language_info": {
   "codemirror_mode": {
    "name": "ipython",
    "version": 3
   },
   "file_extension": ".py",
   "mimetype": "text/x-python",
   "name": "python",
   "nbconvert_exporter": "python",
   "pygments_lexer": "ipython3",
   "version": "3.8.12"
  },
  "orig_nbformat": 4
 },
 "nbformat": 4,
 "nbformat_minor": 2
}
