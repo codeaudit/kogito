{
 "cells": [
  {
   "cell_type": "code",
   "execution_count": 1,
   "metadata": {},
   "outputs": [],
   "source": [
    "%load_ext autoreload\n",
    "%autoreload 2"
   ]
  },
  {
   "cell_type": "code",
   "execution_count": 2,
   "metadata": {},
   "outputs": [],
   "source": [
    "from relation_modeling_utils import load_data\n",
    "\n",
    "train_df = load_data(\"data/atomic2020_data-feb2021/train.tsv\", multi_label=True)\n",
    "val_df = load_data(\"data/atomic2020_data-feb2021/dev.tsv\", multi_label=True)\n",
    "test_df = load_data(\"data/atomic2020_data-feb2021/test.tsv\", multi_label=True)"
   ]
  },
  {
   "cell_type": "code",
   "execution_count": 3,
   "metadata": {},
   "outputs": [],
   "source": [
    "import pandas as pd\n",
    "\n",
    "atomic_df = pd.concat([train_df, val_df, test_df])"
   ]
  },
  {
   "cell_type": "code",
   "execution_count": 4,
   "metadata": {},
   "outputs": [
    {
     "data": {
      "text/plain": [
       "46471"
      ]
     },
     "execution_count": 4,
     "metadata": {},
     "output_type": "execute_result"
    }
   ],
   "source": [
    "len(atomic_df)"
   ]
  },
  {
   "cell_type": "code",
   "execution_count": 5,
   "metadata": {},
   "outputs": [
    {
     "data": {
      "text/plain": [
       "2513"
      ]
     },
     "execution_count": 5,
     "metadata": {},
     "output_type": "execute_result"
    }
   ],
   "source": [
    "atomic_df.duplicated(subset=[\"text\"]).sum()"
   ]
  },
  {
   "cell_type": "code",
   "execution_count": 6,
   "metadata": {},
   "outputs": [],
   "source": [
    "atomic_df = atomic_df.drop_duplicates(subset=[\"text\"])"
   ]
  },
  {
   "cell_type": "code",
   "execution_count": 7,
   "metadata": {},
   "outputs": [
    {
     "data": {
      "text/plain": [
       "43958"
      ]
     },
     "execution_count": 7,
     "metadata": {},
     "output_type": "execute_result"
    }
   ],
   "source": [
    "len(atomic_df)"
   ]
  },
  {
   "cell_type": "code",
   "execution_count": 20,
   "metadata": {},
   "outputs": [],
   "source": [
    "import spacy\n",
    "from collections import defaultdict\n",
    "from tqdm import tqdm\n",
    "from spacy.lang.en.stop_words import STOP_WORDS\n",
    "\n",
    "STOPWORDS = STOP_WORDS | set([\"PersonX\", \"PersonY\", \"PersonZ\", \"_\", \"'\", \"-\"])\n",
    "\n",
    "def build_doclist(data):\n",
    "    nlp = spacy.load(\"en_core_web_sm\", exclude=[\"ner\"])\n",
    "    doclist = []\n",
    "    vocab = defaultdict(int)\n",
    "\n",
    "    for row in tqdm(data.itertuples(), total=len(data)):\n",
    "        doc = nlp(row.text)\n",
    "        words = set()\n",
    "\n",
    "        for token in doc:\n",
    "            if token.text not in STOPWORDS:\n",
    "                vocab[token.lemma_] += 1\n",
    "                words.add(token.lemma_)\n",
    "        \n",
    "        doc.user_data['words'] = words\n",
    "        doc.user_data['label'] = row.label\n",
    "        doclist.append(doc)\n",
    "    \n",
    "    for doc in doclist:\n",
    "        freqs = 0\n",
    "        for word in doc.user_data['words']:\n",
    "            freqs += vocab.get(word, 0)\n",
    "        \n",
    "        doc.user_data['freqs'] = freqs\n",
    "        doc.user_data['freq_diff'] = abs(freqs - len(doc.user_data['words']))\n",
    "    \n",
    "    return doclist"
   ]
  },
  {
   "cell_type": "code",
   "execution_count": 21,
   "metadata": {},
   "outputs": [
    {
     "name": "stderr",
     "output_type": "stream",
     "text": [
      "100%|██████████| 43958/43958 [02:22<00:00, 308.47it/s]\n"
     ]
    }
   ],
   "source": [
    "atomic_doclist = build_doclist(atomic_df)"
   ]
  },
  {
   "cell_type": "code",
   "execution_count": 22,
   "metadata": {},
   "outputs": [],
   "source": [
    "class1_doclist = [doc for doc in atomic_doclist if doc.user_data['label'][0] == 1]\n",
    "class2_doclist = [doc for doc in atomic_doclist if doc.user_data['label'][1] == 1]\n",
    "class3_doclist = [doc for doc in atomic_doclist if doc.user_data['label'][2] == 1]"
   ]
  },
  {
   "cell_type": "code",
   "execution_count": 43,
   "metadata": {},
   "outputs": [],
   "source": [
    "class1_freq1_docs = [doc for doc in class1_doclist if doc.user_data['freq_diff'] < 1][:1000]\n",
    "class2_freq1_docs = [doc for doc in class2_doclist if doc.user_data['freq_diff'] < 5][:1000]\n",
    "class3_freq1_docs = [doc for doc in class3_doclist if doc.user_data['freq_diff'] < 5][:1000]"
   ]
  },
  {
   "cell_type": "code",
   "execution_count": 44,
   "metadata": {},
   "outputs": [
    {
     "data": {
      "text/plain": [
       "(1000, 525, 652)"
      ]
     },
     "execution_count": 44,
     "metadata": {},
     "output_type": "execute_result"
    }
   ],
   "source": [
    "len(class1_freq1_docs), len(class2_freq1_docs), len(class3_freq1_docs)"
   ]
  },
  {
   "cell_type": "code",
   "execution_count": 45,
   "metadata": {},
   "outputs": [],
   "source": [
    "test_samples = [doc.text for doc in class1_freq1_docs+class2_freq1_docs+class3_freq1_docs]"
   ]
  },
  {
   "cell_type": "code",
   "execution_count": 46,
   "metadata": {},
   "outputs": [
    {
     "data": {
      "text/plain": [
       "2177"
      ]
     },
     "execution_count": 46,
     "metadata": {},
     "output_type": "execute_result"
    }
   ],
   "source": [
    "len(test_samples)"
   ]
  },
  {
   "cell_type": "code",
   "execution_count": 47,
   "metadata": {},
   "outputs": [],
   "source": [
    "train_data, test_data = [], []\n",
    "\n",
    "for row in atomic_df.itertuples():\n",
    "    if row.text in test_samples:\n",
    "        test_data.append((row.text, row.label))\n",
    "    else:\n",
    "        train_data.append((row.text, row.label))"
   ]
  },
  {
   "cell_type": "code",
   "execution_count": 48,
   "metadata": {},
   "outputs": [],
   "source": [
    "new_train_df = pd.DataFrame(train_data, columns=[\"text\", \"label\"])\n",
    "new_test_df = pd.DataFrame(test_data, columns=[\"text\", \"label\"])"
   ]
  },
  {
   "cell_type": "code",
   "execution_count": 49,
   "metadata": {},
   "outputs": [
    {
     "name": "stderr",
     "output_type": "stream",
     "text": [
      "100%|██████████| 165332/165332 [00:00<00:00, 862240.57it/s]\n",
      "100%|██████████| 4093/4093 [00:00<00:00, 735782.88it/s]\n"
     ]
    }
   ],
   "source": [
    "from relation_modeling_utils import create_vocab\n",
    "train_vocab, test_vocab = create_vocab(new_train_df), create_vocab(new_test_df)"
   ]
  },
  {
   "cell_type": "code",
   "execution_count": 50,
   "metadata": {},
   "outputs": [
    {
     "data": {
      "text/plain": [
       "(0.03989473684210526, 0.22060535506402795)"
      ]
     },
     "execution_count": 50,
     "metadata": {},
     "output_type": "execute_result"
    }
   ],
   "source": [
    "len(train_vocab.intersection(test_vocab)) / len(train_vocab), len(train_vocab.intersection(test_vocab)) / len(test_vocab)"
   ]
  },
  {
   "cell_type": "code",
   "execution_count": 51,
   "metadata": {},
   "outputs": [],
   "source": [
    "from relation_modeling_utils import explode_labels\n",
    "new_train_df, new_test_df = explode_labels(new_train_df), explode_labels(new_test_df)"
   ]
  },
  {
   "cell_type": "code",
   "execution_count": 52,
   "metadata": {},
   "outputs": [
    {
     "data": {
      "text/plain": [
       "(1    1068\n",
       " 0     743\n",
       " Name: label_0, dtype: int64,\n",
       " 0    1286\n",
       " 1     525\n",
       " Name: label_1, dtype: int64,\n",
       " 0    1159\n",
       " 1     652\n",
       " Name: label_2, dtype: int64)"
      ]
     },
     "execution_count": 52,
     "metadata": {},
     "output_type": "execute_result"
    }
   ],
   "source": [
    "new_test_df.label_0.value_counts(), new_test_df.label_1.value_counts(), new_test_df.label_2.value_counts()"
   ]
  },
  {
   "cell_type": "code",
   "execution_count": 53,
   "metadata": {},
   "outputs": [
    {
     "data": {
      "text/plain": [
       "{('class_0', 0): 0.4102705687465489,\n",
       " ('class_0', 'class_0', 0, 0): 0.4102705687465489,\n",
       " ('class_0', 'class_0', 0, 1): 0.0,\n",
       " ('class_0', 1): 0.5897294312534511,\n",
       " ('class_0', 'class_0', 1, 0): 0.0,\n",
       " ('class_0', 'class_0', 1, 1): 0.5897294312534511,\n",
       " ('class_0', 'class_1', 0, 0): 0.16344561016013254,\n",
       " ('class_0', 'class_1', 0, 1): 0.24682495858641634,\n",
       " ('class_0', 'class_1', 1, 0): 0.5466593042517945,\n",
       " ('class_0', 'class_1', 1, 1): 0.04307012700165654,\n",
       " ('class_0', 'class_2', 0, 0): 0.05632247377139702,\n",
       " ('class_0', 'class_2', 0, 1): 0.35394809497515184,\n",
       " ('class_0', 'class_2', 1, 0): 0.5836554389839868,\n",
       " ('class_0', 'class_2', 1, 1): 0.006073992269464384,\n",
       " ('class_1', 0): 0.7101049144119271,\n",
       " ('class_1', 'class_0', 0, 0): 0.16344561016013254,\n",
       " ('class_1', 'class_0', 0, 1): 0.5466593042517945,\n",
       " ('class_1', 1): 0.28989508558807286,\n",
       " ('class_1', 'class_0', 1, 0): 0.24682495858641634,\n",
       " ('class_1', 'class_0', 1, 1): 0.04307012700165654,\n",
       " ('class_1', 'class_1', 0, 0): 0.7101049144119271,\n",
       " ('class_1', 'class_1', 0, 1): 0.0,\n",
       " ('class_1', 'class_1', 1, 0): 0.0,\n",
       " ('class_1', 'class_1', 1, 1): 0.28989508558807286,\n",
       " ('class_1', 'class_2', 0, 0): 0.5427940364439536,\n",
       " ('class_1', 'class_2', 0, 1): 0.1673108779679735,\n",
       " ('class_1', 'class_2', 1, 0): 0.09718387631143015,\n",
       " ('class_1', 'class_2', 1, 1): 0.19271120927664273,\n",
       " ('class_2', 0): 0.6399779127553837,\n",
       " ('class_2', 'class_0', 0, 0): 0.05632247377139702,\n",
       " ('class_2', 'class_0', 0, 1): 0.5836554389839868,\n",
       " ('class_2', 1): 0.3600220872446162,\n",
       " ('class_2', 'class_0', 1, 0): 0.35394809497515184,\n",
       " ('class_2', 'class_0', 1, 1): 0.006073992269464384,\n",
       " ('class_2', 'class_1', 0, 0): 0.5427940364439536,\n",
       " ('class_2', 'class_1', 0, 1): 0.09718387631143015,\n",
       " ('class_2', 'class_1', 1, 0): 0.1673108779679735,\n",
       " ('class_2', 'class_1', 1, 1): 0.19271120927664273,\n",
       " ('class_2', 'class_2', 0, 0): 0.6399779127553837,\n",
       " ('class_2', 'class_2', 0, 1): 0.0,\n",
       " ('class_2', 'class_2', 1, 0): 0.0,\n",
       " ('class_2', 'class_2', 1, 1): 0.3600220872446162}"
      ]
     },
     "execution_count": 53,
     "metadata": {},
     "output_type": "execute_result"
    }
   ],
   "source": [
    "from relation_modeling_utils import get_class_dist_report\n",
    "\n",
    "get_class_dist_report(new_test_df)"
   ]
  }
 ],
 "metadata": {
  "interpreter": {
   "hash": "7c3b128559c7e8fd624042ca8b6c93b33cd59aca7b58d05c9d4cd21ec1a84d35"
  },
  "kernelspec": {
   "display_name": "Python 3.8.12 ('kogito')",
   "language": "python",
   "name": "python3"
  },
  "language_info": {
   "codemirror_mode": {
    "name": "ipython",
    "version": 3
   },
   "file_extension": ".py",
   "mimetype": "text/x-python",
   "name": "python",
   "nbconvert_exporter": "python",
   "pygments_lexer": "ipython3",
   "version": "3.8.12"
  },
  "orig_nbformat": 4
 },
 "nbformat": 4,
 "nbformat_minor": 2
}
