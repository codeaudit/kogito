{
 "cells": [
  {
   "cell_type": "code",
   "execution_count": 1,
   "metadata": {},
   "outputs": [
    {
     "name": "stderr",
     "output_type": "stream",
     "text": [
      "2022-03-21 12:10:01.235587: W tensorflow/stream_executor/platform/default/dso_loader.cc:64] Could not load dynamic library 'libcudart.so.11.0'; dlerror: libcudart.so.11.0: cannot open shared object file: No such file or directory\n",
      "2022-03-21 12:10:01.235623: I tensorflow/stream_executor/cuda/cudart_stub.cc:29] Ignore above cudart dlerror if you do not have a GPU set up on your machine.\n"
     ]
    }
   ],
   "source": [
    "import tensorflow as tf\n",
    "from tensorflow import keras\n",
    "from tensorflow.keras import layers"
   ]
  },
  {
   "cell_type": "code",
   "execution_count": 2,
   "metadata": {},
   "outputs": [],
   "source": [
    "class TransformerBlock(layers.Layer):\n",
    "    def __init__(self, embed_dim, num_heads, ff_dim, rate=0.1):\n",
    "        super(TransformerBlock, self).__init__()\n",
    "        self.att = layers.MultiHeadAttention(num_heads=num_heads, key_dim=embed_dim)\n",
    "        self.ffn = keras.Sequential(\n",
    "            [layers.Dense(ff_dim, activation=\"relu\"), layers.Dense(embed_dim),]\n",
    "        )\n",
    "        self.layernorm1 = layers.LayerNormalization(epsilon=1e-6)\n",
    "        self.layernorm2 = layers.LayerNormalization(epsilon=1e-6)\n",
    "        self.dropout1 = layers.Dropout(rate)\n",
    "        self.dropout2 = layers.Dropout(rate)\n",
    "\n",
    "    def call(self, inputs, training):\n",
    "        attn_output = self.att(inputs, inputs)\n",
    "        attn_output = self.dropout1(attn_output, training=training)\n",
    "        out1 = self.layernorm1(inputs + attn_output)\n",
    "        ffn_output = self.ffn(out1)\n",
    "        ffn_output = self.dropout2(ffn_output, training=training)\n",
    "        return self.layernorm2(out1 + ffn_output)"
   ]
  },
  {
   "cell_type": "code",
   "execution_count": 3,
   "metadata": {},
   "outputs": [],
   "source": [
    "class TokenAndPositionEmbedding(layers.Layer):\n",
    "    def __init__(self, maxlen, vocab_size, embed_dim):\n",
    "        super(TokenAndPositionEmbedding, self).__init__()\n",
    "        self.token_emb = layers.Embedding(input_dim=vocab_size, output_dim=embed_dim)\n",
    "        self.pos_emb = layers.Embedding(input_dim=maxlen, output_dim=embed_dim)\n",
    "\n",
    "    def call(self, x):\n",
    "        maxlen = tf.shape(x)[-1]\n",
    "        positions = tf.range(start=0, limit=maxlen, delta=1)\n",
    "        positions = self.pos_emb(positions)\n",
    "        x = self.token_emb(x)\n",
    "        return x + positions"
   ]
  },
  {
   "cell_type": "code",
   "execution_count": 4,
   "metadata": {},
   "outputs": [],
   "source": [
    "from relation_modeling_utils import load_data\n",
    "\n",
    "train_df = load_data(\"data/atomic2020_data-feb2021/train.tsv\")\n",
    "dev_df = load_data(\"data/atomic2020_data-feb2021/dev.tsv\")"
   ]
  },
  {
   "cell_type": "code",
   "execution_count": 5,
   "metadata": {},
   "outputs": [
    {
     "name": "stderr",
     "output_type": "stream",
     "text": [
      "2022-03-21 12:10:28.537319: W tensorflow/stream_executor/platform/default/dso_loader.cc:64] Could not load dynamic library 'libcudart.so.11.0'; dlerror: libcudart.so.11.0: cannot open shared object file: No such file or directory\n",
      "2022-03-21 12:10:28.537409: W tensorflow/stream_executor/platform/default/dso_loader.cc:64] Could not load dynamic library 'libcublas.so.11'; dlerror: libcublas.so.11: cannot open shared object file: No such file or directory\n",
      "2022-03-21 12:10:28.537471: W tensorflow/stream_executor/platform/default/dso_loader.cc:64] Could not load dynamic library 'libcublasLt.so.11'; dlerror: libcublasLt.so.11: cannot open shared object file: No such file or directory\n",
      "2022-03-21 12:10:28.540522: W tensorflow/stream_executor/platform/default/dso_loader.cc:64] Could not load dynamic library 'libcusolver.so.11'; dlerror: libcusolver.so.11: cannot open shared object file: No such file or directory\n",
      "2022-03-21 12:10:28.540590: W tensorflow/stream_executor/platform/default/dso_loader.cc:64] Could not load dynamic library 'libcusparse.so.11'; dlerror: libcusparse.so.11: cannot open shared object file: No such file or directory\n",
      "2022-03-21 12:10:28.540650: W tensorflow/stream_executor/platform/default/dso_loader.cc:64] Could not load dynamic library 'libcudnn.so.8'; dlerror: libcudnn.so.8: cannot open shared object file: No such file or directory\n",
      "2022-03-21 12:10:28.540666: W tensorflow/core/common_runtime/gpu/gpu_device.cc:1850] Cannot dlopen some GPU libraries. Please make sure the missing libraries mentioned above are installed properly if you would like to use GPU. Follow the guide at https://www.tensorflow.org/install/gpu for how to download and setup the required libraries for your platform.\n",
      "Skipping registering GPU devices...\n",
      "2022-03-21 12:10:28.541099: I tensorflow/core/platform/cpu_feature_guard.cc:151] This TensorFlow binary is optimized with oneAPI Deep Neural Network Library (oneDNN) to use the following CPU instructions in performance-critical operations:  AVX2 FMA\n",
      "To enable them in other operations, rebuild TensorFlow with the appropriate compiler flags.\n"
     ]
    }
   ],
   "source": [
    "from tensorflow.keras.layers.experimental.preprocessing import TextVectorization\n",
    "\n",
    "embed_dim = 32  # Embedding size for each token\n",
    "num_heads = 2  # Number of attention heads\n",
    "ff_dim = 32  # Hidden layer size in feed forward network inside transformer\n",
    "maxlen = 16\n",
    "\n",
    "vectorizer = TextVectorization(output_sequence_length=maxlen)\n",
    "vectorizer.adapt(train_df.text)\n",
    "vocab_size = len(vectorizer.get_vocabulary())\n",
    "\n",
    "x_train = vectorizer(train_df.text)\n",
    "y_train = tf.convert_to_tensor(train_df.label.to_numpy())\n",
    "x_val = vectorizer(dev_df.text)\n",
    "y_val = tf.convert_to_tensor(dev_df.label.to_numpy())\n",
    "\n",
    "inputs = layers.Input(shape=(maxlen,))\n",
    "embedding_layer = TokenAndPositionEmbedding(maxlen, vocab_size, embed_dim)\n",
    "x = embedding_layer(inputs)\n",
    "transformer_block = TransformerBlock(embed_dim, num_heads, ff_dim)\n",
    "x = transformer_block(x)\n",
    "x = layers.GlobalAveragePooling1D()(x)\n",
    "x = layers.Dropout(0.1)(x)\n",
    "x = layers.Dense(20, activation=\"relu\")(x)\n",
    "x = layers.Dropout(0.1)(x)\n",
    "outputs = layers.Dense(3, activation=\"softmax\")(x)\n",
    "\n",
    "model = keras.Model(inputs=inputs, outputs=outputs)"
   ]
  },
  {
   "cell_type": "code",
   "execution_count": 6,
   "metadata": {},
   "outputs": [
    {
     "name": "stdout",
     "output_type": "stream",
     "text": [
      "Epoch 1/20\n",
      "1685/1685 [==============================] - 19s 11ms/step - loss: 0.7243 - accuracy: 0.6361 - val_loss: 0.8194 - val_accuracy: 0.5295\n",
      "Epoch 2/20\n",
      "1685/1685 [==============================] - 17s 10ms/step - loss: 0.6422 - accuracy: 0.6494 - val_loss: 0.7989 - val_accuracy: 0.5293\n",
      "Epoch 3/20\n",
      "1685/1685 [==============================] - 17s 10ms/step - loss: 0.6050 - accuracy: 0.6518 - val_loss: 0.8079 - val_accuracy: 0.5291\n",
      "Epoch 4/20\n",
      "1685/1685 [==============================] - 17s 10ms/step - loss: 0.5864 - accuracy: 0.6525 - val_loss: 0.8016 - val_accuracy: 0.5287\n",
      "Epoch 5/20\n",
      "1685/1685 [==============================] - 17s 10ms/step - loss: 0.5762 - accuracy: 0.6535 - val_loss: 0.8144 - val_accuracy: 0.5281\n",
      "Epoch 6/20\n",
      "1685/1685 [==============================] - 17s 10ms/step - loss: 0.5678 - accuracy: 0.6553 - val_loss: 0.8111 - val_accuracy: 0.5260\n",
      "Epoch 7/20\n",
      "1685/1685 [==============================] - 17s 10ms/step - loss: 0.5616 - accuracy: 0.6575 - val_loss: 0.8331 - val_accuracy: 0.5291\n",
      "Epoch 8/20\n",
      "1685/1685 [==============================] - 17s 10ms/step - loss: 0.5584 - accuracy: 0.6606 - val_loss: 0.8396 - val_accuracy: 0.5273\n",
      "Epoch 9/20\n",
      "1685/1685 [==============================] - 17s 10ms/step - loss: 0.5546 - accuracy: 0.6633 - val_loss: 0.8513 - val_accuracy: 0.5285\n",
      "Epoch 10/20\n",
      "1685/1685 [==============================] - 17s 10ms/step - loss: 0.5504 - accuracy: 0.6663 - val_loss: 0.8516 - val_accuracy: 0.5287\n",
      "Epoch 11/20\n",
      "1685/1685 [==============================] - 17s 10ms/step - loss: 0.5469 - accuracy: 0.6673 - val_loss: 0.8425 - val_accuracy: 0.5285\n",
      "Epoch 12/20\n",
      "1685/1685 [==============================] - 17s 10ms/step - loss: 0.5426 - accuracy: 0.6692 - val_loss: 0.8822 - val_accuracy: 0.5275\n",
      "Epoch 13/20\n",
      "1685/1685 [==============================] - 17s 10ms/step - loss: 0.5402 - accuracy: 0.6705 - val_loss: 0.8368 - val_accuracy: 0.5279\n",
      "Epoch 14/20\n",
      "1685/1685 [==============================] - 17s 10ms/step - loss: 0.5371 - accuracy: 0.6704 - val_loss: 0.8900 - val_accuracy: 0.5273\n",
      "Epoch 15/20\n",
      "1685/1685 [==============================] - 17s 10ms/step - loss: 0.5343 - accuracy: 0.6723 - val_loss: 0.9415 - val_accuracy: 0.5196\n",
      "Epoch 16/20\n",
      "1685/1685 [==============================] - 17s 10ms/step - loss: 0.5311 - accuracy: 0.6730 - val_loss: 0.8667 - val_accuracy: 0.5285\n",
      "Epoch 17/20\n",
      "1685/1685 [==============================] - 17s 10ms/step - loss: 0.5273 - accuracy: 0.6728 - val_loss: 0.9088 - val_accuracy: 0.5231\n",
      "Epoch 18/20\n",
      "1685/1685 [==============================] - 17s 10ms/step - loss: 0.5263 - accuracy: 0.6744 - val_loss: 0.8906 - val_accuracy: 0.5262\n",
      "Epoch 19/20\n",
      "1685/1685 [==============================] - 17s 10ms/step - loss: 0.5248 - accuracy: 0.6767 - val_loss: 0.9048 - val_accuracy: 0.5260\n",
      "Epoch 20/20\n",
      "1685/1685 [==============================] - 17s 10ms/step - loss: 0.5234 - accuracy: 0.6757 - val_loss: 0.8895 - val_accuracy: 0.5300\n"
     ]
    }
   ],
   "source": [
    "model.compile(optimizer=\"adam\", loss=\"sparse_categorical_crossentropy\", metrics=[\"accuracy\"])\n",
    "history = model.fit(\n",
    "    x_train, y_train, batch_size=32, epochs=20, validation_data=(x_val, y_val)\n",
    ")"
   ]
  }
 ],
 "metadata": {
  "interpreter": {
   "hash": "3e80d669f60bd34413df3f847d16a09f3fef6827513c4f925b04d67ca5f47b92"
  },
  "kernelspec": {
   "display_name": "Python 3.8.12 ('kogito')",
   "language": "python",
   "name": "python3"
  },
  "language_info": {
   "codemirror_mode": {
    "name": "ipython",
    "version": 3
   },
   "file_extension": ".py",
   "mimetype": "text/x-python",
   "name": "python",
   "nbconvert_exporter": "python",
   "pygments_lexer": "ipython3",
   "version": "3.8.12"
  },
  "orig_nbformat": 4
 },
 "nbformat": 4,
 "nbformat_minor": 2
}
