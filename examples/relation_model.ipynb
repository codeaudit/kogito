{
 "cells": [
  {
   "cell_type": "code",
   "execution_count": 18,
   "metadata": {},
   "outputs": [],
   "source": [
    "from kogito.core.relation import PHYSICAL_RELATIONS, SOCIAL_RELATIONS, EVENT_RELATIONS\n",
    "\n",
    "def load_data(datapath):\n",
    "    data = []\n",
    "    head_label_set = set()\n",
    "\n",
    "    with open(datapath) as f:\n",
    "        for line in f:\n",
    "            try:\n",
    "                head, relation, _ = line.split('\\t')\n",
    "\n",
    "                label = 0 \n",
    "\n",
    "                if relation in EVENT_RELATIONS:\n",
    "                    label = 1\n",
    "                elif relation in SOCIAL_RELATIONS:\n",
    "                    label = 2\n",
    "\n",
    "                if (head, label) not in head_label_set:\n",
    "                    data.append((head, label))\n",
    "                    head_label_set.add((head, label))\n",
    "            except:\n",
    "                pass\n",
    "\n",
    "    return data"
   ]
  },
  {
   "cell_type": "code",
   "execution_count": 23,
   "metadata": {},
   "outputs": [],
   "source": [
    "train_data = load_data(\"/Users/mismayil/Desktop/EPFL/nlplab/comet-atomic-2020/data/atomic2020_data-feb2021/train.tsv\")\n",
    "dev_data = load_data(\"/Users/mismayil/Desktop/EPFL/nlplab/comet-atomic-2020/data/atomic2020_data-feb2021/dev.tsv\")"
   ]
  },
  {
   "cell_type": "code",
   "execution_count": 24,
   "metadata": {},
   "outputs": [
    {
     "data": {
      "text/plain": [
       "(53891, 4823)"
      ]
     },
     "execution_count": 24,
     "metadata": {},
     "output_type": "execute_result"
    }
   ],
   "source": [
    "len(train_data), len(dev_data)"
   ]
  },
  {
   "cell_type": "code",
   "execution_count": 34,
   "metadata": {},
   "outputs": [],
   "source": [
    "import spacy\n",
    "from tqdm import tqdm\n",
    "nlp = spacy.load(\"en_core_web_lg\")\n",
    "\n",
    "label_map = ['physical', 'event', 'social']\n",
    "\n",
    "def make_docs(data):\n",
    "    \"\"\"\n",
    "    this will take a list of texts and labels \n",
    "    and transform them in spacy documents\n",
    "    \n",
    "    data: list(tuple(text, label))\n",
    "    \n",
    "    returns: List(spacy.Doc.doc)\n",
    "    \"\"\"\n",
    "    \n",
    "    docs = []\n",
    "    \n",
    "    for doc, label in tqdm(nlp.pipe(data, as_tuples=True), total = len(data)):\n",
    "        \n",
    "        for label_txt in label_map:\n",
    "            doc.cats[label_txt] = 0\n",
    "\n",
    "        doc.cats[label_map[label]] = 1\n",
    "        \n",
    "        # put them into a nice list\n",
    "        docs.append(doc)\n",
    "    \n",
    "    return docs"
   ]
  },
  {
   "cell_type": "code",
   "execution_count": 35,
   "metadata": {},
   "outputs": [
    {
     "name": "stderr",
     "output_type": "stream",
     "text": [
      "100%|██████████| 53891/53891 [00:45<00:00, 1176.59it/s]\n",
      "100%|██████████| 4823/4823 [00:04<00:00, 1183.67it/s]\n"
     ]
    }
   ],
   "source": [
    "from spacy.tokens import DocBin\n",
    "\n",
    "train_docs = make_docs(train_data)\n",
    "dev_docs = make_docs(dev_data)\n",
    "\n",
    "# then we save it in a binary file to disc\n",
    "train_doc_bin = DocBin(docs=train_docs)\n",
    "train_doc_bin.to_disk(\"./data/train.spacy\")\n",
    "\n",
    "dev_doc_bin = DocBin(docs=dev_docs)\n",
    "dev_doc_bin.to_disk(\"./data/dev.spacy\")"
   ]
  },
  {
   "cell_type": "code",
   "execution_count": null,
   "metadata": {},
   "outputs": [],
   "source": []
  }
 ],
 "metadata": {
  "interpreter": {
   "hash": "7c3b128559c7e8fd624042ca8b6c93b33cd59aca7b58d05c9d4cd21ec1a84d35"
  },
  "kernelspec": {
   "display_name": "Python 3.8.12 ('kogito')",
   "language": "python",
   "name": "python3"
  },
  "language_info": {
   "codemirror_mode": {
    "name": "ipython",
    "version": 3
   },
   "file_extension": ".py",
   "mimetype": "text/x-python",
   "name": "python",
   "nbconvert_exporter": "python",
   "pygments_lexer": "ipython3",
   "version": "3.8.12"
  },
  "orig_nbformat": 4
 },
 "nbformat": 4,
 "nbformat_minor": 2
}
