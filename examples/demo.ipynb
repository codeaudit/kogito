{
 "cells": [
  {
   "cell_type": "code",
   "execution_count": 5,
   "metadata": {},
   "outputs": [],
   "source": [
    "%load_ext autoreload\n",
    "%autoreload 2"
   ]
  },
  {
   "cell_type": "markdown",
   "metadata": {},
   "source": [
    "### Sample usage"
   ]
  },
  {
   "cell_type": "code",
   "execution_count": null,
   "metadata": {},
   "outputs": [],
   "source": [
    "from kogito.models.bart.comet_bart import COMETBART\n",
    "from kogito.inference import CommonsenseInference\n",
    "from kogito.models.base import KnowledgeModel\n",
    "from kogito.core.knowledge import KnowledgeGraph\n",
    "\n",
    "model: KnowledgeModel = COMETBART.from_pretrained(\"/Users/mismayil/Desktop/EPFL/nlplab/comet-atomic-2020/comet-atomic_2020_BART\")\n",
    "csi = CommonsenseInference()\n",
    "text = \"Gabby always brought cookies to school. But at lunch, everyone wanted them. And she had a hard time saying no. Gabby began to hate the other students. And at lunch, she ate far away from everyone.\"\n",
    "kgraph: KnowledgeGraph = csi.infer(text, model, model_args={\"num_generate\": 3, \"batch_size\": 128})\n",
    "kgraph.to_jsonl(\"kgraph2.json\")"
   ]
  },
  {
   "cell_type": "markdown",
   "metadata": {},
   "source": [
    "### Customizing processors"
   ]
  },
  {
   "cell_type": "code",
   "execution_count": null,
   "metadata": {},
   "outputs": [],
   "source": [
    "csi.processors"
   ]
  },
  {
   "cell_type": "code",
   "execution_count": null,
   "metadata": {},
   "outputs": [],
   "source": [
    "csi.remove_processor(\"noun_phrase_extractor\")"
   ]
  },
  {
   "cell_type": "code",
   "execution_count": null,
   "metadata": {},
   "outputs": [],
   "source": [
    "csi.processors"
   ]
  },
  {
   "cell_type": "code",
   "execution_count": null,
   "metadata": {},
   "outputs": [],
   "source": [
    "from kogito.core.head import KnowledgeHeadExtractor, KnowledgeHead, KnowledgeHeadType\n",
    "from typing import Optional, List\n",
    "from spacy.tokens import Doc\n",
    "\n",
    "import spacy\n",
    "\n",
    "class NounHeadExtractor(KnowledgeHeadExtractor):\n",
    "    def extract(self, text: str, doc: Optional[Doc] = None) -> List[KnowledgeHead]:\n",
    "        if not doc:\n",
    "            doc = self.lang(text)\n",
    "\n",
    "        heads = []\n",
    "\n",
    "        for token in doc:\n",
    "            if token.pos_ == \"NOUN\":\n",
    "                heads.append(KnowledgeHead(text=token.text, type=KnowledgeHeadType.NOUN_PHRASE, entity=token))\n",
    "        \n",
    "        return heads\n",
    "\n",
    "noun_extractor = NounHeadExtractor(\"noun_extractor\", spacy.load(\"en_core_web_sm\"))\n",
    "csi.add_processor(noun_extractor)"
   ]
  },
  {
   "cell_type": "code",
   "execution_count": null,
   "metadata": {},
   "outputs": [],
   "source": [
    "csi.processors"
   ]
  },
  {
   "cell_type": "code",
   "execution_count": 1,
   "metadata": {},
   "outputs": [
    {
     "name": "stderr",
     "output_type": "stream",
     "text": [
      "INFO:kogito.core.utils:using task specific params for summarization: {'early_stopping': True, 'length_penalty': 2.0, 'max_length': 24, 'min_length': 1, 'no_repeat_ngram_size': 3, 'num_beams': 4}\n"
     ]
    }
   ],
   "source": [
    "from kogito.inference import CommonsenseInference\n",
    "from kogito.core.knowledge import KnowledgeGraph\n",
    "from kogito.models.bart.comet_bart import COMETBART\n",
    "from kogito.models.base import KnowledgeModel\n",
    "\n",
    "csi = CommonsenseInference()\n",
    "model: KnowledgeModel = COMETBART.from_pretrained(\"/Users/mismayil/Desktop/EPFL/nlplab/comet-atomic-2020/comet-atomic_2020_BART\")\n"
   ]
  },
  {
   "cell_type": "markdown",
   "metadata": {},
   "source": [
    "### Dry-run"
   ]
  },
  {
   "cell_type": "code",
   "execution_count": 11,
   "metadata": {},
   "outputs": [
    {
     "name": "stdout",
     "output_type": "stream",
     "text": [
      "Extracting heads...\n",
      "Matching relations...\n"
     ]
    }
   ],
   "source": [
    "text = \"Gabby always brought cookies to school.\"\n",
    "kgraph: KnowledgeGraph = csi.infer(text, model, model_args={\"num_generate\": 3, \"batch_size\": 128}, dry_run=True)\n",
    "kgraph.to_jsonl(\"kgraph_dry_run.json\")"
   ]
  },
  {
   "cell_type": "markdown",
   "metadata": {},
   "source": [
    "### Relation subset"
   ]
  },
  {
   "cell_type": "code",
   "execution_count": 12,
   "metadata": {},
   "outputs": [
    {
     "name": "stdout",
     "output_type": "stream",
     "text": [
      "Extracting heads...\n",
      "Matching relations...\n"
     ]
    }
   ],
   "source": [
    "text = \"Gabby always brought cookies to school.\"\n",
    "kgraph: KnowledgeGraph = csi.infer(text, model, model_args={\"num_generate\": 3, \"batch_size\": 128}, dry_run=True, relations=[\"ObjectUse\", \"Causes\"])\n",
    "kgraph.to_jsonl(\"kgraph_rel_subset.json\")"
   ]
  },
  {
   "cell_type": "markdown",
   "metadata": {},
   "source": [
    "### No Head extraction"
   ]
  },
  {
   "cell_type": "code",
   "execution_count": 13,
   "metadata": {},
   "outputs": [
    {
     "name": "stdout",
     "output_type": "stream",
     "text": [
      "Matching relations...\n"
     ]
    }
   ],
   "source": [
    "text = \"Gabby always brought cookies to school.\"\n",
    "kgraph: KnowledgeGraph = csi.infer(text, model, model_args={\"num_generate\": 3, \"batch_size\": 128}, dry_run=True, extract_heads=False)\n",
    "kgraph.to_jsonl(\"kgraph_no_head_extract.json\")"
   ]
  },
  {
   "cell_type": "markdown",
   "metadata": {},
   "source": [
    "### No Relation matching and no subset of relations"
   ]
  },
  {
   "cell_type": "code",
   "execution_count": 14,
   "metadata": {},
   "outputs": [
    {
     "name": "stdout",
     "output_type": "stream",
     "text": [
      "Extracting heads...\n"
     ]
    },
    {
     "ename": "ValueError",
     "evalue": "No relation found to match",
     "output_type": "error",
     "traceback": [
      "\u001b[0;31m---------------------------------------------------------------------------\u001b[0m",
      "\u001b[0;31mValueError\u001b[0m                                Traceback (most recent call last)",
      "\u001b[1;32m/Users/mismayil/Desktop/EPFL/nlplab/kogito/examples/demo.ipynb Cell 18'\u001b[0m in \u001b[0;36m<cell line: 2>\u001b[0;34m()\u001b[0m\n\u001b[1;32m      <a href='vscode-notebook-cell:/Users/mismayil/Desktop/EPFL/nlplab/kogito/examples/demo.ipynb#ch0000022?line=0'>1</a>\u001b[0m text \u001b[39m=\u001b[39m \u001b[39m\"\u001b[39m\u001b[39mGabby always brought cookies to school.\u001b[39m\u001b[39m\"\u001b[39m\n\u001b[0;32m----> <a href='vscode-notebook-cell:/Users/mismayil/Desktop/EPFL/nlplab/kogito/examples/demo.ipynb#ch0000022?line=1'>2</a>\u001b[0m kgraph: KnowledgeGraph \u001b[39m=\u001b[39m csi\u001b[39m.\u001b[39;49minfer(text, model, model_args\u001b[39m=\u001b[39;49m{\u001b[39m\"\u001b[39;49m\u001b[39mnum_generate\u001b[39;49m\u001b[39m\"\u001b[39;49m: \u001b[39m3\u001b[39;49m, \u001b[39m\"\u001b[39;49m\u001b[39mbatch_size\u001b[39;49m\u001b[39m\"\u001b[39;49m: \u001b[39m128\u001b[39;49m}, dry_run\u001b[39m=\u001b[39;49m\u001b[39mTrue\u001b[39;49;00m, match_relations\u001b[39m=\u001b[39;49m\u001b[39mFalse\u001b[39;49;00m)\n\u001b[1;32m      <a href='vscode-notebook-cell:/Users/mismayil/Desktop/EPFL/nlplab/kogito/examples/demo.ipynb#ch0000022?line=2'>3</a>\u001b[0m kgraph\u001b[39m.\u001b[39mto_jsonl(\u001b[39m\"\u001b[39m\u001b[39mkgraph_no_head_extract.json\u001b[39m\u001b[39m\"\u001b[39m)\n",
      "File \u001b[0;32m~/Desktop/EPFL/nlplab/kogito/kogito/inference.py:73\u001b[0m, in \u001b[0;36mCommonsenseInference.infer\u001b[0;34m(self, text, model, model_args, extract_heads, match_relations, relations, dry_run)\u001b[0m\n\u001b[1;32m     <a href='file:///Users/mismayil/Desktop/EPFL/nlplab/kogito/kogito/inference.py?line=70'>71</a>\u001b[0m     head_relations\u001b[39m.\u001b[39mextend(\u001b[39mlist\u001b[39m(product(heads, relations)))\n\u001b[1;32m     <a href='file:///Users/mismayil/Desktop/EPFL/nlplab/kogito/kogito/inference.py?line=71'>72</a>\u001b[0m \u001b[39melse\u001b[39;00m:\n\u001b[0;32m---> <a href='file:///Users/mismayil/Desktop/EPFL/nlplab/kogito/kogito/inference.py?line=72'>73</a>\u001b[0m     \u001b[39mraise\u001b[39;00m \u001b[39mValueError\u001b[39;00m(\u001b[39m\"\u001b[39m\u001b[39mNo relation found to match\u001b[39m\u001b[39m\"\u001b[39m)\n\u001b[1;32m     <a href='file:///Users/mismayil/Desktop/EPFL/nlplab/kogito/kogito/inference.py?line=74'>75</a>\u001b[0m kg_list \u001b[39m=\u001b[39m []\n\u001b[1;32m     <a href='file:///Users/mismayil/Desktop/EPFL/nlplab/kogito/kogito/inference.py?line=76'>77</a>\u001b[0m \u001b[39mfor\u001b[39;00m head_relation \u001b[39min\u001b[39;00m head_relations:\n",
      "\u001b[0;31mValueError\u001b[0m: No relation found to match"
     ]
    }
   ],
   "source": [
    "text = \"Gabby always brought cookies to school.\"\n",
    "kgraph: KnowledgeGraph = csi.infer(text, model, model_args={\"num_generate\": 3, \"batch_size\": 128}, dry_run=True, match_relations=False)"
   ]
  },
  {
   "cell_type": "markdown",
   "metadata": {},
   "source": [
    "### No Relation matching with subset of relations"
   ]
  },
  {
   "cell_type": "code",
   "execution_count": 15,
   "metadata": {},
   "outputs": [
    {
     "name": "stdout",
     "output_type": "stream",
     "text": [
      "Extracting heads...\n"
     ]
    }
   ],
   "source": [
    "text = \"Gabby always brought cookies to school.\"\n",
    "kgraph: KnowledgeGraph = csi.infer(text, model, model_args={\"num_generate\": 3, \"batch_size\": 128}, dry_run=True, match_relations=False, relations=[\"Causes\", \"Desires\"])\n",
    "kgraph.to_jsonl(\"kgraph_no_match_subset.json\")"
   ]
  },
  {
   "cell_type": "markdown",
   "metadata": {},
   "source": [
    "### No Head extraction, no Relation matching with subset of relations (hence, ultimate manual specification)"
   ]
  },
  {
   "cell_type": "code",
   "execution_count": 16,
   "metadata": {},
   "outputs": [],
   "source": [
    "text = \"Gabby always brought cookies to school.\"\n",
    "kgraph: KnowledgeGraph = csi.infer(text, model, model_args={\"num_generate\": 3, \"batch_size\": 128}, dry_run=True, extract_heads=False, match_relations=False, relations=[\"Causes\", \"Desires\"])\n",
    "kgraph.to_jsonl(\"kgraph_manual.json\")"
   ]
  },
  {
   "cell_type": "markdown",
   "metadata": {},
   "source": [
    "### Low-level API"
   ]
  },
  {
   "cell_type": "code",
   "execution_count": null,
   "metadata": {},
   "outputs": [],
   "source": [
    "model.train(input_graph)\n",
    "output_graph = model.generate(input_graph)\n",
    "# model.evaluate(...)"
   ]
  },
  {
   "cell_type": "markdown",
   "metadata": {},
   "source": []
  }
 ],
 "metadata": {
  "interpreter": {
   "hash": "7c3b128559c7e8fd624042ca8b6c93b33cd59aca7b58d05c9d4cd21ec1a84d35"
  },
  "kernelspec": {
   "display_name": "Python 3.7.11 ('kogito')",
   "language": "python",
   "name": "python3"
  },
  "language_info": {
   "codemirror_mode": {
    "name": "ipython",
    "version": 3
   },
   "file_extension": ".py",
   "mimetype": "text/x-python",
   "name": "python",
   "nbconvert_exporter": "python",
   "pygments_lexer": "ipython3",
   "version": "3.8.12"
  },
  "orig_nbformat": 4
 },
 "nbformat": 4,
 "nbformat_minor": 2
}
