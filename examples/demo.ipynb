{
 "cells": [
  {
   "cell_type": "code",
   "execution_count": 1,
   "metadata": {},
   "outputs": [],
   "source": [
    "%load_ext autoreload\n",
    "%autoreload 2"
   ]
  },
  {
   "cell_type": "markdown",
   "metadata": {},
   "source": [
    "### Sample usage"
   ]
  },
  {
   "cell_type": "code",
   "execution_count": 1,
   "metadata": {},
   "outputs": [
    {
     "name": "stderr",
     "output_type": "stream",
     "text": [
      "INFO:kogito.core.utils:using task specific params for summarization: {'early_stopping': True, 'length_penalty': 2.0, 'max_length': 24, 'min_length': 1, 'no_repeat_ngram_size': 3, 'num_beams': 4}\n"
     ]
    },
    {
     "name": "stdout",
     "output_type": "stream",
     "text": [
      "Extracting heads...\n",
      "Matching relations...\n",
      "Generating commonsense graph...\n"
     ]
    }
   ],
   "source": [
    "from kogito.models.bart.comet_bart import COMETBART\n",
    "from kogito.inference import CommonsenseInference\n",
    "from kogito.models.base import KnowledgeModel\n",
    "from kogito.core.knowledge import KnowledgeGraph\n",
    "\n",
    "model: KnowledgeModel = COMETBART.from_pretrained(\"/Users/mismayil/Desktop/EPFL/nlplab/comet-atomic-2020/comet-atomic_2020_BART\")\n",
    "csi = CommonsenseInference()\n",
    "text = \"Gabby always brought cookies to school. But at lunch, everyone wanted them. And she had a hard time saying no. Gabby began to hate the other students. And at lunch, she ate far away from everyone.\"\n",
    "kgraph: KnowledgeGraph = csi.infer(text, model, model_args={\"num_generate\": 3, \"batch_size\": 128})\n",
    "kgraph.to_jsonl(\"kgraph2.json\")"
   ]
  },
  {
   "cell_type": "markdown",
   "metadata": {},
   "source": [
    "### Customizing processors"
   ]
  },
  {
   "cell_type": "code",
   "execution_count": 2,
   "metadata": {},
   "outputs": [
    {
     "data": {
      "text/plain": [
       "{'head': ['sentence_extractor',\n",
       "  'noun_phrase_extractor',\n",
       "  'verb_phrase_extractor'],\n",
       " 'relation': ['simple_matcher']}"
      ]
     },
     "execution_count": 2,
     "metadata": {},
     "output_type": "execute_result"
    }
   ],
   "source": [
    "csi.processors"
   ]
  },
  {
   "cell_type": "code",
   "execution_count": 6,
   "metadata": {},
   "outputs": [],
   "source": [
    "csi.remove_processor(\"noun_phrase_extractor\")"
   ]
  },
  {
   "cell_type": "code",
   "execution_count": 7,
   "metadata": {},
   "outputs": [
    {
     "data": {
      "text/plain": [
       "{'head': ['sentence_extractor', 'phrase_extractor'],\n",
       " 'relation': ['simple_matcher']}"
      ]
     },
     "execution_count": 7,
     "metadata": {},
     "output_type": "execute_result"
    }
   ],
   "source": [
    "csi.processors"
   ]
  },
  {
   "cell_type": "code",
   "execution_count": 12,
   "metadata": {},
   "outputs": [],
   "source": [
    "from kogito.core.head import KnowledgeHeadExtractor, KnowledgeHead, KnowledgeHeadType\n",
    "from typing import Optional, List\n",
    "from spacy.tokens import Doc\n",
    "\n",
    "import spacy\n",
    "\n",
    "class NounHeadExtractor(KnowledgeHeadExtractor):\n",
    "    def extract(self, text: str, doc: Optional[Doc] = None) -> List[KnowledgeHead]:\n",
    "        if not doc:\n",
    "            doc = self.lang(text)\n",
    "\n",
    "        heads = []\n",
    "\n",
    "        for token in doc:\n",
    "            if token.pos_ == \"NOUN\":\n",
    "                heads.append(KnowledgeHead(text=token.text, type=KnowledgeHeadType.NOUN_PHRASE, entity=token))\n",
    "        \n",
    "        return heads\n",
    "\n",
    "noun_extractor = NounHeadExtractor(\"noun_extractor\", spacy.load(\"en_core_web_sm\"))\n",
    "csi.add_processor(noun_extractor)"
   ]
  },
  {
   "cell_type": "code",
   "execution_count": 13,
   "metadata": {},
   "outputs": [
    {
     "data": {
      "text/plain": [
       "{'head': ['sentence_extractor', 'phrase_extractor', 'noun_extractor'],\n",
       " 'relation': ['simple_matcher']}"
      ]
     },
     "execution_count": 13,
     "metadata": {},
     "output_type": "execute_result"
    }
   ],
   "source": [
    "csi.processors"
   ]
  },
  {
   "cell_type": "markdown",
   "metadata": {},
   "source": [
    "### Low-level API"
   ]
  },
  {
   "cell_type": "code",
   "execution_count": null,
   "metadata": {},
   "outputs": [],
   "source": [
    "model.train(input_graph)\n",
    "output_graph = model.generate(input_graph)\n",
    "# model.evaluate(...)"
   ]
  },
  {
   "cell_type": "markdown",
   "metadata": {},
   "source": []
  }
 ],
 "metadata": {
  "interpreter": {
   "hash": "7c3b128559c7e8fd624042ca8b6c93b33cd59aca7b58d05c9d4cd21ec1a84d35"
  },
  "kernelspec": {
   "display_name": "Python 3.7.11 ('kogito')",
   "language": "python",
   "name": "python3"
  },
  "language_info": {
   "codemirror_mode": {
    "name": "ipython",
    "version": 3
   },
   "file_extension": ".py",
   "mimetype": "text/x-python",
   "name": "python",
   "nbconvert_exporter": "python",
   "pygments_lexer": "ipython3",
   "version": "3.8.12"
  },
  "orig_nbformat": 4
 },
 "nbformat": 4,
 "nbformat_minor": 2
}
